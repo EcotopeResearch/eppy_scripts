{
 "cells": [
  {
   "cell_type": "code",
   "execution_count": 1,
   "metadata": {},
   "outputs": [],
   "source": [
    "import numpy as np\n",
    "import pandas as pd\n",
    "import sys\n",
    "\n",
    "from eppy import hvacbuilder\n",
    "from eppy import modeleditor\n",
    "from eppy.modeleditor import IDF"
   ]
  },
  {
   "cell_type": "code",
   "execution_count": 2,
   "metadata": {},
   "outputs": [],
   "source": [
    "# this function determines what idf version and connects the idd for eppy\n",
    "def eppy_connection(idffile):\n",
    "    fp = open(idffile)\n",
    "    lines=fp.readlines()\n",
    "    vers = \"\"\n",
    "    vers = vers.join(lines[0:20])\n",
    "    vers\n",
    "    if vers.find('8.7') != -1:\n",
    "        print('Using EnergyPlus version 8.7')\n",
    "        iddfile = 'C:\\\\EnergyPlusV8-7-0\\\\Energy+.idd'\n",
    "        IDF.setiddname(iddfile)\n",
    "        idf = IDF(idffile)\n",
    "        return idf\n",
    "    elif vers.find('8.8') != -1:\n",
    "        print('Using EnergyPlus version 8.8')\n",
    "        iddfile = 'C:\\\\EnergyPlusV8-8-0\\\\Energy+.idd'\n",
    "        IDF.setiddname(iddfile)\n",
    "        idf = IDF(idffile)\n",
    "        return idf\n",
    "    elif vers.find('8.9') != -1:\n",
    "        print('Using EnergyPlus version 8.9')\n",
    "        iddfile = 'C:\\\\EnergyPlusV8-9-0\\\\Energy+.idd'\n",
    "        IDF.setiddname(iddfile)\n",
    "        idf = IDF(idffile)\n",
    "        return idf\n",
    "    elif vers.find('9.0') != -1:\n",
    "        print('Using EnergyPlus version 9.0.1')\n",
    "        iddfile = 'C:\\\\EnergyPlusV9-0-1\\\\Energy+.idd'\n",
    "        IDF.setiddname(iddfile)\n",
    "        idf = IDF(idffile)\n",
    "        return idf\n",
    "    else:\n",
    "        print('IDF Type not found on line 3')"
   ]
  },
  {
   "cell_type": "code",
   "execution_count": 32,
   "metadata": {},
   "outputs": [
    {
     "name": "stdout",
     "output_type": "stream",
     "text": [
      "Using EnergyPlus version 9.0.1\n"
     ]
    }
   ],
   "source": [
    "#define paths\n",
    "path = 'C:\\\\Users\\\\scott\\\\github\\\\sbcc-comm\\\\trunk\\\\Models_WSEC-Output\\\\Batch_WSEC_r181_030420\\\\IDF_r181_030420\\\\'\n",
    "name = 'SchlSec_2018B_Sttle - ap.idf'\n",
    "#make connections\n",
    "idf= eppy_connection(path+name)\n"
   ]
  },
  {
   "cell_type": "markdown",
   "metadata": {},
   "source": [
    "### Get IDF Objects"
   ]
  },
  {
   "cell_type": "code",
   "execution_count": 36,
   "metadata": {},
   "outputs": [],
   "source": [
    "# get all equipment loads\n",
    "elecEquip = idf.idfobjects['ElectricEquipment']\n",
    "gasEquip = idf.idfobjects['GasEquipment']\n",
    "\n",
    "# get all schedules\n",
    "schedYear = idf.idfobjects['Schedule:Year']\n",
    "schedWeek = idf.idfobjects['Schedule:Week:Daily']\n",
    "schedDay = idf.idfobjects['Schedule:Day:Interval']"
   ]
  },
  {
   "cell_type": "markdown",
   "metadata": {},
   "source": [
    "### Get Equipment Loads "
   ]
  },
  {
   "cell_type": "code",
   "execution_count": 42,
   "metadata": {},
   "outputs": [],
   "source": [
    "# Create dictionary of equipment names and loads\n",
    "\n",
    "# Create empty dictionary\n",
    "elecEquipLoadArea = {}\n",
    "\n",
    "for i in range(0, len(elecEquip)):\n",
    "    elecEquipLoads[elecEquip[i].Name] = (elecEquip[i].Watts_per_Zone_Floor_Area / 10.76)"
   ]
  },
  {
   "cell_type": "markdown",
   "metadata": {},
   "source": [
    "### Pull and Sort Schedules"
   ]
  },
  {
   "cell_type": "code",
   "execution_count": 27,
   "metadata": {},
   "outputs": [],
   "source": [
    "# get schedules for eleEquip\n",
    "# set() gives unique values only\n",
    "schedElecEquipNames = set([x.Schedule_Name for x in elecEquip])\n",
    "schedElecEquipNames = list(schedElecEquipNames)"
   ]
  },
  {
   "cell_type": "code",
   "execution_count": 52,
   "metadata": {},
   "outputs": [],
   "source": [
    "# make list of year schedules\n",
    "schedElecEquipYear = []\n",
    "for i in range(0,len(schedElecEquipNames)):\n",
    "    # get schedules from schedule names\n",
    "    schedElecEquipYear.append([x for x in schedYear if x.Name == schedElecEquipNames[i]][0])\n",
    "    \n",
    "# make list of day schedules\n",
    "schedElecEquipWeek = []\n",
    "for i in range(0, len(schedElecEquipYear)):\n",
    "    if schedElecEquipYear[0].ScheduleWeek_Name_1\n",
    "    \n",
    "    \n",
    "    "
   ]
  },
  {
   "cell_type": "code",
   "execution_count": 59,
   "metadata": {},
   "outputs": [
    {
     "data": {
      "text/plain": [
       "'SchlSprgEquipmentWk'"
      ]
     },
     "execution_count": 59,
     "metadata": {},
     "output_type": "execute_result"
    }
   ],
   "source": [
    "schedElecEquipYear[0].ScheduleWeek_Name_1"
   ]
  },
  {
   "cell_type": "code",
   "execution_count": 66,
   "metadata": {},
   "outputs": [
    {
     "data": {
      "text/plain": [
       "[\n",
       " Schedule:Week:Daily,\n",
       "     SchlKtchSprgElecEquipmentWk,    !- Name\n",
       "     SchlKtchSprgElecEquipmentSun,    !- Sunday ScheduleDay Name\n",
       "     SchlKtchSprgElecEquipmentWD,    !- Monday ScheduleDay Name\n",
       "     SchlKtchSprgElecEquipmentWD,    !- Tuesday ScheduleDay Name\n",
       "     SchlKtchSprgElecEquipmentWD,    !- Wednesday ScheduleDay Name\n",
       "     SchlKtchSprgElecEquipmentWD,    !- Thursday ScheduleDay Name\n",
       "     SchlKtchSprgElecEquipmentWD,    !- Friday ScheduleDay Name\n",
       "     SchlKtchSprgElecEquipmentSat,    !- Saturday ScheduleDay Name\n",
       "     SchlKtchSprgElecEquipmentSun,    !- Holiday ScheduleDay Name\n",
       "     OnDay,                    !- SummerDesignDay ScheduleDay Name\n",
       "     OffDay,                   !- WinterDesignDay ScheduleDay Name\n",
       "     SchlKtchSprgElecEquipmentSun,    !- CustomDay1 ScheduleDay Name\n",
       "     SchlKtchSprgElecEquipmentSun;    !- CustomDay2 ScheduleDay Name]"
      ]
     },
     "execution_count": 66,
     "metadata": {},
     "output_type": "execute_result"
    }
   ],
   "source": [
    "[x for x in schedWeek if x.Name == schedElecEquipYear[2].ScheduleWeek_Name_1]"
   ]
  },
  {
   "cell_type": "code",
   "execution_count": null,
   "metadata": {},
   "outputs": [],
   "source": []
  }
 ],
 "metadata": {
  "kernelspec": {
   "display_name": "Python 3",
   "language": "python",
   "name": "python3"
  },
  "language_info": {
   "codemirror_mode": {
    "name": "ipython",
    "version": 3
   },
   "file_extension": ".py",
   "mimetype": "text/x-python",
   "name": "python",
   "nbconvert_exporter": "python",
   "pygments_lexer": "ipython3",
   "version": "3.7.3"
  }
 },
 "nbformat": 4,
 "nbformat_minor": 2
}
