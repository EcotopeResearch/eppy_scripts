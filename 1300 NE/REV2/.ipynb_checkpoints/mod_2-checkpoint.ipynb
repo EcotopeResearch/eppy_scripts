{
 "cells": [
  {
   "cell_type": "code",
   "execution_count": 31,
   "metadata": {},
   "outputs": [],
   "source": [
    "import numpy as np\n",
    "import pandas as pd\n",
    "import sys\n",
    "import os\n",
    "\n",
    "from eppy import hvacbuilder\n",
    "from eppy import modeleditor\n",
    "from eppy.modeleditor import IDF"
   ]
  },
  {
   "cell_type": "markdown",
   "metadata": {},
   "source": [
    "## Connect IDF File to Eppy"
   ]
  },
  {
   "cell_type": "code",
   "execution_count": 2,
   "metadata": {},
   "outputs": [],
   "source": [
    "## this function determines what idf version and connects the idd for eppy\n",
    "\n",
    "def eppy_connection(idffile):\n",
    "    fp = open(idffile)\n",
    "    lines=fp.readlines()\n",
    "    vers = \"\"\n",
    "    vers = vers.join(lines[2:12])\n",
    "    vers\n",
    "    if vers.find('8.7') != -1:\n",
    "        print('Using EnergyPlus version 8.7')\n",
    "        iddfile = 'C:\\\\EnergyPlusV8-7-0\\\\Energy+.idd'\n",
    "        IDF.setiddname(iddfile)\n",
    "        idf = IDF(idffile)\n",
    "        return idf\n",
    "    elif vers.find('8.8') != -1:\n",
    "        print('Using EnergyPlus version 8.8')\n",
    "        iddfile = 'C:\\\\EnergyPlusV8-8-0\\\\Energy+.idd'\n",
    "        IDF.setiddname(iddfile)\n",
    "        idf = IDF(idffile)\n",
    "        return idf\n",
    "    elif vers.find('8.9') != -1:\n",
    "        print('Using EnergyPlus version 8.9')\n",
    "        iddfile = 'C:\\\\EnergyPlusV8-9-0\\\\Energy+.idd'\n",
    "        IDF.setiddname(iddfile)\n",
    "        idf = IDF(idffile)\n",
    "        return idf\n",
    "    elif vers.find('9.0') != -1:\n",
    "        print('Using EnergyPlus version 9.0.1')\n",
    "        iddfile = 'C:\\\\EnergyPlusV9-0-1\\\\Energy+.idd'\n",
    "        IDF.setiddname(iddfile)\n",
    "        idf = IDF(idffile)\n",
    "        return idf\n",
    "    elif vers.find('9.3') != -1:\n",
    "        print('Using EnergyPlus version 9.3')\n",
    "        iddfile = 'C:\\\\EnergyPlusV9-3-0\\\\Energy+.idd'\n",
    "        IDF.setiddname(iddfile)\n",
    "        idf = IDF(idffile)\n",
    "        return idf\n",
    "    else:\n",
    "        print('IDF Type not found on line 3')"
   ]
  },
  {
   "cell_type": "code",
   "execution_count": 3,
   "metadata": {},
   "outputs": [
    {
     "name": "stdout",
     "output_type": "stream",
     "text": [
      "Using EnergyPlus version 9.3\n"
     ]
    }
   ],
   "source": [
    "## CONNECT IDFS\n",
    "\n",
    "#define paths\n",
    "proposed_file = 'proposed_2nd-km1.idf'\n",
    "\n",
    "#make connections\n",
    "proposed = eppy_connection(proposed_file)"
   ]
  },
  {
   "cell_type": "markdown",
   "metadata": {},
   "source": [
    "## Input VRF Terminal Unit Airflows"
   ]
  },
  {
   "cell_type": "code",
   "execution_count": 58,
   "metadata": {},
   "outputs": [],
   "source": [
    "csv = pd.read_csv(\"proposed_airflow_vrf.csv\")"
   ]
  },
  {
   "cell_type": "code",
   "execution_count": 64,
   "metadata": {},
   "outputs": [],
   "source": [
    "# read idf file and make list of vrf objects\n",
    "vrf_terminals = proposed.idfobjects[\"ZoneHVAC:TerminalUnit:VariableRefrigerantFlow\"]\n",
    "\n",
    "# create csv file to match coils\n",
    "vrf_key = pd.DataFrame()\n",
    "n = []\n",
    "z = []\n",
    "cc = []\n",
    "hc = []\n",
    "\n",
    "# loop through idfs and create dictionary\n",
    "for i in range(0, len(csv)):\n",
    "    \n",
    "    zone = csv['zone'][i]\n",
    "    airflow = csv['airflow'][i]\n",
    "    \n",
    "    vrf_terminal = [x for x in vrf_terminals if zone[-4:] in x.Zone_Terminal_Unit_Name]\n",
    "    vrf_terminal[0].Cooling_Supply_Air_Flow_Rate = airflow\n",
    "    vrf_terminal[0].No_Cooling_Supply_Air_Flow_Rate = airflow\n",
    "    vrf_terminal[0].Heating_Supply_Air_Flow_Rate = airflow\n",
    "    vrf_terminal[0].No_Heating_Supply_Air_Flow_Rate = airflow\n",
    "    \n",
    "    n.append(vrf_terminal[0].Zone_Terminal_Unit_Name)\n",
    "    z.append(zone)\n",
    "    cc.append(vrf_terminal[0].Cooling_Coil_Object_Name)\n",
    "    hc.append(vrf_terminal[0].Heating_Coil_Object_Name)\n",
    "\n",
    "vrf_key['Zone Name'] = z\n",
    "vrf_key['VRF Terminal Name'] = n\n",
    "vrf_key['Cooling Coil Name'] = cc\n",
    "vrf_key['Heating Coil Name'] = hc"
   ]
  },
  {
   "cell_type": "code",
   "execution_count": 66,
   "metadata": {},
   "outputs": [],
   "source": [
    "vrf_key.to_csv('vrf_key.csv')"
   ]
  },
  {
   "cell_type": "markdown",
   "metadata": {},
   "source": [
    "## Input RTU-01 Airflow"
   ]
  },
  {
   "cell_type": "code",
   "execution_count": 44,
   "metadata": {},
   "outputs": [],
   "source": [
    "rtu = [x for x in proposed.idfobjects[\"Sizing:System\"] if \"RTU-01\" in x.AirLoop_Name]\n",
    "rtu[0].Design_Outdoor_Air_Flow_Rate = 1.415812\n",
    "\n",
    "# coil mods\n",
    "# cc = 35031.56\n",
    "# hc = autosize\n"
   ]
  },
  {
   "cell_type": "markdown",
   "metadata": {},
   "source": [
    "## Input PTHP Airflows"
   ]
  },
  {
   "cell_type": "code",
   "execution_count": 47,
   "metadata": {},
   "outputs": [],
   "source": [
    "csv = pd.read_csv('proposed_airflow_pthp.csv')"
   ]
  },
  {
   "cell_type": "code",
   "execution_count": 54,
   "metadata": {},
   "outputs": [],
   "source": [
    "# read idf file and make list of vrf objects\n",
    "pthps = proposed.idfobjects[\"ZoneHVAC:PackagedTerminalHeatPump\"]\n",
    "\n",
    "# loop through idfs and create dictionary\n",
    "for i in range(0, len(csv)):\n",
    "    \n",
    "    zone = csv['zone'][i]\n",
    "    airflow = csv['airflow'][i]\n",
    "    \n",
    "    pthp = [x for x in pthps if zone[-4:] in x.Name]\n",
    "    pthp[0].Cooling_Supply_Air_Flow_Rate = airflow\n",
    "    pthp[0].No_Load_Supply_Air_Flow_Rate = airflow\n",
    "    pthp[0].Heating_Supply_Air_Flow_Rate = airflow"
   ]
  },
  {
   "cell_type": "markdown",
   "metadata": {},
   "source": [
    "## Save IDF"
   ]
  },
  {
   "cell_type": "code",
   "execution_count": 56,
   "metadata": {},
   "outputs": [],
   "source": [
    "proposed.save()"
   ]
  },
  {
   "cell_type": "code",
   "execution_count": null,
   "metadata": {},
   "outputs": [],
   "source": []
  }
 ],
 "metadata": {
  "kernelspec": {
   "display_name": "Python 3",
   "language": "python",
   "name": "python3"
  },
  "language_info": {
   "codemirror_mode": {
    "name": "ipython",
    "version": 3
   },
   "file_extension": ".py",
   "mimetype": "text/x-python",
   "name": "python",
   "nbconvert_exporter": "python",
   "pygments_lexer": "ipython3",
   "version": "3.7.3"
  }
 },
 "nbformat": 4,
 "nbformat_minor": 4
}
