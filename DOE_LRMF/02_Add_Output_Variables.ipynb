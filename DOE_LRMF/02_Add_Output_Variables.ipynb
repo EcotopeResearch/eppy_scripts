{
 "cells": [
  {
   "cell_type": "code",
   "execution_count": 1,
   "metadata": {},
   "outputs": [],
   "source": [
    "import numpy as np\n",
    "import pandas as pd\n",
    "import sys\n",
    "\n",
    "from eppy import hvacbuilder\n",
    "from eppy import modeleditor\n",
    "from eppy.modeleditor import IDF"
   ]
  },
  {
   "cell_type": "code",
   "execution_count": 2,
   "metadata": {},
   "outputs": [],
   "source": [
    "def eppy_connection(idffile):\n",
    "    fp = open(idffile)\n",
    "    lines=fp.readlines()\n",
    "    vers = \"\"\n",
    "    vers = vers.join(lines[2:12])\n",
    "    vers\n",
    "    if vers.find('8.7') != -1:\n",
    "        print('Using EnergyPlus version 8.7')\n",
    "        iddfile = 'C:\\\\EnergyPlusV8-7-0\\\\Energy+.idd'\n",
    "        IDF.setiddname(iddfile)\n",
    "        idf = IDF(idffile)\n",
    "        return idf\n",
    "    elif vers.find('8.8') != -1:\n",
    "        print('Using EnergyPlus version 8.8')\n",
    "        iddfile = 'C:\\\\EnergyPlusV8-8-0\\\\Energy+.idd'\n",
    "        IDF.setiddname(iddfile)\n",
    "        idf = IDF(idffile)\n",
    "        return idf\n",
    "    elif vers.find('8.9') != -1:\n",
    "        print('Using EnergyPlus version 8.9')\n",
    "        iddfile = 'C:\\\\EnergyPlusV8-9-0\\\\Energy+.idd'\n",
    "        IDF.setiddname(iddfile)\n",
    "        idf = IDF(idffile)\n",
    "        return idf\n",
    "    elif vers.find('9.0') != -1:\n",
    "        print('Using EnergyPlus version 9.0.1')\n",
    "        iddfile = 'C:\\\\EnergyPlusV9-0-1\\\\Energy+.idd'\n",
    "        IDF.setiddname(iddfile)\n",
    "        idf = IDF(idffile)\n",
    "        return idf\n",
    "    else:\n",
    "        print('IDF Type not found on line 3')"
   ]
  },
  {
   "cell_type": "code",
   "execution_count": 3,
   "metadata": {},
   "outputs": [
    {
     "name": "stdout",
     "output_type": "stream",
     "text": [
      "Using EnergyPlus version 8.7\n"
     ]
    }
   ],
   "source": [
    "#define paths\n",
    "idf_path = 'C:\\\\Users\\\\scott\\\\github\\\\DOE_LRMF\\\\jEplus\\\\results\\\\gardenSlab\\\\17\\\\in.idf'\n",
    "\n",
    "#make connections\n",
    "idf = eppy_connection(idf_path)"
   ]
  },
  {
   "cell_type": "markdown",
   "metadata": {},
   "source": [
    "## Add Zone Mean Air Temperature"
   ]
  },
  {
   "cell_type": "code",
   "execution_count": 4,
   "metadata": {},
   "outputs": [],
   "source": [
    "# use eppy to get a list of Zone Names\n",
    "zones = idf.idfobjects['ZONE']\n",
    "zoneNames = [x.Name for x in zones]"
   ]
  },
  {
   "cell_type": "code",
   "execution_count": 5,
   "metadata": {},
   "outputs": [],
   "source": [
    "#add Zone Mean Air Temperature for corridors\n",
    "keyValue = zoneNames\n",
    "variableName = 'Zone Mean Air Temperature'\n",
    "reportingFrequency = 'hourly'\n",
    "\n",
    "\n",
    "for i in range(0, len(keyValue)):\n",
    "    \n",
    "    # create a new thermostat control\n",
    "    idf.newidfobject('Output:Variable')\n",
    "\n",
    "    # alter inputs to the newly crated idf object\n",
    "    idf.idfobjects['Output:Variable'][-1].Key_Value = keyValue[i]\n",
    "    idf.idfobjects['Output:Variable'][-1].Variable_Name = variableName\n",
    "    idf.idfobjects['Output:Variable'][-1].Reporting_Frequency = reportingFrequency\n",
    "    \n",
    "idf.save()"
   ]
  },
  {
   "cell_type": "markdown",
   "metadata": {},
   "source": [
    "## Add Surface Inside Face Conduction Heat Gain Rate"
   ]
  },
  {
   "cell_type": "code",
   "execution_count": 6,
   "metadata": {},
   "outputs": [
    {
     "data": {
      "text/plain": [
       "\"\\n#add Surface Inside Face Conduction Heat Gain Rate\\nkeyValue = ['Wall_ldb_1.unit2_FrontRow_BottomFloor', 'Wall_ldb_1.unit2_FrontRow_MiddleFloor', 'Wall_ldb_1.unit2_FrontRow_TopFloor']\\nvariableName = 'Surface Inside Face Conduction Heat Gain Rate'\\nreportingFrequency = 'hourly'\\n\\n\\nfor i in range(0, len(keyValue)):\\n    \\n    # create a new output variable\\n    idf.newidfobject('Output:Variable')\\n\\n    # alter inputs to the newly crated idf object\\n    idf.idfobjects['Output:Variable'][-1].Key_Value = keyValue[i]\\n    idf.idfobjects['Output:Variable'][-1].Variable_Name = variableName\\n    idf.idfobjects['Output:Variable'][-1].Reporting_Frequency = reportingFrequency\\n    \\nidf.save()\\n\""
      ]
     },
     "execution_count": 6,
     "metadata": {},
     "output_type": "execute_result"
    }
   ],
   "source": [
    "'''\n",
    "#add Surface Inside Face Conduction Heat Gain Rate\n",
    "keyValue = ['Wall_ldb_1.unit2_FrontRow_BottomFloor', 'Wall_ldb_1.unit2_FrontRow_MiddleFloor', 'Wall_ldb_1.unit2_FrontRow_TopFloor']\n",
    "variableName = 'Surface Inside Face Conduction Heat Gain Rate'\n",
    "reportingFrequency = 'hourly'\n",
    "\n",
    "\n",
    "for i in range(0, len(keyValue)):\n",
    "    \n",
    "    # create a new output variable\n",
    "    idf.newidfobject('Output:Variable')\n",
    "\n",
    "    # alter inputs to the newly crated idf object\n",
    "    idf.idfobjects['Output:Variable'][-1].Key_Value = keyValue[i]\n",
    "    idf.idfobjects['Output:Variable'][-1].Variable_Name = variableName\n",
    "    idf.idfobjects['Output:Variable'][-1].Reporting_Frequency = reportingFrequency\n",
    "    \n",
    "idf.save()\n",
    "'''"
   ]
  },
  {
   "cell_type": "markdown",
   "metadata": {},
   "source": [
    "## Add Cooling Coil Total Cooling Energy"
   ]
  },
  {
   "cell_type": "code",
   "execution_count": 7,
   "metadata": {},
   "outputs": [],
   "source": [
    "# use eppy to get a list of Cooling Coil Names\n",
    "coolingCoil = idf.idfobjects['Coil:Cooling:DX:SingleSpeed']\n",
    "coolingCoilNames = [x.Name for x in coolingCoil]"
   ]
  },
  {
   "cell_type": "code",
   "execution_count": 8,
   "metadata": {},
   "outputs": [],
   "source": [
    "#add Cooling Coil Total Cooling Energy for corridors\n",
    "keyValue = coolingCoilNames\n",
    "variableName = 'Cooling Coil Total Cooling Rate'\n",
    "reportingFrequency = 'hourly'\n",
    "\n",
    "\n",
    "for i in range(0, len(keyValue)):\n",
    "    \n",
    "    # create a new thermostat control\n",
    "    idf.newidfobject('Output:Variable')\n",
    "\n",
    "    # alter inputs to the newly crated idf object\n",
    "    idf.idfobjects['Output:Variable'][-1].Key_Value = keyValue[i]\n",
    "    idf.idfobjects['Output:Variable'][-1].Variable_Name = variableName\n",
    "    idf.idfobjects['Output:Variable'][-1].Reporting_Frequency = reportingFrequency\n",
    "    \n",
    "idf.save()"
   ]
  },
  {
   "cell_type": "code",
   "execution_count": 9,
   "metadata": {},
   "outputs": [],
   "source": [
    "#add heating coil electric power [W]\n",
    "keyValue = coolingCoilNames\n",
    "variableName = 'Cooling Coil Electric Power'\n",
    "reportingFrequency = 'hourly'\n",
    "\n",
    "\n",
    "for i in range(0, len(keyValue)):\n",
    "    \n",
    "    # create a new thermostat control\n",
    "    idf.newidfobject('Output:Variable')\n",
    "\n",
    "    # alter inputs to the newly crated idf object\n",
    "    idf.idfobjects['Output:Variable'][-1].Key_Value = keyValue[i]\n",
    "    idf.idfobjects['Output:Variable'][-1].Variable_Name = variableName\n",
    "    idf.idfobjects['Output:Variable'][-1].Reporting_Frequency = reportingFrequency\n",
    "    \n",
    "idf.save()"
   ]
  },
  {
   "cell_type": "markdown",
   "metadata": {},
   "source": [
    "## Add Heating Coil Total Heating Energy to Corridor HPs"
   ]
  },
  {
   "cell_type": "code",
   "execution_count": 10,
   "metadata": {},
   "outputs": [],
   "source": [
    "# use eppy to get a list of Heating Coil Names\n",
    "heatingCoil = idf.idfobjects['Coil:Heating:DX:SingleSpeed']\n",
    "heatingCoilNames = [x.Name for x in heatingCoil]"
   ]
  },
  {
   "cell_type": "code",
   "execution_count": 11,
   "metadata": {},
   "outputs": [],
   "source": [
    "#add heating coil heating rate [W]\n",
    "keyValue = heatingCoilNames\n",
    "variableName = 'Heating Coil Total Heating Rate'\n",
    "reportingFrequency = 'hourly'\n",
    "\n",
    "\n",
    "for i in range(0, len(keyValue)):\n",
    "    \n",
    "    # create a new thermostat control\n",
    "    idf.newidfobject('Output:Variable')\n",
    "\n",
    "    # alter inputs to the newly crated idf object\n",
    "    idf.idfobjects['Output:Variable'][-1].Key_Value = keyValue[i]\n",
    "    idf.idfobjects['Output:Variable'][-1].Variable_Name = variableName\n",
    "    idf.idfobjects['Output:Variable'][-1].Reporting_Frequency = reportingFrequency\n",
    "    \n",
    "idf.save()"
   ]
  },
  {
   "cell_type": "code",
   "execution_count": 12,
   "metadata": {},
   "outputs": [],
   "source": [
    "#add heating coil electric power [W]\n",
    "keyValue = heatingCoilNames\n",
    "variableName = 'Heating Coil Electric Power'\n",
    "reportingFrequency = 'hourly'\n",
    "\n",
    "\n",
    "for i in range(0, len(keyValue)):\n",
    "    \n",
    "    # create a new thermostat control\n",
    "    idf.newidfobject('Output:Variable')\n",
    "\n",
    "    # alter inputs to the newly crated idf object\n",
    "    idf.idfobjects['Output:Variable'][-1].Key_Value = keyValue[i]\n",
    "    idf.idfobjects['Output:Variable'][-1].Variable_Name = variableName\n",
    "    idf.idfobjects['Output:Variable'][-1].Reporting_Frequency = reportingFrequency\n",
    "    \n",
    "idf.save()"
   ]
  }
 ],
 "metadata": {
  "kernelspec": {
   "display_name": "Python 3",
   "language": "python",
   "name": "python3"
  },
  "language_info": {
   "codemirror_mode": {
    "name": "ipython",
    "version": 3
   },
   "file_extension": ".py",
   "mimetype": "text/x-python",
   "name": "python",
   "nbconvert_exporter": "python",
   "pygments_lexer": "ipython3",
   "version": "3.7.3"
  }
 },
 "nbformat": 4,
 "nbformat_minor": 2
}
