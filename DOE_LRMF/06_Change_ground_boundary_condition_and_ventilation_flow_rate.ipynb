{
 "cells": [
  {
   "cell_type": "code",
   "execution_count": 1,
   "metadata": {},
   "outputs": [],
   "source": [
    "import numpy as np\n",
    "import pandas as pd\n",
    "import sys\n",
    "import os \n",
    "\n",
    "from os import path\n",
    "from eppy import eppy\n",
    "from eppy import hvacbuilder\n",
    "from eppy import modeleditor\n",
    "from eppy.modeleditor import IDF\n"
   ]
  },
  {
   "cell_type": "code",
   "execution_count": 2,
   "metadata": {},
   "outputs": [],
   "source": [
    "# this function determines what idf version and connects the idd for eppy\n",
    "def eppy_connection(idffile):\n",
    "    fp = open(idffile)\n",
    "    lines=fp.readlines()\n",
    "    vers = \"\"\n",
    "    vers = vers.join(lines[2:12])\n",
    "    vers\n",
    "    if vers.find('8.7') != -1:\n",
    "        print('Using EnergyPlus version 8.7')\n",
    "        iddfile = 'C:\\\\EnergyPlusV8-7-0\\\\Energy+.idd'\n",
    "        IDF.setiddname(iddfile)\n",
    "        idf = IDF(idffile)\n",
    "        return idf\n",
    "    elif vers.find('8.8') != -1:\n",
    "        print('Using EnergyPlus version 8.8')\n",
    "        iddfile = 'C:\\\\EnergyPlusV8-8-0\\\\Energy+.idd'\n",
    "        IDF.setiddname(iddfile)\n",
    "        idf = IDF(idffile)\n",
    "        return idf\n",
    "    elif vers.find('8.9') != -1:\n",
    "        print('Using EnergyPlus version 8.9')\n",
    "        iddfile = 'C:\\\\EnergyPlusV8-9-0\\\\Energy+.idd'\n",
    "        IDF.setiddname(iddfile)\n",
    "        idf = IDF(idffile)\n",
    "        return idf\n",
    "    elif vers.find('9.0') != -1:\n",
    "        print('Using EnergyPlus version 9.0.1')\n",
    "        iddfile = 'C:\\\\EnergyPlusV9-0-1\\\\Energy+.idd'\n",
    "        IDF.setiddname(iddfile)\n",
    "        idf = IDF(idffile)\n",
    "        return idf\n",
    "    else:\n",
    "        print('IDF Type not found on line 3')"
   ]
  },
  {
   "cell_type": "code",
   "execution_count": 3,
   "metadata": {},
   "outputs": [
    {
     "name": "stdout",
     "output_type": "stream",
     "text": [
      "Using EnergyPlus version 8.7\n",
      "Using EnergyPlus version 8.7\n",
      "Using EnergyPlus version 8.7\n",
      "Using EnergyPlus version 8.7\n"
     ]
    }
   ],
   "source": [
    "#define paths\n",
    "commonSlab_path = os.path.join(path.abspath(path.join('',\"../..\")), \"DOE_LRMF\\\\SEED_Models\\\\common_hp_slab_IECC_2012_V8.7.idf\")\n",
    "commonBsmt_path = os.path.join(path.abspath(path.join('',\"../..\")), \"DOE_LRMF\\\\SEED_Models\\\\common_hp_heatedbsmtIECC_2012_V8.7.idf\")\n",
    "gardenSlab_path = os.path.join(path.abspath(path.join('',\"../..\")), \"DOE_LRMF\\\\SEED_Models\\\\garden_hp_slab_IECC_2012_V8.7.idf\")\n",
    "gardenBsmt_path = os.path.join(path.abspath(path.join('',\"../..\")), \"DOE_LRMF\\\\SEED_Models\\\\garden_hp_heatedbsmtIECC_2012_V8.7.idf\")\n",
    "\n",
    "#make connections\n",
    "commonSlab = eppy_connection(commonSlab_path)\n",
    "commonBsmt = eppy_connection(commonBsmt_path)\n",
    "gardenSlab = eppy_connection(gardenSlab_path)\n",
    "gardenBsmt = eppy_connection(gardenBsmt_path)\n",
    "\n",
    "# create groups\n",
    "idfs = [commonSlab, commonBsmt, gardenSlab, gardenBsmt]\n",
    "common = [commonSlab, commonBsmt]\n",
    "garden = [gardenSlab, gardenBsmt]\n",
    "bsmt = [commonBsmt, gardenBsmt]\n",
    "slab = [commonSlab, gardenSlab]"
   ]
  },
  {
   "cell_type": "markdown",
   "metadata": {},
   "source": [
    "# Disable Ground Heat Transfer Control Preprocessor"
   ]
  },
  {
   "cell_type": "code",
   "execution_count": 4,
   "metadata": {},
   "outputs": [
    {
     "name": "stdout",
     "output_type": "stream",
     "text": [
      "no\n",
      "no\n",
      "no\n",
      "no\n",
      "no\n",
      "no\n",
      "no\n",
      "no\n"
     ]
    }
   ],
   "source": [
    "controlnames = ['gtp_control']\n",
    "for i in range(0,len(idfs)):\n",
    "    # grab groundtemp from list of control name\n",
    "    ctlname = idfs[i].idfobjects['GroundHeatTransfer:Control']\n",
    "    groundtemp = [x for x in ctlname if x.Name == controlnames[0]][0]\n",
    "    groundtemp.Run_Basement_Preprocessor = 'no'\n",
    "    groundtemp.Run_Slab_Preprocessor = 'no'\n",
    "   \n",
    "    print(groundtemp.Run_Basement_Preprocessor)\n",
    "    print(groundtemp.Run_Slab_Preprocessor)\n"
   ]
  },
  {
   "cell_type": "markdown",
   "metadata": {},
   "source": [
    "# Change slab boundary condition"
   ]
  },
  {
   "cell_type": "code",
   "execution_count": 5,
   "metadata": {},
   "outputs": [],
   "source": [
    "## LIST BOUNDARY CONDITION TO MODIFY\n",
    "\n",
    "outsideconditions = ['GroundBasementPreprocessorAverageFloor', 'GroundBasementPreprocessorAverageWall', 'GroundSlabPreprocessorAverage']\n"
   ]
  },
  {
   "cell_type": "code",
   "execution_count": 6,
   "metadata": {},
   "outputs": [
    {
     "name": "stdout",
     "output_type": "stream",
     "text": [
      "Boundary condition: Floor_unit1_FrontRow_BottomFloor change to Ground\n",
      "Boundary condition: Floor_unit2_FrontRow_BottomFloor change to Ground\n",
      "Boundary condition: Floor_unit3_FrontRow_BottomFloor change to Ground\n",
      "Boundary condition: Floor_unit1_BackRow_BottomFloor change to Ground\n",
      "Boundary condition: Floor_unit2_BackRow_BottomFloor change to Ground\n",
      "Boundary condition: Floor_unit3_BackRow_BottomFloor change to Ground\n",
      "Boundary condition: g Floor C change to Ground\n",
      "Boundary condition: BGFloor change to Ground\n",
      "Boundary condition: BGWall_lower_ldf change to Ground\n",
      "Boundary condition: BGWall_lower_sdr change to Ground\n",
      "Boundary condition: BGWall_lower_ldb change to Ground\n",
      "Boundary condition: BGWall_lower_sdl change to Ground\n",
      "Boundary condition: Floor_unit1_FrontRow_BottomFloor change to Ground\n",
      "Boundary condition: Floor_unit2_FrontRow_BottomFloor change to Ground\n",
      "Boundary condition: Floor_unit3_FrontRow_BottomFloor change to Ground\n",
      "Boundary condition: Floor_unit1_BackRow_BottomFloor change to Ground\n",
      "Boundary condition: Floor_unit2_BackRow_BottomFloor change to Ground\n",
      "Boundary condition: Floor_unit3_BackRow_BottomFloor change to Ground\n",
      "Boundary condition: BGFloor change to Ground\n",
      "Boundary condition: BGWall_lower_ldf change to Ground\n",
      "Boundary condition: BGWall_lower_sdr change to Ground\n",
      "Boundary condition: BGWall_lower_ldb change to Ground\n",
      "Boundary condition: BGWall_lower_sdl change to Ground\n"
     ]
    }
   ],
   "source": [
    "for i in range(0,len(idfs)):\n",
    "    surfaces = idfs[i].idfobjects['BuildingSurface:Detailed']\n",
    "    for j in range(0,len(outsideconditions)):\n",
    "        boundary = [x for x in surfaces if x.Outside_Boundary_Condition == outsideconditions[j]]\n",
    "#         print(boundary)\n",
    "        if len(boundary) == 0:\n",
    "            continue  \n",
    "        for k in range(0,len(boundary)):\n",
    "#             print(boundary[k].Outside_Boundary_Condition)\n",
    "            boundary[k].Outside_Boundary_Condition = 'Ground'\n",
    "            print('Boundary condition: '+boundary[k].Name+' change to '+boundary[k].Outside_Boundary_Condition) \n",
    "\n"
   ]
  },
  {
   "cell_type": "markdown",
   "metadata": {},
   "source": [
    "# Remove Output:Variable and Meters\n"
   ]
  },
  {
   "cell_type": "code",
   "execution_count": 7,
   "metadata": {},
   "outputs": [],
   "source": [
    "# Remove Output:Variable\n",
    "\n",
    "for i in range(len(idfs)):\n",
    "    OutputVariables = idfs[i].idfobjects['Output:Variable']\n",
    "    for j in range(len(OutputVariables)):\n",
    "        idfs[i].removeidfobject(OutputVariables[0])\n"
   ]
  },
  {
   "cell_type": "code",
   "execution_count": 8,
   "metadata": {},
   "outputs": [],
   "source": [
    "# Remove all Output:Meter\n",
    "\n",
    "for i in range(len(idfs)):\n",
    "    OutputVariables = idfs[i].idfobjects['Output:Meter']\n",
    "    for j in range(len(OutputVariables)):\n",
    "        idfs[i].removeidfobject(OutputVariables[0])\n"
   ]
  },
  {
   "cell_type": "markdown",
   "metadata": {},
   "source": [
    "# Change default ventilaiton flow rate of Common corridors \n",
    "### (Designed flow: 40 cfm)"
   ]
  },
  {
   "cell_type": "code",
   "execution_count": 9,
   "metadata": {},
   "outputs": [
    {
     "name": "stdout",
     "output_type": "stream",
     "text": [
      "Ventilation_G Corridor's design flow rate was changed to 0.018877898\n",
      "Ventilation_M Corridor's design flow rate was changed to 0.018877898\n",
      "Ventilation_T Corridor's design flow rate was changed to 0.018877898\n",
      "Ventilation_G Corridor's design flow rate was changed to 0.018877898\n",
      "Ventilation_M Corridor's design flow rate was changed to 0.018877898\n",
      "Ventilation_T Corridor's design flow rate was changed to 0.018877898\n"
     ]
    }
   ],
   "source": [
    "## list corridors\n",
    "corridorzones = ['Ventilation_G Corridor', 'Ventilation_M Corridor', 'Ventilation_T Corridor']\n",
    "\n",
    "for i in range(len(common)):\n",
    "    ZoneVents = common[i].idfobjects['ZoneVentilation:DesignFlowRate']\n",
    "    for j in range(len(corridorzones)):\n",
    "        # grab corridors from list of zones\n",
    "        corridor = [x for x in ZoneVents if x.Name == corridorzones[j]]\n",
    "        corridor[0].Design_Flow_Rate = '0.018877898'  # 40 cfm\n",
    "        #display changes\n",
    "        print( corridor[0].Name +'\\'s design flow rate was changed to '+ corridor[0].Design_Flow_Rate) \n",
    "    "
   ]
  },
  {
   "cell_type": "markdown",
   "metadata": {},
   "source": [
    "# Change default ventilaiton flow rate of basements\n",
    "### (Designed flow for storage: 500 cfm)"
   ]
  },
  {
   "cell_type": "code",
   "execution_count": 10,
   "metadata": {},
   "outputs": [
    {
     "name": "stdout",
     "output_type": "stream",
     "text": [
      "Ventilation_unitheatedbsmt's design flow rate was changed to 0.235973725\n",
      "Ventilation_unitheatedbsmt's design flow rate was changed to 0.235973725\n"
     ]
    }
   ],
   "source": [
    "## list basement\n",
    "bsmtzones = ['Ventilation_unitheatedbsmt']\n",
    "\n",
    "for i in range(len(bsmt)):\n",
    "    ZoneVents = bsmt[i].idfobjects['ZoneVentilation:DesignFlowRate']\n",
    "    for j in range(len(bsmtzones)):\n",
    "        # grab corridors from list of zones\n",
    "        basementvent = [x for x in ZoneVents if x.Name == bsmtzones[j]]\n",
    "        basementvent[0].Design_Flow_Rate = '0.235973725'  # 500 cfm\n",
    "        #display changes\n",
    "        print( basementvent[0].Name +'\\'s design flow rate was changed to '+ basementvent[0].Design_Flow_Rate) "
   ]
  },
  {
   "cell_type": "markdown",
   "metadata": {},
   "source": [
    "# Change Output:Meter Reporting Frequency to Annual"
   ]
  },
  {
   "cell_type": "code",
   "execution_count": 11,
   "metadata": {},
   "outputs": [],
   "source": [
    "# for i in range(len(idfs)):\n",
    "#     meters = idfs[i].idfobjects['Output:Meter']\n",
    "#     for j in range(len(meters)):\n",
    "#         meters[j].Reporting_Frequency = 'Annual'"
   ]
  },
  {
   "cell_type": "markdown",
   "metadata": {},
   "source": [
    "# Add Electricity and Gad annual meters\n"
   ]
  },
  {
   "cell_type": "code",
   "execution_count": 12,
   "metadata": {},
   "outputs": [],
   "source": [
    "for i in range(len(idfs)):\n",
    "    newobject = idfs[i].newidfobject(\"Output:Meter\")\n",
    "    newobject.Name = 'Electricity:Facility'\n",
    "    newobject.Reporting_Frequency = 'Annual'\n",
    "    \n",
    "    newobject = idfs[i].newidfobject(\"Output:Meter\")\n",
    "    newobject.Name = 'Gas:Facility'\n",
    "    newobject.Reporting_Frequency = 'Annual'\n",
    "\n"
   ]
  },
  {
   "cell_type": "code",
   "execution_count": 13,
   "metadata": {},
   "outputs": [
    {
     "data": {
      "text/plain": [
       "[None, None, None, None]"
      ]
     },
     "execution_count": 13,
     "metadata": {},
     "output_type": "execute_result"
    }
   ],
   "source": [
    "## save idfs\n",
    "[x.save() for x in idfs]"
   ]
  },
  {
   "cell_type": "code",
   "execution_count": null,
   "metadata": {},
   "outputs": [],
   "source": []
  }
 ],
 "metadata": {
  "kernelspec": {
   "display_name": "Python 3",
   "language": "python",
   "name": "python3"
  },
  "language_info": {
   "codemirror_mode": {
    "name": "ipython",
    "version": 3
   },
   "file_extension": ".py",
   "mimetype": "text/x-python",
   "name": "python",
   "nbconvert_exporter": "python",
   "pygments_lexer": "ipython3",
   "version": "3.7.3"
  }
 },
 "nbformat": 4,
 "nbformat_minor": 2
}
