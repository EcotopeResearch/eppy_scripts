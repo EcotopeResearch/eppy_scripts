{
 "cells": [
  {
   "cell_type": "code",
   "execution_count": 1,
   "metadata": {},
   "outputs": [],
   "source": [
    "import numpy as np\n",
    "import pandas as pd\n",
    "import sys\n",
    "import os \n",
    "\n",
    "from os import path\n",
    "from eppy import eppy\n",
    "from eppy import hvacbuilder\n",
    "from eppy import modeleditor\n",
    "from eppy.modeleditor import IDF"
   ]
  },
  {
   "cell_type": "code",
   "execution_count": 2,
   "metadata": {},
   "outputs": [],
   "source": [
    "def eppy_connection(idffile):\n",
    "    fp = open(idffile)\n",
    "    lines=fp.readlines()\n",
    "    vers = \"\"\n",
    "    vers = vers.join(lines[2:12])\n",
    "    vers\n",
    "    if vers.find('8.7') != -1:\n",
    "        print('Using EnergyPlus version 8.7')\n",
    "        iddfile = 'C:\\\\EnergyPlusV8-7-0\\\\Energy+.idd'\n",
    "        IDF.setiddname(iddfile)\n",
    "        idf = IDF(idffile)\n",
    "        return idf\n",
    "    elif vers.find('8.8') != -1:\n",
    "        print('Using EnergyPlus version 8.8')\n",
    "        iddfile = 'C:\\\\EnergyPlusV8-8-0\\\\Energy+.idd'\n",
    "        IDF.setiddname(iddfile)\n",
    "        idf = IDF(idffile)\n",
    "        return idf\n",
    "    elif vers.find('8.9') != -1:\n",
    "        print('Using EnergyPlus version 8.9')\n",
    "        iddfile = 'C:\\\\EnergyPlusV8-9-0\\\\Energy+.idd'\n",
    "        IDF.setiddname(iddfile)\n",
    "        idf = IDF(idffile)\n",
    "        return idf\n",
    "    elif vers.find('9.0') != -1:\n",
    "        print('Using EnergyPlus version 9.0.1')\n",
    "        iddfile = 'C:\\\\EnergyPlusV9-0-1\\\\Energy+.idd'\n",
    "        IDF.setiddname(iddfile)\n",
    "        idf = IDF(idffile)\n",
    "        return idf\n",
    "    else:\n",
    "        print('IDF Type not found on line 3')"
   ]
  },
  {
   "cell_type": "code",
   "execution_count": 3,
   "metadata": {},
   "outputs": [
    {
     "name": "stdout",
     "output_type": "stream",
     "text": [
      "Using EnergyPlus version 8.7\n",
      "Using EnergyPlus version 8.7\n",
      "Using EnergyPlus version 8.7\n",
      "Using EnergyPlus version 8.7\n"
     ]
    }
   ],
   "source": [
    "#define paths\n",
    "commonSlab_path = os.path.join(path.abspath(path.join('',\"../..\")), \"DOE_LRMF\\\\jEplus\\\\idfs\\\\common_hp_slab_IECC_2012_V8.7.idf\")\n",
    "commonBsmt_path = os.path.join(path.abspath(path.join('',\"../..\")), \"DOE_LRMF\\\\jEplus\\\\idfs\\\\common_hp_heatedbsmtIECC_2012_V8.7.idf\")\n",
    "gardenSlab_path = os.path.join(path.abspath(path.join('',\"../..\")), \"DOE_LRMF\\\\jEplus\\\\idfs\\\\garden_hp_slab_IECC_2012_V8.7.idf\")\n",
    "gardenBsmt_path = os.path.join(path.abspath(path.join('',\"../..\")), \"DOE_LRMF\\\\jEplus\\\\idfs\\\\garden_hp_heatedbsmtIECC_2012_V8.7.idf\")\n",
    "\n",
    "#make connections\n",
    "commonSlab = eppy_connection(commonSlab_path)\n",
    "commonBsmt = eppy_connection(commonBsmt_path)\n",
    "gardenSlab = eppy_connection(gardenSlab_path)\n",
    "gardenBsmt = eppy_connection(gardenBsmt_path)\n",
    "\n",
    "# create groups\n",
    "idfs = [commonSlab, commonBsmt, gardenSlab, gardenBsmt]\n",
    "common = [commonSlab, commonBsmt]\n",
    "garden = [gardenSlab, gardenBsmt]\n",
    "bsmt = [commonBsmt, gardenBsmt]\n",
    "slab = [commonSlab, gardenSlab]"
   ]
  },
  {
   "cell_type": "code",
   "execution_count": 5,
   "metadata": {},
   "outputs": [
    {
     "data": {
      "text/plain": [
       "\n",
       "Coil:Cooling:DX:SingleSpeed,\n",
       "    DX Cooling Coil_unitheatedbsmt,    !- Name\n",
       "    always_avail,             !- Availability Schedule Name\n",
       "    autosize,                 !- Gross Rated Total Cooling Capacity\n",
       "    autosize,                 !- Gross Rated Sensible Heat Ratio\n",
       "    @@BSMTCLCOP@@,            !- Gross Rated Cooling COP\n",
       "    autosize,                 !- Rated Air Flow Rate\n",
       "    ,                         !- Rated Evaporator Fan Power Per Volume Flow Rate\n",
       "    Cooling Coil Air Inlet Node_unitheatedbsmt,    !- Air Inlet Node Name\n",
       "    Heating Coil Air Inlet Node_unitheatedbsmt,    !- Air Outlet Node Name\n",
       "    @@BSMTCLCURVE_CAPFT@@,    !- Total Cooling Capacity Function of Temperature Curve Name\n",
       "    @@BSMTCLCURVE_CAPFFF@@,    !- Total Cooling Capacity Function of Flow Fraction Curve Name\n",
       "    @@BSMTCLCURVE_EIRFT@@,    !- Energy Input Ratio Function of Temperature Curve Name\n",
       "    @@BSMTCLCURVE_EIRFFF@@,    !- Energy Input Ratio Function of Flow Fraction Curve Name\n",
       "    @@BSMTCLCURVE_PLFFPLR@@;    !- Part Load Fraction Correlation Curve Name"
      ]
     },
     "execution_count": 5,
     "metadata": {},
     "output_type": "execute_result"
    }
   ],
   "source": [
    "#edit Coil:Cooling:DX:SingleSpeed\n",
    "coolings = bsmt[1].idfobjects['Coil:Cooling:DX:SingleSpeed']\n",
    "[x for x in coolings if x.Name == 'DX Cooling Coil_unitheatedbsmt'][0]\n"
   ]
  },
  {
   "cell_type": "code",
   "execution_count": 5,
   "metadata": {},
   "outputs": [
    {
     "data": {
      "text/plain": [
       "'C:\\\\Users\\\\scott\\\\github\\\\DOE_LRMF\\\\jEplus\\\\idfs\\\\garden_hp_heatedbsmtIECC_2012_V8.7.idf'"
      ]
     },
     "execution_count": 5,
     "metadata": {},
     "output_type": "execute_result"
    }
   ],
   "source": [
    "gardenBsmt_path"
   ]
  },
  {
   "cell_type": "code",
   "execution_count": 6,
   "metadata": {},
   "outputs": [
    {
     "ename": "SyntaxError",
     "evalue": "unexpected character after line continuation character (<ipython-input-6-32683b87d710>, line 1)",
     "output_type": "error",
     "traceback": [
      "\u001b[1;36m  File \u001b[1;32m\"<ipython-input-6-32683b87d710>\"\u001b[1;36m, line \u001b[1;32m1\u001b[0m\n\u001b[1;33m    C:\\Users\\scott\\github\\DOE_LRMF\\jEplus\\idfs\\\u001b[0m\n\u001b[1;37m                                               ^\u001b[0m\n\u001b[1;31mSyntaxError\u001b[0m\u001b[1;31m:\u001b[0m unexpected character after line continuation character\n"
     ]
    }
   ],
   "source": [
    "C:\\Users\\scott\\github\\DOE_LRMF\\jEplus\\idfs\\"
   ]
  }
 ],
 "metadata": {
  "kernelspec": {
   "display_name": "Python 3",
   "language": "python",
   "name": "python3"
  },
  "language_info": {
   "codemirror_mode": {
    "name": "ipython",
    "version": 3
   },
   "file_extension": ".py",
   "mimetype": "text/x-python",
   "name": "python",
   "nbconvert_exporter": "python",
   "pygments_lexer": "ipython3",
   "version": "3.7.3"
  }
 },
 "nbformat": 4,
 "nbformat_minor": 2
}
