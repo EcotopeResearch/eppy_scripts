{
 "cells": [
  {
   "cell_type": "code",
   "execution_count": 1,
   "metadata": {},
   "outputs": [],
   "source": [
    "import numpy as np\n",
    "import pandas as pd\n",
    "import sys\n",
    "\n",
    "from eppy import eppy\n",
    "from eppy import hvacbuilder\n",
    "from eppy import modeleditor\n",
    "from eppy.modeleditor import IDF"
   ]
  },
  {
   "cell_type": "code",
   "execution_count": 2,
   "metadata": {},
   "outputs": [],
   "source": [
    "# this function determines what idf version and connects the idd for eppy\n",
    "def eppy_connection(idffile):\n",
    "    fp = open(idffile)\n",
    "    lines=fp.readlines()\n",
    "    vers = \"\"\n",
    "    vers = vers.join(lines[2:12])\n",
    "    vers\n",
    "    if vers.find('8.7') != -1:\n",
    "        print('Using EnergyPlus version 8.7')\n",
    "        iddfile = 'C:\\\\EnergyPlusV8-7-0\\\\Energy+.idd'\n",
    "        IDF.setiddname(iddfile)\n",
    "        idf = IDF(idffile)\n",
    "        return idf\n",
    "    elif vers.find('8.8') != -1:\n",
    "        print('Using EnergyPlus version 8.8')\n",
    "        iddfile = 'C:\\\\EnergyPlusV8-8-0\\\\Energy+.idd'\n",
    "        IDF.setiddname(iddfile)\n",
    "        idf = IDF(idffile)\n",
    "        return idf\n",
    "    elif vers.find('8.9') != -1:\n",
    "        print('Using EnergyPlus version 8.9')\n",
    "        iddfile = 'C:\\\\EnergyPlusV8-9-0\\\\Energy+.idd'\n",
    "        IDF.setiddname(iddfile)\n",
    "        idf = IDF(idffile)\n",
    "        return idf\n",
    "    elif vers.find('9.0') != -1:\n",
    "        print('Using EnergyPlus version 9.0.1')\n",
    "        iddfile = 'C:\\\\EnergyPlusV9-0-1\\\\Energy+.idd'\n",
    "        IDF.setiddname(iddfile)\n",
    "        idf = IDF(idffile)\n",
    "        return idf\n",
    "    else:\n",
    "        print('IDF Type not found on line 3')"
   ]
  },
  {
   "cell_type": "code",
   "execution_count": 3,
   "metadata": {},
   "outputs": [
    {
     "name": "stdout",
     "output_type": "stream",
     "text": [
      "Using EnergyPlus version 8.7\n",
      "Using EnergyPlus version 8.7\n",
      "Using EnergyPlus version 8.7\n",
      "Using EnergyPlus version 8.7\n"
     ]
    }
   ],
   "source": [
    "#define paths\n",
    "commonSlab_path = 'C:\\\\Users\\\\scott\\\\github\\\\DOE_LRMF\\\\SEED_Models\\\\common_hp_slab_IECC_2012_V8.7.idf'\n",
    "commonBsmt_path = 'C:\\\\Users\\\\scott\\\\github\\\\DOE_LRMF\\\\SEED_Models\\\\common_hp_heatedbsmtIECC_2012_V8.7.idf'\n",
    "gardenSlab_path = 'C:\\\\Users\\\\scott\\\\github\\\\DOE_LRMF\\\\SEED_Models\\\\garden_hp_slab_IECC_2012_V8.7.idf'\n",
    "gardenBsmt_path = 'C:\\\\Users\\\\scott\\\\github\\\\DOE_LRMF\\\\SEED_Models\\\\garden_hp_heatedbsmtIECC_2012_V8.7.idf'\n",
    "\n",
    "#make connections\n",
    "commonSlab = eppy_connection(commonSlab_path)\n",
    "commonBsmt = eppy_connection(commonBsmt_path)\n",
    "gardenSlab = eppy_connection(gardenSlab_path)\n",
    "gardenBsmt = eppy_connection(gardenBsmt_path)\n",
    "\n",
    "# create groups\n",
    "idfs = [commonSlab, commonBsmt, gardenSlab, gardenBsmt]\n",
    "common = [commonSlab, commonBsmt]\n",
    "garden = [gardenSlab, gardenBsmt]\n",
    "bsmt = [commonBsmt, gardenBsmt]\n",
    "slab = [commonSlab, gardenSlab]"
   ]
  },
  {
   "cell_type": "code",
   "execution_count": 4,
   "metadata": {},
   "outputs": [],
   "source": [
    "## LIST SURFACES TO MODIFY\n",
    "\n",
    "commonSurfaces = ['Floor_unit1_FrontRow_BottomFloor', 'Floor_unit2_FrontRow_BottomFloor', \n",
    "            'Floor_unit3_FrontRow_BottomFloor', 'Floor_unit1_BackRow_BottomFloor', \n",
    "            'Floor_unit2_BackRow_BottomFloor', 'Floor_unit3_BackRow_BottomFloor', \n",
    "            'g Floor C']\n",
    "\n",
    "gardenSurfaces = ['Floor_unit1_FrontRow_BottomFloor', 'Floor_unit2_FrontRow_BottomFloor', \n",
    "            'Floor_unit3_FrontRow_BottomFloor', 'Floor_unit1_BackRow_BottomFloor', \n",
    "            'Floor_unit2_BackRow_BottomFloor', 'Floor_unit3_BackRow_BottomFloor']"
   ]
  },
  {
   "cell_type": "code",
   "execution_count": 5,
   "metadata": {},
   "outputs": [],
   "source": [
    "## CREATE NEW IDF OBJECTS\n",
    "\n",
    "#common\n",
    "commonBsmt.newidfobject('Material')\n",
    "commonBsmt.idfobjects['Material'][-1].Name = 'exposed_floor_consol_layer'\n",
    "commonBsmt.idfobjects['Material'][-1].Roughness = 'Rough'\n",
    "commonBsmt.idfobjects['Material'][-1].Thickness = 0.23495\n",
    "commonBsmt.idfobjects['Material'][-1].Conductivity = 0.0485233\n",
    "commonBsmt.idfobjects['Material'][-1].Density = 55.074\n",
    "commonBsmt.idfobjects['Material'][-1].Specific_Heat = 916.9311\n",
    "\n",
    "\n",
    "commonBsmt.newidfobject('Construction')\n",
    "commonBsmt.idfobjects['Construction'][-1].Name = 'Exposed Floor'\n",
    "commonBsmt.idfobjects['Construction'][-1].Outside_Layer = 'exposed_floor_consol_layer'\n",
    "commonBsmt.idfobjects['Construction'][-1].Layer_2 = 'Plywood_3/4in'\n",
    "commonBsmt.idfobjects['Construction'][-1].Layer_3 = 'Carpet_n_pad'\n",
    "\n",
    "#garden\n",
    "gardenBsmt.newidfobject('Material')\n",
    "gardenBsmt.idfobjects['Material'][-1].Name = 'exposed_floor_consol_layer'\n",
    "gardenBsmt.idfobjects['Material'][-1].Roughness = 'Rough'\n",
    "gardenBsmt.idfobjects['Material'][-1].Thickness = 0.23495\n",
    "gardenBsmt.idfobjects['Material'][-1].Conductivity = 0.0485233\n",
    "gardenBsmt.idfobjects['Material'][-1].Density = 55.074\n",
    "gardenBsmt.idfobjects['Material'][-1].Specific_Heat = 916.9311\n",
    "\n",
    "\n",
    "gardenBsmt.newidfobject('Construction')\n",
    "gardenBsmt.idfobjects['Construction'][-1].Name = 'Exposed Floor'\n",
    "gardenBsmt.idfobjects['Construction'][-1].Outside_Layer = 'exposed_floor_consol_layer'\n",
    "gardenBsmt.idfobjects['Construction'][-1].Layer_2 = 'Plywood_3/4in'\n",
    "gardenBsmt.idfobjects['Construction'][-1].Layer_3 = 'Carpet_n_pad'"
   ]
  },
  {
   "cell_type": "code",
   "execution_count": 6,
   "metadata": {},
   "outputs": [
    {
     "name": "stdout",
     "output_type": "stream",
     "text": [
      "Changed Floor_unit1_FrontRow_BottomFloor construction to Exposed Floor\n",
      "Changed Floor_unit2_FrontRow_BottomFloor construction to Exposed Floor\n",
      "Changed Floor_unit3_FrontRow_BottomFloor construction to Exposed Floor\n",
      "Changed Floor_unit1_BackRow_BottomFloor construction to Exposed Floor\n",
      "Changed Floor_unit2_BackRow_BottomFloor construction to Exposed Floor\n",
      "Changed Floor_unit3_BackRow_BottomFloor construction to Exposed Floor\n",
      "Changed g Floor C construction to Exposed Floor\n",
      "Changed Floor_unit1_FrontRow_BottomFloor construction to Exposed Floor\n",
      "Changed Floor_unit2_FrontRow_BottomFloor construction to Exposed Floor\n",
      "Changed Floor_unit3_FrontRow_BottomFloor construction to Exposed Floor\n",
      "Changed Floor_unit1_BackRow_BottomFloor construction to Exposed Floor\n",
      "Changed Floor_unit2_BackRow_BottomFloor construction to Exposed Floor\n",
      "Changed Floor_unit3_BackRow_BottomFloor construction to Exposed Floor\n"
     ]
    }
   ],
   "source": [
    "## LOOP THROUGH SURFACES AND CHANGE CONSTRUCTIONS\n",
    "\n",
    "# common basement\n",
    "surfaces = commonBsmt.idfobjects['BuildingSurface:Detailed']\n",
    "for i in range(0, len(commonSurfaces)):\n",
    "    \n",
    "    # grab surface from list of surfaces\n",
    "    surface = [x for x in surfaces if x.Name == commonSurfaces[i]][0]\n",
    "    surface.Construction_Name = 'Exposed Floor'\n",
    "\n",
    "    #display changes\n",
    "    print('Changed '+surface.Name+' construction to '+surface.Construction_Name)\n",
    "    \n",
    "# garden basement\n",
    "surfaces = gardenBsmt.idfobjects['BuildingSurface:Detailed']\n",
    "for i in range(0, len(gardenSurfaces)):\n",
    "    \n",
    "    # grab surfaces from list of surfaces\n",
    "    surface = [x for x in surfaces if x.Name == gardenSurfaces[i]][0]\n",
    "    surface.Construction_Name = 'Exposed Floor'\n",
    "    \n",
    "    #display changes\n",
    "    print('Changed '+surface.Name+' construction to '+surface.Construction_Name)"
   ]
  },
  {
   "cell_type": "code",
   "execution_count": 7,
   "metadata": {},
   "outputs": [
    {
     "data": {
      "text/plain": [
       "[None, None, None, None]"
      ]
     },
     "execution_count": 7,
     "metadata": {},
     "output_type": "execute_result"
    }
   ],
   "source": [
    "## save idfs\n",
    "[x.save() for x in idfs]"
   ]
  }
 ],
 "metadata": {
  "kernelspec": {
   "display_name": "Python 3",
   "language": "python",
   "name": "python3"
  },
  "language_info": {
   "codemirror_mode": {
    "name": "ipython",
    "version": 3
   },
   "file_extension": ".py",
   "mimetype": "text/x-python",
   "name": "python",
   "nbconvert_exporter": "python",
   "pygments_lexer": "ipython3",
   "version": "3.7.3"
  }
 },
 "nbformat": 4,
 "nbformat_minor": 2
}
