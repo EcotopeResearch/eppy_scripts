{
 "cells": [
  {
   "cell_type": "code",
   "execution_count": 1,
   "metadata": {},
   "outputs": [],
   "source": [
    "import numpy as np\n",
    "import pandas as pd\n",
    "import sys\n",
    "import os \n",
    "\n",
    "from os import path\n",
    "from eppy import eppy\n",
    "from eppy import hvacbuilder\n",
    "from eppy import modeleditor\n",
    "from eppy.modeleditor import IDF"
   ]
  },
  {
   "cell_type": "code",
   "execution_count": 2,
   "metadata": {},
   "outputs": [],
   "source": [
    "# this function determines what idf version and connects the idd for eppy\n",
    "def eppy_connection(idffile):\n",
    "    fp = open(idffile)\n",
    "    lines=fp.readlines()\n",
    "    vers = \"\"\n",
    "    vers = vers.join(lines[2:12])\n",
    "    vers\n",
    "    if vers.find('8.7') != -1:\n",
    "        print('Using EnergyPlus version 8.7')\n",
    "        iddfile = 'C:\\\\EnergyPlusV8-7-0\\\\Energy+.idd'\n",
    "        IDF.setiddname(iddfile)\n",
    "        idf = IDF(idffile)\n",
    "        return idf\n",
    "    elif vers.find('8.8') != -1:\n",
    "        print('Using EnergyPlus version 8.8')\n",
    "        iddfile = 'C:\\\\EnergyPlusV8-8-0\\\\Energy+.idd'\n",
    "        IDF.setiddname(iddfile)\n",
    "        idf = IDF(idffile)\n",
    "        return idf\n",
    "    elif vers.find('8.9') != -1:\n",
    "        print('Using EnergyPlus version 8.9')\n",
    "        iddfile = 'C:\\\\EnergyPlusV8-9-0\\\\Energy+.idd'\n",
    "        IDF.setiddname(iddfile)\n",
    "        idf = IDF(idffile)\n",
    "        return idf\n",
    "    elif vers.find('9.0') != -1:\n",
    "        print('Using EnergyPlus version 9.0.1')\n",
    "        iddfile = 'C:\\\\EnergyPlusV9-0-1\\\\Energy+.idd'\n",
    "        IDF.setiddname(iddfile)\n",
    "        idf = IDF(idffile)\n",
    "        return idf\n",
    "    else:\n",
    "        print('IDF Type not found on line 3')"
   ]
  },
  {
   "cell_type": "code",
   "execution_count": 3,
   "metadata": {},
   "outputs": [
    {
     "name": "stdout",
     "output_type": "stream",
     "text": [
      "Using EnergyPlus version 8.7\n",
      "Using EnergyPlus version 8.7\n",
      "Using EnergyPlus version 8.7\n",
      "Using EnergyPlus version 8.7\n"
     ]
    }
   ],
   "source": [
    "#define paths\n",
    "commonSlab_path = os.path.join(path.abspath(path.join('',\"../..\")), \"DOE_LRMF\\\\SEED_Models\\\\common_hp_slab_IECC_2012_V8.7.idf\")\n",
    "commonBsmt_path = os.path.join(path.abspath(path.join('',\"../..\")), \"DOE_LRMF\\\\SEED_Models\\\\common_hp_heatedbsmtIECC_2012_V8.7.idf\")\n",
    "gardenSlab_path = os.path.join(path.abspath(path.join('',\"../..\")), \"DOE_LRMF\\\\SEED_Models\\\\garden_hp_slab_IECC_2012_V8.7.idf\")\n",
    "gardenBsmt_path = os.path.join(path.abspath(path.join('',\"../..\")), \"DOE_LRMF\\\\SEED_Models\\\\garden_hp_heatedbsmtIECC_2012_V8.7.idf\")\n",
    "\n",
    "#make connections\n",
    "commonSlab = eppy_connection(commonSlab_path)\n",
    "commonBsmt = eppy_connection(commonBsmt_path)\n",
    "gardenSlab = eppy_connection(gardenSlab_path)\n",
    "gardenBsmt = eppy_connection(gardenBsmt_path)\n",
    "\n",
    "# create groups\n",
    "idfs = [commonSlab, commonBsmt, gardenSlab, gardenBsmt]\n",
    "common = [commonSlab, commonBsmt]\n",
    "garden = [gardenSlab, gardenBsmt]\n",
    "bsmt = [commonBsmt, gardenBsmt]\n",
    "slab = [commonSlab, gardenSlab]"
   ]
  },
  {
   "cell_type": "code",
   "execution_count": 4,
   "metadata": {},
   "outputs": [],
   "source": [
    "## LIST SURFACES TO MODIFY\n",
    "\n",
    "commonFloorSurfaces = ['Floor_unit1_FrontRow_BottomFloor', 'Floor_unit2_FrontRow_BottomFloor', \n",
    "            'Floor_unit3_FrontRow_BottomFloor', 'Floor_unit1_BackRow_BottomFloor', \n",
    "            'Floor_unit2_BackRow_BottomFloor', 'Floor_unit3_BackRow_BottomFloor', \n",
    "            'g Floor C']\n",
    "\n",
    "gardenFloorSurfaces = ['Floor_unit1_FrontRow_BottomFloor', 'Floor_unit2_FrontRow_BottomFloor', \n",
    "            'Floor_unit3_FrontRow_BottomFloor', 'Floor_unit1_BackRow_BottomFloor', \n",
    "            'Floor_unit2_BackRow_BottomFloor', 'Floor_unit3_BackRow_BottomFloor']\n",
    "\n",
    "commonSlabSurfaces = ['BGFloor']\n",
    "\n",
    "gardenSlabSurfaces = ['BGFloor']"
   ]
  },
  {
   "cell_type": "code",
   "execution_count": 5,
   "metadata": {},
   "outputs": [],
   "source": [
    "## CREATE NEW IDF OBJECTS\n",
    "\n",
    "#common\n",
    "for i in range(0,len(idfs)):\n",
    "    idfs[i].newidfobject('Material')\n",
    "    idfs[i].idfobjects['Material'][-1].Name = 'slab_consol_layer'\n",
    "    idfs[i].idfobjects['Material'][-1].Roughness = 'Rough'\n",
    "    idfs[i].idfobjects['Material'][-1].Thickness = 0.23495\n",
    "    idfs[i].idfobjects['Material'][-1].Conductivity = 0.0485233\n",
    "    idfs[i].idfobjects['Material'][-1].Density = 55.074\n",
    "    idfs[i].idfobjects['Material'][-1].Specific_Heat = 916.9311\n",
    "\n",
    "\n",
    "    idfs[i].newidfobject('Construction')\n",
    "    idfs[i].idfobjects['Construction'][-1].Name = 'Slab'\n",
    "    idfs[i].idfobjects['Construction'][-1].Outside_Layer = 'slab_consol_layer'\n",
    "    idfs[i].idfobjects['Construction'][-1].Layer_2 = 'Plywood_3/4in'\n",
    "    idfs[i].idfobjects['Construction'][-1].Layer_3 = 'Carpet_n_pad'"
   ]
  },
  {
   "cell_type": "code",
   "execution_count": 7,
   "metadata": {},
   "outputs": [
    {
     "name": "stdout",
     "output_type": "stream",
     "text": [
      "Common SOG: Changed Floor_unit1_FrontRow_BottomFloor construction to Slab\n",
      "Common SOG: Changed Floor_unit2_FrontRow_BottomFloor construction to Slab\n",
      "Common SOG: Changed Floor_unit3_FrontRow_BottomFloor construction to Slab\n",
      "Common SOG: Changed Floor_unit1_BackRow_BottomFloor construction to Slab\n",
      "Common SOG: Changed Floor_unit2_BackRow_BottomFloor construction to Slab\n",
      "Common SOG: Changed Floor_unit3_BackRow_BottomFloor construction to Slab\n",
      "Common SOG: Changed g Floor C construction to Slab\n",
      "Garden SOG: Changed Floor_unit1_FrontRow_BottomFloor construction to Slab\n",
      "Garden SOG: Changed Floor_unit2_FrontRow_BottomFloor construction to Slab\n",
      "Garden SOG: Changed Floor_unit3_FrontRow_BottomFloor construction to Slab\n",
      "Garden SOG: Changed Floor_unit1_BackRow_BottomFloor construction to Slab\n",
      "Garden SOG: Changed Floor_unit2_BackRow_BottomFloor construction to Slab\n",
      "Garden SOG: Changed Floor_unit3_BackRow_BottomFloor construction to Slab\n",
      "Common bsmt: Changed BGFloor construction to Slab\n",
      "Garden bsmt: Changed BGFloor construction to Slab\n"
     ]
    }
   ],
   "source": [
    "## LOOP THROUGH SURFACES AND CHANGE CONSTRUCTIONS\n",
    "\n",
    "# common SOG Slab\n",
    "surfaces = commonSlab.idfobjects['BuildingSurface:Detailed']\n",
    "for i in range(0, len(commonFloorSurfaces)):\n",
    "    \n",
    "    # grab surface from list of surfaces\n",
    "    surface = [x for x in surfaces if x.Name == commonFloorSurfaces[i]][0]\n",
    "    surface.Construction_Name = 'Slab'\n",
    "\n",
    "    #display changes\n",
    "    print('Common SOG: Changed '+surface.Name+' construction to '+surface.Construction_Name)\n",
    "    \n",
    "# garden SOG Slab\n",
    "surfaces = gardenSlab.idfobjects['BuildingSurface:Detailed']\n",
    "for i in range(0, len(gardenFloorSurfaces)):\n",
    "    \n",
    "    # grab surfaces from list of surfaces\n",
    "    surface = [x for x in surfaces if x.Name == gardenFloorSurfaces[i]][0]\n",
    "    surface.Construction_Name = 'Slab'\n",
    "    \n",
    "    #display changes\n",
    "    print('Garden SOG: Changed '+surface.Name+' construction to '+surface.Construction_Name)\n",
    "    \n",
    "# common basement Slab\n",
    "surfaces = commonBsmt.idfobjects['BuildingSurface:Detailed']\n",
    "for i in range(0, len(commonSlabSurfaces)):\n",
    "    \n",
    "    # grab surface from list of surfaces\n",
    "    surface = [x for x in surfaces if x.Name == commonSlabSurfaces[i]][0]\n",
    "    surface.Construction_Name = 'Slab'\n",
    "\n",
    "    #display changes\n",
    "    print('Common bsmt: Changed '+surface.Name+' construction to '+surface.Construction_Name)\n",
    "    \n",
    "# garden basement Slab\n",
    "surfaces = gardenBsmt.idfobjects['BuildingSurface:Detailed']\n",
    "for i in range(0, len(gardenSlabSurfaces)):\n",
    "    \n",
    "    # grab surfaces from list of surfaces\n",
    "    surface = [x for x in surfaces if x.Name == gardenSlabSurfaces[i]][0]\n",
    "    surface.Construction_Name = 'Slab'\n",
    "    \n",
    "    #display changes\n",
    "    print('Garden bsmt: Changed '+surface.Name+' construction to '+surface.Construction_Name) "
   ]
  },
  {
   "cell_type": "code",
   "execution_count": 8,
   "metadata": {},
   "outputs": [
    {
     "data": {
      "text/plain": [
       "[None, None, None, None]"
      ]
     },
     "execution_count": 8,
     "metadata": {},
     "output_type": "execute_result"
    }
   ],
   "source": [
    "## save idfs\n",
    "[x.save() for x in idfs]"
   ]
  },
  {
   "cell_type": "code",
   "execution_count": null,
   "metadata": {},
   "outputs": [],
   "source": []
  }
 ],
 "metadata": {
  "kernelspec": {
   "display_name": "Python 3",
   "language": "python",
   "name": "python3"
  },
  "language_info": {
   "codemirror_mode": {
    "name": "ipython",
    "version": 3
   },
   "file_extension": ".py",
   "mimetype": "text/x-python",
   "name": "python",
   "nbconvert_exporter": "python",
   "pygments_lexer": "ipython3",
   "version": "3.7.3"
  }
 },
 "nbformat": 4,
 "nbformat_minor": 2
}
