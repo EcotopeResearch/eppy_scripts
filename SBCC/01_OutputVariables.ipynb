{
 "cells": [
  {
   "cell_type": "code",
   "execution_count": 1,
   "metadata": {},
   "outputs": [],
   "source": [
    "import numpy as np\n",
    "import pandas as pd\n",
    "import sys\n",
    "\n",
    "from eppy import hvacbuilder\n",
    "from eppy import modeleditor\n",
    "from eppy.modeleditor import IDF"
   ]
  },
  {
   "cell_type": "code",
   "execution_count": 2,
   "metadata": {},
   "outputs": [],
   "source": [
    "# this function determines what idf version and connects the idd for eppy\n",
    "def eppy_connection(idffile):\n",
    "    fp = open(idffile)\n",
    "    lines=fp.readlines()\n",
    "    vers = \"\"\n",
    "    vers = vers.join(lines[0:20])\n",
    "    vers\n",
    "    if vers.find('8.7') != -1:\n",
    "        print('Using EnergyPlus version 8.7')\n",
    "        iddfile = 'C:\\\\EnergyPlusV8-7-0\\\\Energy+.idd'\n",
    "        IDF.setiddname(iddfile)\n",
    "        idf = IDF(idffile)\n",
    "        return idf\n",
    "    elif vers.find('8.8') != -1:\n",
    "        print('Using EnergyPlus version 8.8')\n",
    "        iddfile = 'C:\\\\EnergyPlusV8-8-0\\\\Energy+.idd'\n",
    "        IDF.setiddname(iddfile)\n",
    "        idf = IDF(idffile)\n",
    "        return idf\n",
    "    elif vers.find('8.9') != -1:\n",
    "        print('Using EnergyPlus version 8.9')\n",
    "        iddfile = 'C:\\\\EnergyPlusV8-9-0\\\\Energy+.idd'\n",
    "        IDF.setiddname(iddfile)\n",
    "        idf = IDF(idffile)\n",
    "        return idf\n",
    "    elif vers.find('9.0') != -1:\n",
    "        print('Using EnergyPlus version 9.0.1')\n",
    "        iddfile = 'C:\\\\EnergyPlusV9-0-1\\\\Energy+.idd'\n",
    "        IDF.setiddname(iddfile)\n",
    "        idf = IDF(idffile)\n",
    "        return idf\n",
    "    else:\n",
    "        print('IDF Type not found on line 3')"
   ]
  },
  {
   "cell_type": "code",
   "execution_count": 3,
   "metadata": {},
   "outputs": [
    {
     "name": "stdout",
     "output_type": "stream",
     "text": [
      "Using EnergyPlus version 9.0.1\n"
     ]
    }
   ],
   "source": [
    "#define paths\n",
    "path = 'C:\\\\Users\\\\scott\\\\Desktop\\\\tempRuns\\\\'\n",
    "name = 'HlthHos_2018A_Spkne - ap.idf'\n",
    "#make connections\n",
    "idf= eppy_connection(path+name)\n"
   ]
  },
  {
   "cell_type": "markdown",
   "metadata": {},
   "source": [
    "## Clean Up Output Variables"
   ]
  },
  {
   "cell_type": "code",
   "execution_count": 4,
   "metadata": {},
   "outputs": [],
   "source": [
    "# delete all output variables\n",
    "outputVariables = idf.idfobjects['Output:Variable']\n",
    "for i in range(0,len(outputVariables)):\n",
    "    idf.popidfobject('Output:Variable',0)\n",
    "    \n",
    "outputMeterFiles = idf.idfobjects['Output:Meter:MeterFileOnly']\n",
    "for i in range(0,len(outputMeterFiles)):\n",
    "    idf.popidfobject('Output:Meter:MeterFileOnly',0)"
   ]
  },
  {
   "cell_type": "code",
   "execution_count": 5,
   "metadata": {},
   "outputs": [],
   "source": [
    "# collect plant loop names\n",
    "plantLoops = idf.idfobjects['PlantLoop']\n",
    "keyValue = [plantLoop.Name for plantLoop in plantLoops]"
   ]
  },
  {
   "cell_type": "code",
   "execution_count": 6,
   "metadata": {},
   "outputs": [],
   "source": [
    "variableName = 'Plant Supply Side Cooling Demand Rate'\n",
    "reportingFrequency = 'hourly'\n",
    "\n",
    "# add output varaibles for plant loop heating and cooling demand rate\n",
    "for i in range(0, len(keyValue)):\n",
    "    \n",
    "    # create a new thermostat control\n",
    "    idf.newidfobject('Output:Variable')\n",
    "\n",
    "    # alter inputs to the newly crated idf object\n",
    "    idf.idfobjects['Output:Variable'][-1].Key_Value = keyValue[i]\n",
    "    idf.idfobjects['Output:Variable'][-1].Variable_Name = variableName\n",
    "    idf.idfobjects['Output:Variable'][-1].Reporting_Frequency = reportingFrequency\n",
    "    \n",
    "variableName = 'Plant Supply Side Heating Demand Rate'\n",
    "reportingFrequency = 'hourly'\n",
    "    \n",
    "for i in range(0, len(keyValue)):\n",
    "    \n",
    "    # create a new thermostat control\n",
    "    idf.newidfobject('Output:Variable')\n",
    "\n",
    "    # alter inputs to the newly crated idf object\n",
    "    idf.idfobjects['Output:Variable'][-1].Key_Value = keyValue[i]\n",
    "    idf.idfobjects['Output:Variable'][-1].Variable_Name = variableName\n",
    "    idf.idfobjects['Output:Variable'][-1].Reporting_Frequency = reportingFrequency\n",
    "    \n",
    "idf.save()"
   ]
  },
  {
   "cell_type": "code",
   "execution_count": 7,
   "metadata": {},
   "outputs": [
    {
     "data": {
      "text/plain": [
       "[\n",
       "OUTPUT:VARIABLE,\n",
       "    ChWSystem,                !- Key Value\n",
       "    Plant Supply Side Cooling Demand Rate,    !- Variable Name\n",
       "    hourly;                   !- Reporting Frequency\n",
       ", \n",
       "OUTPUT:VARIABLE,\n",
       "    CWSystem,                 !- Key Value\n",
       "    Plant Supply Side Cooling Demand Rate,    !- Variable Name\n",
       "    hourly;                   !- Reporting Frequency\n",
       ", \n",
       "OUTPUT:VARIABLE,\n",
       "    HWSystem,                 !- Key Value\n",
       "    Plant Supply Side Cooling Demand Rate,    !- Variable Name\n",
       "    hourly;                   !- Reporting Frequency\n",
       ", \n",
       "OUTPUT:VARIABLE,\n",
       "    SHWSystem,                !- Key Value\n",
       "    Plant Supply Side Cooling Demand Rate,    !- Variable Name\n",
       "    hourly;                   !- Reporting Frequency\n",
       ", \n",
       "OUTPUT:VARIABLE,\n",
       "    ChWSystem,                !- Key Value\n",
       "    Plant Supply Side Heating Demand Rate,    !- Variable Name\n",
       "    hourly;                   !- Reporting Frequency\n",
       ", \n",
       "OUTPUT:VARIABLE,\n",
       "    CWSystem,                 !- Key Value\n",
       "    Plant Supply Side Heating Demand Rate,    !- Variable Name\n",
       "    hourly;                   !- Reporting Frequency\n",
       ", \n",
       "OUTPUT:VARIABLE,\n",
       "    HWSystem,                 !- Key Value\n",
       "    Plant Supply Side Heating Demand Rate,    !- Variable Name\n",
       "    hourly;                   !- Reporting Frequency\n",
       ", \n",
       "OUTPUT:VARIABLE,\n",
       "    SHWSystem,                !- Key Value\n",
       "    Plant Supply Side Heating Demand Rate,    !- Variable Name\n",
       "    hourly;                   !- Reporting Frequency\n",
       "]"
      ]
     },
     "execution_count": 7,
     "metadata": {},
     "output_type": "execute_result"
    }
   ],
   "source": [
    "outputVariables"
   ]
  }
 ],
 "metadata": {
  "kernelspec": {
   "display_name": "Python 3",
   "language": "python",
   "name": "python3"
  },
  "language_info": {
   "codemirror_mode": {
    "name": "ipython",
    "version": 3
   },
   "file_extension": ".py",
   "mimetype": "text/x-python",
   "name": "python",
   "nbconvert_exporter": "python",
   "pygments_lexer": "ipython3",
   "version": "3.7.3"
  }
 },
 "nbformat": 4,
 "nbformat_minor": 2
}
