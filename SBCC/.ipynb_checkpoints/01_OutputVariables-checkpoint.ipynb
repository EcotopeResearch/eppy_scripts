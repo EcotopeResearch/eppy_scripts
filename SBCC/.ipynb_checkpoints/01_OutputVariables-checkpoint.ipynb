{
 "cells": [
  {
   "cell_type": "code",
   "execution_count": 1,
   "metadata": {},
   "outputs": [],
   "source": [
    "import numpy as np\n",
    "import pandas as pd\n",
    "import sys\n",
    "\n",
    "from eppy import hvacbuilder\n",
    "from eppy import modeleditor\n",
    "from eppy.modeleditor import IDF"
   ]
  },
  {
   "cell_type": "code",
   "execution_count": 2,
   "metadata": {},
   "outputs": [],
   "source": [
    "# this function determines what idf version and connects the idd for eppy\n",
    "def eppy_connection(idffile):\n",
    "    fp = open(idffile)\n",
    "    lines=fp.readlines()\n",
    "    vers = \"\"\n",
    "    vers = vers.join(lines[2:12])\n",
    "    vers\n",
    "    if vers.find('8.7') != -1:\n",
    "        print('Using EnergyPlus version 8.7')\n",
    "        iddfile = 'C:\\\\EnergyPlusV8-7-0\\\\Energy+.idd'\n",
    "        IDF.setiddname(iddfile)\n",
    "        idf = IDF(idffile)\n",
    "        return idf\n",
    "    elif vers.find('8.8') != -1:\n",
    "        print('Using EnergyPlus version 8.8')\n",
    "        iddfile = 'C:\\\\EnergyPlusV8-8-0\\\\Energy+.idd'\n",
    "        IDF.setiddname(iddfile)\n",
    "        idf = IDF(idffile)\n",
    "        return idf\n",
    "    elif vers.find('8.9') != -1:\n",
    "        print('Using EnergyPlus version 8.9')\n",
    "        iddfile = 'C:\\\\EnergyPlusV8-9-0\\\\Energy+.idd'\n",
    "        IDF.setiddname(iddfile)\n",
    "        idf = IDF(idffile)\n",
    "        return idf\n",
    "    elif vers.find('9.0') != -1:\n",
    "        print('Using EnergyPlus version 9.0.1')\n",
    "        iddfile = 'C:\\\\EnergyPlusV9-0-1\\\\Energy+.idd'\n",
    "        IDF.setiddname(iddfile)\n",
    "        idf = IDF(idffile)\n",
    "        return idf\n",
    "    else:\n",
    "        print('IDF Type not found on line 3')"
   ]
  },
  {
   "cell_type": "code",
   "execution_count": 3,
   "metadata": {},
   "outputs": [
    {
     "ename": "SyntaxError",
     "evalue": "(unicode error) 'unicodeescape' codec can't decode bytes in position 2-3: truncated \\UXXXXXXXX escape (<ipython-input-3-f464e1667da7>, line 2)",
     "output_type": "error",
     "traceback": [
      "\u001b[1;36m  File \u001b[1;32m\"<ipython-input-3-f464e1667da7>\"\u001b[1;36m, line \u001b[1;32m2\u001b[0m\n\u001b[1;33m    hospt_path = 'C:\\Users\\scott\\github\\sbcc-comm\\trunk\\Models_WSEC-Output\\Batch_WSEC_r84_021320\\IDF_r84_021320\\HlthHos_2006A_Spkne - ap.idf'\u001b[0m\n\u001b[1;37m                ^\u001b[0m\n\u001b[1;31mSyntaxError\u001b[0m\u001b[1;31m:\u001b[0m (unicode error) 'unicodeescape' codec can't decode bytes in position 2-3: truncated \\UXXXXXXXX escape\n"
     ]
    }
   ],
   "source": [
    "#define paths\n",
    "hospt_path = 'C:\\Users\\scott\\github\\sbcc-comm\\trunk\\Models_WSEC-Output\\Batch_WSEC_r84_021320\\IDF_r84_021320\\HlthHos_2006A_Spkne - ap.idf'\n",
    "\n",
    "#make connections\n",
    "hosp= eppy_connection(hospt_path)\n"
   ]
  },
  {
   "cell_type": "markdown",
   "metadata": {},
   "source": [
    "## Remove Existing Exterior:Lights from all idfs"
   ]
  },
  {
   "cell_type": "code",
   "execution_count": 4,
   "metadata": {},
   "outputs": [],
   "source": [
    "for i in range(0, len(idfs)):\n",
    "    # create list for exterior lights\n",
    "    existingExtLights = idfs[i].idfobjects['EXTERIOR:LIGHTS']\n",
    "\n",
    "    #remove all items in exterior lights list\n",
    "    for i in range(0, len(existingExtLights)):\n",
    "        existingExtLights.remove(existingExtLights[0])"
   ]
  },
  {
   "cell_type": "markdown",
   "metadata": {},
   "source": [
    "## Exterior:Lights for all idfs"
   ]
  },
  {
   "cell_type": "code",
   "execution_count": 5,
   "metadata": {},
   "outputs": [],
   "source": [
    "# add exterior:lights to all idfs\n",
    "newExtLights = ['stairLights', 'intPrkLights', 'extPrkLights']\n",
    "\n",
    "# loop through all idfs [4]\n",
    "for j in range(0, len(idfs)):\n",
    "    # loop through lights to add [3]\n",
    "    for i in range(0, len(newExtLights)):\n",
    "        \n",
    "        # create a new thermostat control\n",
    "        idfs[j].newidfobject('Exterior:Lights')\n",
    "\n",
    "        # alter inputs to the newly crated idf object\n",
    "        idfs[j].idfobjects['Exterior:Lights'][-1].Name = newExtLights[i]\n",
    "        idfs[j].idfobjects['Exterior:Lights'][-1].Schedule_Name = 'ExteriorLightingProfile'\n",
    "        idfs[j].idfobjects['Exterior:Lights'][-1].Design_Level = 500\n",
    "        idfs[j].idfobjects['Exterior:Lights'][-1].EndUse_Subcategory = 'Exterior-Lights'"
   ]
  },
  {
   "cell_type": "markdown",
   "metadata": {},
   "source": [
    "## Exterior:Lights for Garden idfs"
   ]
  },
  {
   "cell_type": "code",
   "execution_count": 6,
   "metadata": {},
   "outputs": [],
   "source": [
    "# add exterior:lights to all idfs\n",
    "newExtLights = ['corrExtLights']\n",
    "\n",
    "# loop through all idfs [4]\n",
    "for j in range(0, len(garden)):\n",
    "    # loop through lights to add [3]\n",
    "    for i in range(0, len(newExtLights)):\n",
    "        \n",
    "        # create a new thermostat control\n",
    "        garden[j].newidfobject('Exterior:Lights')\n",
    "\n",
    "        # alter inputs to the newly crated idf object\n",
    "        garden[j].idfobjects['Exterior:Lights'][-1].Name = newExtLights[i]\n",
    "        garden[j].idfobjects['Exterior:Lights'][-1].Schedule_Name = 'ExteriorLightingProfile'\n",
    "        garden[j].idfobjects['Exterior:Lights'][-1].Design_Level = 500\n",
    "        garden[j].idfobjects['Exterior:Lights'][-1].EndUse_Subcategory = 'Exterior-Lights'"
   ]
  },
  {
   "cell_type": "code",
   "execution_count": 7,
   "metadata": {},
   "outputs": [
    {
     "data": {
      "text/plain": [
       "[None, None, None, None]"
      ]
     },
     "execution_count": 7,
     "metadata": {},
     "output_type": "execute_result"
    }
   ],
   "source": [
    "[x.save() for x in idfs]"
   ]
  },
  {
   "cell_type": "code",
   "execution_count": null,
   "metadata": {},
   "outputs": [],
   "source": []
  },
  {
   "cell_type": "code",
   "execution_count": null,
   "metadata": {},
   "outputs": [],
   "source": []
  }
 ],
 "metadata": {
  "kernelspec": {
   "display_name": "Python 3",
   "language": "python",
   "name": "python3"
  },
  "language_info": {
   "codemirror_mode": {
    "name": "ipython",
    "version": 3
   },
   "file_extension": ".py",
   "mimetype": "text/x-python",
   "name": "python",
   "nbconvert_exporter": "python",
   "pygments_lexer": "ipython3",
   "version": "3.7.3"
  }
 },
 "nbformat": 4,
 "nbformat_minor": 2
}
