{
 "cells": [
  {
   "cell_type": "code",
   "execution_count": 1,
   "metadata": {},
   "outputs": [],
   "source": [
    "import numpy as np\n",
    "import pandas as pd\n",
    "import sys\n",
    "\n",
    "from eppy import hvacbuilder\n",
    "from eppy import modeleditor\n",
    "from eppy.modeleditor import IDF"
   ]
  },
  {
   "cell_type": "code",
   "execution_count": 2,
   "metadata": {},
   "outputs": [],
   "source": [
    "# this function determines what idf version and connects the idd for eppy\n",
    "def eppy_connection(idffile):\n",
    "    fp = open(idffile)\n",
    "    lines=fp.readlines()\n",
    "    vers = \"\"\n",
    "    vers = vers.join(lines[2:12])\n",
    "    vers\n",
    "    if vers.find('8.7') != -1:\n",
    "        print('Using EnergyPlus version 8.7')\n",
    "        iddfile = 'C:\\\\EnergyPlusV8-7-0\\\\Energy+.idd'\n",
    "        IDF.setiddname(iddfile)\n",
    "        idf = IDF(idffile)\n",
    "        return idf\n",
    "    elif vers.find('8.8') != -1:\n",
    "        print('Using EnergyPlus version 8.8')\n",
    "        iddfile = 'C:\\\\EnergyPlusV8-8-0\\\\Energy+.idd'\n",
    "        IDF.setiddname(iddfile)\n",
    "        idf = IDF(idffile)\n",
    "        return idf\n",
    "    elif vers.find('8.9') != -1:\n",
    "        print('Using EnergyPlus version 8.9')\n",
    "        iddfile = 'C:\\\\EnergyPlusV8-9-0\\\\Energy+.idd'\n",
    "        IDF.setiddname(iddfile)\n",
    "        idf = IDF(idffile)\n",
    "        return idf\n",
    "    elif vers.find('9.0') != -1:\n",
    "        print('Using EnergyPlus version 9.0.1')\n",
    "        iddfile = 'C:\\\\EnergyPlusV9-0-1\\\\Energy+.idd'\n",
    "        IDF.setiddname(iddfile)\n",
    "        idf = IDF(idffile)\n",
    "        return idf\n",
    "    else:\n",
    "        print('IDF Type not found on line 3')"
   ]
  },
  {
   "cell_type": "code",
   "execution_count": 3,
   "metadata": {},
   "outputs": [
    {
     "name": "stdout",
     "output_type": "stream",
     "text": [
      "Using EnergyPlus version 8.7\n",
      "Using EnergyPlus version 8.7\n",
      "Using EnergyPlus version 8.7\n",
      "Using EnergyPlus version 8.7\n"
     ]
    }
   ],
   "source": [
    "#define paths\n",
    "commonSlab_path = 'C:\\\\Users\\\\scott\\\\github\\\\DOE_LRMF\\\\SEED_Models\\\\common_hp_slab_IECC_2012_V8.7.idf'\n",
    "commonBsmt_path = 'C:\\\\Users\\\\scott\\\\github\\\\DOE_LRMF\\\\SEED_Models\\\\common_hp_heatedbsmtIECC_2012_V8.7.idf'\n",
    "gardenSlab_path = 'C:\\\\Users\\\\scott\\\\github\\\\DOE_LRMF\\\\SEED_Models\\\\garden_hp_slab_IECC_2012_V8.7.idf'\n",
    "gardenBsmt_path = 'C:\\\\Users\\\\scott\\\\github\\\\DOE_LRMF\\\\SEED_Models\\\\garden_hp_heatedbsmtIECC_2012_V8.7.idf'\n",
    "\n",
    "#make connections\n",
    "commonSlab = eppy_connection(commonSlab_path)\n",
    "commonBsmt = eppy_connection(commonBsmt_path)\n",
    "gardenSlab = eppy_connection(gardenSlab_path)\n",
    "gardenBsmt = eppy_connection(gardenBsmt_path)\n",
    "\n",
    "# create groups\n",
    "idfs = [commonSlab, commonBsmt, gardenSlab, gardenBsmt]\n",
    "common = [commonSlab, commonBsmt]\n",
    "garden = [gardenSlab, gardenBsmt]\n",
    "bsmt = [commonBsmt, gardenBsmt]\n",
    "slab = [commonSlab, gardenSlab]"
   ]
  },
  {
   "cell_type": "markdown",
   "metadata": {},
   "source": [
    "## Remove Existing Exterior:Lights from all idfs"
   ]
  },
  {
   "cell_type": "code",
   "execution_count": 6,
   "metadata": {},
   "outputs": [],
   "source": [
    "for i in range(0, len(idfs)):\n",
    "    # create list for exterior lights\n",
    "    existingExtLights = idfs[i].idfobjects['EXTERIOR:LIGHTS']\n",
    "\n",
    "    #remove all items in exterior lights list\n",
    "    for i in range(0, len(existingExtLights)):\n",
    "        existingExtLights.remove(existingExtLights[0])"
   ]
  },
  {
   "cell_type": "markdown",
   "metadata": {},
   "source": [
    "## Exterior:Lights for all idfs"
   ]
  },
  {
   "cell_type": "code",
   "execution_count": 10,
   "metadata": {},
   "outputs": [],
   "source": [
    "# add exterior:lights to all idfs\n",
    "newExtLights = ['stairLights', 'intPrkLights', 'extPrkLights']\n",
    "\n",
    "# loop through all idfs [4]\n",
    "for j in range(0, len(idfs)):\n",
    "    # loop through lights to add [3]\n",
    "    for i in range(0, len(newExtLights)):\n",
    "        \n",
    "        # create a new thermostat control\n",
    "        idfs[j].newidfobject('Exterior:Lights')\n",
    "\n",
    "        # alter inputs to the newly crated idf object\n",
    "        idfs[j].idfobjects['Exterior:Lights'][-1].Name = newExtLights[i]\n",
    "        idfs[j].idfobjects['Exterior:Lights'][-1].Schedule_Name = 'ExteriorLightingProfile'\n",
    "        idfs[j].idfobjects['Exterior:Lights'][-1].Design_Level = 500\n",
    "        idfs[j].idfobjects['Exterior:Lights'][-1].EndUse_Subcategory = 'Exterior-Lights'"
   ]
  },
  {
   "cell_type": "markdown",
   "metadata": {},
   "source": [
    "## Exterior:Lights for Garden idfs"
   ]
  },
  {
   "cell_type": "code",
   "execution_count": 11,
   "metadata": {},
   "outputs": [],
   "source": [
    "# add exterior:lights to all idfs\n",
    "newExtLights = ['corrExtLights']\n",
    "\n",
    "# loop through all idfs [4]\n",
    "for j in range(0, len(garden)):\n",
    "    # loop through lights to add [3]\n",
    "    for i in range(0, len(newExtLights)):\n",
    "        \n",
    "        # create a new thermostat control\n",
    "        garden[j].newidfobject('Exterior:Lights')\n",
    "\n",
    "        # alter inputs to the newly crated idf object\n",
    "        garden[j].idfobjects['Exterior:Lights'][-1].Name = newExtLights[i]\n",
    "        garden[j].idfobjects['Exterior:Lights'][-1].Schedule_Name = 'ExteriorLightingProfile'\n",
    "        garden[j].idfobjects['Exterior:Lights'][-1].Design_Level = 500\n",
    "        garden[j].idfobjects['Exterior:Lights'][-1].EndUse_Subcategory = 'Exterior-Lights'"
   ]
  },
  {
   "cell_type": "code",
   "execution_count": 12,
   "metadata": {},
   "outputs": [
    {
     "data": {
      "text/plain": [
       "[\n",
       "EXTERIOR:LIGHTS,\n",
       "    stairLights,              !- Name\n",
       "    ExteriorLightingProfile,    !- Schedule Name\n",
       "    500,                      !- Design Level\n",
       "    ,                         !- Control Option\n",
       "    Exterior-Lights;          !- EndUse Subcategory\n",
       ", \n",
       "EXTERIOR:LIGHTS,\n",
       "    intPrkLights,             !- Name\n",
       "    ExteriorLightingProfile,    !- Schedule Name\n",
       "    500,                      !- Design Level\n",
       "    ,                         !- Control Option\n",
       "    Exterior-Lights;          !- EndUse Subcategory\n",
       ", \n",
       "EXTERIOR:LIGHTS,\n",
       "    extPrkLights,             !- Name\n",
       "    ExteriorLightingProfile,    !- Schedule Name\n",
       "    500,                      !- Design Level\n",
       "    ,                         !- Control Option\n",
       "    Exterior-Lights;          !- EndUse Subcategory\n",
       ", \n",
       "EXTERIOR:LIGHTS,\n",
       "    corrExtLights,            !- Name\n",
       "    ExteriorLightingProfile,    !- Schedule Name\n",
       "    500,                      !- Design Level\n",
       "    ,                         !- Control Option\n",
       "    Exterior-Lights;          !- EndUse Subcategory\n",
       "]"
      ]
     },
     "execution_count": 12,
     "metadata": {},
     "output_type": "execute_result"
    }
   ],
   "source": [
    "# create list for exterior lights\n",
    "existingExtLights = garden[1].idfobjects['EXTERIOR:LIGHTS']\n",
    "existingExtLights"
   ]
  },
  {
   "cell_type": "code",
   "execution_count": 13,
   "metadata": {},
   "outputs": [
    {
     "data": {
      "text/plain": [
       "[None, None, None, None]"
      ]
     },
     "execution_count": 13,
     "metadata": {},
     "output_type": "execute_result"
    }
   ],
   "source": [
    "[x.save() for x in idfs]"
   ]
  },
  {
   "cell_type": "code",
   "execution_count": null,
   "metadata": {},
   "outputs": [],
   "source": []
  },
  {
   "cell_type": "code",
   "execution_count": null,
   "metadata": {},
   "outputs": [],
   "source": []
  }
 ],
 "metadata": {
  "kernelspec": {
   "display_name": "Python 3",
   "language": "python",
   "name": "python3"
  },
  "language_info": {
   "codemirror_mode": {
    "name": "ipython",
    "version": 3
   },
   "file_extension": ".py",
   "mimetype": "text/x-python",
   "name": "python",
   "nbconvert_exporter": "python",
   "pygments_lexer": "ipython3",
   "version": "3.7.3"
  }
 },
 "nbformat": 4,
 "nbformat_minor": 2
}
