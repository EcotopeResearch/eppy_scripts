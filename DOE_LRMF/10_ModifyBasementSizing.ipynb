{
 "cells": [
  {
   "cell_type": "code",
   "execution_count": 1,
   "metadata": {},
   "outputs": [],
   "source": [
    "import numpy as np\n",
    "import pandas as pd\n",
    "import sys\n",
    "import os \n",
    "\n",
    "from os import path\n",
    "from eppy import eppy\n",
    "from eppy import hvacbuilder\n",
    "from eppy import modeleditor\n",
    "from eppy.modeleditor import IDF"
   ]
  },
  {
   "cell_type": "code",
   "execution_count": 2,
   "metadata": {},
   "outputs": [],
   "source": [
    "def eppy_connection(idffile):\n",
    "    fp = open(idffile)\n",
    "    lines=fp.readlines()\n",
    "    vers = \"\"\n",
    "    vers = vers.join(lines[2:12])\n",
    "    vers\n",
    "    if vers.find('8.7') != -1:\n",
    "        print('Using EnergyPlus version 8.7')\n",
    "        iddfile = 'C:\\\\EnergyPlusV8-7-0\\\\Energy+.idd'\n",
    "        IDF.setiddname(iddfile)\n",
    "        idf = IDF(idffile)\n",
    "        return idf\n",
    "    elif vers.find('8.8') != -1:\n",
    "        print('Using EnergyPlus version 8.8')\n",
    "        iddfile = 'C:\\\\EnergyPlusV8-8-0\\\\Energy+.idd'\n",
    "        IDF.setiddname(iddfile)\n",
    "        idf = IDF(idffile)\n",
    "        return idf\n",
    "    elif vers.find('8.9') != -1:\n",
    "        print('Using EnergyPlus version 8.9')\n",
    "        iddfile = 'C:\\\\EnergyPlusV8-9-0\\\\Energy+.idd'\n",
    "        IDF.setiddname(iddfile)\n",
    "        idf = IDF(idffile)\n",
    "        return idf\n",
    "    elif vers.find('9.0') != -1:\n",
    "        print('Using EnergyPlus version 9.0.1')\n",
    "        iddfile = 'C:\\\\EnergyPlusV9-0-1\\\\Energy+.idd'\n",
    "        IDF.setiddname(iddfile)\n",
    "        idf = IDF(idffile)\n",
    "        return idf\n",
    "    else:\n",
    "        print('IDF Type not found on line 3')"
   ]
  },
  {
   "cell_type": "code",
   "execution_count": 3,
   "metadata": {},
   "outputs": [
    {
     "name": "stdout",
     "output_type": "stream",
     "text": [
      "Using EnergyPlus version 8.7\n",
      "Using EnergyPlus version 8.7\n",
      "Using EnergyPlus version 8.7\n",
      "Using EnergyPlus version 8.7\n"
     ]
    }
   ],
   "source": [
    "#define paths\n",
    "commonSlab_path = os.path.join(path.abspath(path.join('',\"../..\")), \"DOE_LRMF\\\\jEplus\\\\idfs\\\\common_hp_slab_IECC_2012_V8.7.idf\")\n",
    "commonBsmt_path = os.path.join(path.abspath(path.join('',\"../..\")), \"DOE_LRMF\\\\jEplus\\\\idfs\\\\common_hp_heatedbsmtIECC_2012_V8.7.idf\")\n",
    "gardenSlab_path = os.path.join(path.abspath(path.join('',\"../..\")), \"DOE_LRMF\\\\jEplus\\\\idfs\\\\garden_hp_slab_IECC_2012_V8.7.idf\")\n",
    "gardenBsmt_path = os.path.join(path.abspath(path.join('',\"../..\")), \"DOE_LRMF\\\\jEplus\\\\idfs\\\\garden_hp_heatedbsmtIECC_2012_V8.7.idf\")\n",
    "\n",
    "#make connections\n",
    "commonSlab = eppy_connection(commonSlab_path)\n",
    "commonBsmt = eppy_connection(commonBsmt_path)\n",
    "gardenSlab = eppy_connection(gardenSlab_path)\n",
    "gardenBsmt = eppy_connection(gardenBsmt_path)\n",
    "\n",
    "# create groups\n",
    "idfs = [commonSlab, commonBsmt, gardenSlab, gardenBsmt]\n",
    "common = [commonSlab, commonBsmt]\n",
    "garden = [gardenSlab, gardenBsmt]\n",
    "bsmt = [commonBsmt, gardenBsmt]\n",
    "slab = [commonSlab, gardenSlab]"
   ]
  },
  {
   "cell_type": "code",
   "execution_count": 4,
   "metadata": {},
   "outputs": [],
   "source": [
    "# variables\n",
    "siz_flowrate = 0.01\n",
    "siz_method = 'Flow/System'\n",
    "cool_cap = 1000\n",
    "heat_cap = 15000\n",
    "pressure = 10"
   ]
  },
  {
   "cell_type": "code",
   "execution_count": 5,
   "metadata": {},
   "outputs": [],
   "source": [
    "for i in range(0,len(bsmt)):\n",
    "    \n",
    "    # edit Sizing:System\n",
    "    siz_systems = bsmt[i].idfobjects['Sizing:System']\n",
    "    siz_system = [x for x in siz_systems if x.AirLoop_Name == 'Central System_unitheatedbsmt'][0]\n",
    "\n",
    "    siz_system.Design_Outdoor_Air_Flow_Rate = siz_flowrate\n",
    "    siz_system.Cooling_Supply_Air_Flow_Rate_Method =siz_method\n",
    "    siz_system.Cooling_Supply_Air_Flow_Rate = siz_flowrate\n",
    "    siz_system.Heating_Supply_Air_Flow_Rate_Method = siz_method\n",
    "    siz_system.Heating_Supply_Air_Flow_Rate = siz_flowrate\n",
    "    siz_system.Cooling_Design_Capacity = cool_cap\n",
    "    siz_system.Heating_Design_Capacity = heat_cap\n",
    "    \n",
    "    # edit Fan:OnOff\n",
    "    fans = bsmt[i].idfobjects['Fan:OnOff']\n",
    "    fan = [x for x in fans if x.Name == 'Supply Fan_unitheatedbsmt'][0]\n",
    "\n",
    "    fan.Maximum_Flow_Rate = siz_flowrate\n",
    "    fan.Pressure_Rise = pressure\n",
    "    \n",
    "    #edit Coil:Cooling:DX:SingleSpeed\n",
    "    coolings = bsmt[i].idfobjects['Coil:Cooling:DX:SingleSpeed']\n",
    "    cooling = [x for x in coolings if x.Name == 'DX Cooling Coil_unitheatedbsmt'][0]\n",
    "\n",
    "    cooling.Gross_Rated_Total_Cooling_Capacity = cool_cap\n",
    "    cooling.Rated_Air_Flow_Rate = siz_flowrate \n",
    "    \n",
    "    #edit Coil:Cooling:DX:SingleSpeed\n",
    "    heatings = bsmt[i].idfobjects['Coil:Heating:DX:SingleSpeed']\n",
    "    heating = [x for x in heatings if x.Name == 'Main DX Heating Coil_unitheatedbsmt'][0]\n",
    "\n",
    "    heating.Gross_Rated_Heating_Capacity = heat_cap\n",
    "    heating.Rated_Air_Flow_Rate = siz_flowrate\n",
    "\n",
    "    #edit AirLoopHVAC\n",
    "    airloops = bsmt[i].idfobjects['AirLoopHVAC']\n",
    "    airloop = [x for x in airloops if x.Name == 'Central System_unitheatedbsmt'][0]\n",
    "\n",
    "    airloop.Design_Supply_Air_Flow_Rate = siz_flowrate\n",
    "    \n",
    "    bsmt[i].save()"
   ]
  },
  {
   "cell_type": "code",
   "execution_count": 6,
   "metadata": {},
   "outputs": [
    {
     "data": {
      "text/plain": [
       "\n",
       "Coil:Cooling:DX:SingleSpeed,\n",
       "    DX Cooling Coil_unitheatedbsmt,    !- Name\n",
       "    always_avail,             !- Availability Schedule Name\n",
       "    1000,                     !- Gross Rated Total Cooling Capacity\n",
       "    autosize,                 !- Gross Rated Sensible Heat Ratio\n",
       "    @@BSMTCLCOP@@,            !- Gross Rated Cooling COP\n",
       "    0.01,                     !- Rated Air Flow Rate\n",
       "    ,                         !- Rated Evaporator Fan Power Per Volume Flow Rate\n",
       "    Cooling Coil Air Inlet Node_unitheatedbsmt,    !- Air Inlet Node Name\n",
       "    Heating Coil Air Inlet Node_unitheatedbsmt,    !- Air Outlet Node Name\n",
       "    @@BSMTCLCURVE_CAPFT@@,    !- Total Cooling Capacity Function of Temperature Curve Name\n",
       "    @@BSMTCLCURVE_CAPFFF@@,    !- Total Cooling Capacity Function of Flow Fraction Curve Name\n",
       "    @@BSMTCLCURVE_EIRFT@@,    !- Energy Input Ratio Function of Temperature Curve Name\n",
       "    @@BSMTCLCURVE_EIRFFF@@,    !- Energy Input Ratio Function of Flow Fraction Curve Name\n",
       "    @@BSMTCLCURVE_PLFFPLR@@;    !- Part Load Fraction Correlation Curve Name"
      ]
     },
     "execution_count": 6,
     "metadata": {},
     "output_type": "execute_result"
    }
   ],
   "source": [
    "[x for x in coolings if x.Name == 'DX Cooling Coil_unitheatedbsmt'][0]"
   ]
  },
  {
   "cell_type": "code",
   "execution_count": null,
   "metadata": {},
   "outputs": [],
   "source": []
  }
 ],
 "metadata": {
  "kernelspec": {
   "display_name": "Python 3",
   "language": "python",
   "name": "python3"
  },
  "language_info": {
   "codemirror_mode": {
    "name": "ipython",
    "version": 3
   },
   "file_extension": ".py",
   "mimetype": "text/x-python",
   "name": "python",
   "nbconvert_exporter": "python",
   "pygments_lexer": "ipython3",
   "version": "3.7.3"
  }
 },
 "nbformat": 4,
 "nbformat_minor": 2
}
