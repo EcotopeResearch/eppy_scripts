{
 "cells": [
  {
   "cell_type": "code",
   "execution_count": 2,
   "metadata": {},
   "outputs": [],
   "source": [
    "import numpy as np\n",
    "import pandas as pd\n",
    "import sys\n",
    "\n",
    "from eppy import hvacbuilder\n",
    "from eppy import modeleditor\n",
    "from eppy.modeleditor import IDF"
   ]
  },
  {
   "cell_type": "code",
   "execution_count": 3,
   "metadata": {},
   "outputs": [],
   "source": [
    "def eppy_connection(idffile):\n",
    "    fp = open(idffile)\n",
    "    lines=fp.readlines()\n",
    "    vers = \"\"\n",
    "    vers = vers.join(lines[2:12])\n",
    "    vers\n",
    "    if vers.find('8.7') != -1:\n",
    "        print('Using EnergyPlus version 8.7')\n",
    "        iddfile = 'C:\\\\EnergyPlusV8-7-0\\\\Energy+.idd'\n",
    "        IDF.setiddname(iddfile)\n",
    "        idf = IDF(idffile)\n",
    "        return idf\n",
    "    elif vers.find('8.8') != -1:\n",
    "        print('Using EnergyPlus version 8.8')\n",
    "        iddfile = 'C:\\\\EnergyPlusV8-8-0\\\\Energy+.idd'\n",
    "        IDF.setiddname(iddfile)\n",
    "        idf = IDF(idffile)\n",
    "        return idf\n",
    "    elif vers.find('8.9') != -1:\n",
    "        print('Using EnergyPlus version 8.9')\n",
    "        iddfile = 'C:\\\\EnergyPlusV8-9-0\\\\Energy+.idd'\n",
    "        IDF.setiddname(iddfile)\n",
    "        idf = IDF(idffile)\n",
    "        return idf\n",
    "    elif vers.find('9.0') != -1:\n",
    "        print('Using EnergyPlus version 9.0.1')\n",
    "        iddfile = 'C:\\\\EnergyPlusV9-0-1\\\\Energy+.idd'\n",
    "        IDF.setiddname(iddfile)\n",
    "        idf = IDF(idffile)\n",
    "        return idf\n",
    "    else:\n",
    "        print('IDF Type not found on line 3')"
   ]
  },
  {
   "cell_type": "code",
   "execution_count": 4,
   "metadata": {},
   "outputs": [
    {
     "name": "stdout",
     "output_type": "stream",
     "text": [
      "Using EnergyPlus version 8.7\n"
     ]
    }
   ],
   "source": [
    "#define paths\n",
    "idf_path = 'C:\\\\Users\\\\scott\\\\github\\\\DOE_LRMF\\\\SEED_Models\\\\common_hp_slab_IECC_2012_V8.7.idf'\n",
    "\n",
    "#make connections\n",
    "idf = eppy_connection(idf_path)"
   ]
  },
  {
   "cell_type": "code",
   "execution_count": 3,
   "metadata": {},
   "outputs": [],
   "source": [
    "idf.idfobjects['BUILDING'][0].Name = \"common_hp_slab_IECC_2012_seed\"\n",
    "# idf.idfobjects['BUILDING'][0]"
   ]
  },
  {
   "cell_type": "code",
   "execution_count": 4,
   "metadata": {},
   "outputs": [],
   "source": [
    "materials = idf.idfobjects[\"MATERIAL\"]\n",
    "#materials[0]"
   ]
  },
  {
   "cell_type": "code",
   "execution_count": 5,
   "metadata": {},
   "outputs": [],
   "source": [
    "Loops = idf.idfobjects[\"AIRLOOPHVAC:UNITARYHEATPUMP:AIRTOAIR\"]\n",
    "#Loops[1]"
   ]
  },
  {
   "cell_type": "markdown",
   "metadata": {},
   "source": [
    "## Add Lights"
   ]
  },
  {
   "cell_type": "code",
   "execution_count": 6,
   "metadata": {},
   "outputs": [],
   "source": [
    "#add lights for corridors\n",
    "newZones = ['G Corridor', 'M Corridor', 'T Corridor']\n",
    "\n",
    "for i in range(0, len(newZones)):\n",
    "    \n",
    "    # create a new thermostat control\n",
    "    idf.newidfobject('Lights')\n",
    "\n",
    "    # alter inputs to the newly crated idf object\n",
    "    idf.idfobjects['Lights'][-1].Name = ('Corridor Lights Lighting_' + newZones[i])\n",
    "    idf.idfobjects['Lights'][-1].Zone_or_ZoneList_Name = newZones[i]\n",
    "    idf.idfobjects['Lights'][-1].Schedule_Name = 'LightingProfile_EELighting'\n",
    "    idf.idfobjects['Lights'][-1].Design_Level_Calculation_Method = 'Watts/Area'\n",
    "    idf.idfobjects['Lights'][-1].Watts_per_Zone_Floor_Area = 0.288\n",
    "    idf.idfobjects['Lights'][-1].Return_Air_Fraction = 0\n",
    "    idf.idfobjects['Lights'][-1].Fraction_Radiant = 0.6\n",
    "    idf.idfobjects['Lights'][-1].Fraction_Visible = 0.2\n",
    "    idf.idfobjects['Lights'][-1].Fraction_Replaceable = 0\n",
    "\n",
    "idf.save()"
   ]
  },
  {
   "cell_type": "markdown",
   "metadata": {},
   "source": [
    "## Add ZoneVentilation:DesignFlowRate"
   ]
  },
  {
   "cell_type": "code",
   "execution_count": 7,
   "metadata": {},
   "outputs": [],
   "source": [
    "#add lights for corridors\n",
    "newZones = ['G Corridor', 'M Corridor', 'T Corridor']\n",
    "\n",
    "for i in range(0, len(newZones)):\n",
    "    \n",
    "    # create a new thermostat control\n",
    "    idf.newidfobject('ZoneVentilation:DesignFlowRate')\n",
    "\n",
    "    # alter inputs to the newly crated idf object\n",
    "    idf.idfobjects['ZoneVentilation:DesignFlowRate'][-1].Name = ('Ventilation_' + newZones[i])\n",
    "    idf.idfobjects['ZoneVentilation:DesignFlowRate'][-1].Zone_or_ZoneList_Name = newZones[i]\n",
    "    idf.idfobjects['ZoneVentilation:DesignFlowRate'][-1].Schedule_Name = 'always_avail'\n",
    "    idf.idfobjects['ZoneVentilation:DesignFlowRate'][-1].Design_Flow_Rate = 'Flow/Zone'\n",
    "    idf.idfobjects['ZoneVentilation:DesignFlowRate'][-1].Design_Flow_Rate = 0.0212524794559365\n",
    "    idf.idfobjects['ZoneVentilation:DesignFlowRate'][-1].Ventilation_Type = 'Exhaust'\n",
    "    idf.idfobjects['ZoneVentilation:DesignFlowRate'][-1].Fan_Pressure_Rise = 0\n",
    "    idf.idfobjects['ZoneVentilation:DesignFlowRate'][-1].Fan_Total_Efficiency = 1\n",
    "    idf.idfobjects['ZoneVentilation:DesignFlowRate'][-1].Constant_Term_Coefficient = 1\n",
    "    idf.idfobjects['ZoneVentilation:DesignFlowRate'][-1].Temperature_Term_Coefficient = 0\n",
    "    idf.idfobjects['ZoneVentilation:DesignFlowRate'][-1].Velocity_Term_Coefficient = 0\n",
    "    idf.idfobjects['ZoneVentilation:DesignFlowRate'][-1].Velocity_Squared_Term_Coefficient = 0\n",
    "    idf.idfobjects['ZoneVentilation:DesignFlowRate'][-1].Minimum_Indoor_Temperature = -100\n",
    "    idf.idfobjects['ZoneVentilation:DesignFlowRate'][-1].Maximum_Indoor_Temperature = 100\n",
    "    idf.idfobjects['ZoneVentilation:DesignFlowRate'][-1].Delta_Temperature = -100\n",
    "    idf.idfobjects['ZoneVentilation:DesignFlowRate'][-1].Minimum_Outdoor_Temperature = -100\n",
    "    idf.idfobjects['ZoneVentilation:DesignFlowRate'][-1].Maximum_Outdoor_Temperature = 100\n",
    "    idf.idfobjects['ZoneVentilation:DesignFlowRate'][-1].Maximum_Wind_Speed = 40   \n",
    "    \n",
    "idf.save()"
   ]
  },
  {
   "cell_type": "markdown",
   "metadata": {},
   "source": [
    "## Add Coil:Heating:DX:SingleSpeed"
   ]
  },
  {
   "cell_type": "code",
   "execution_count": 8,
   "metadata": {},
   "outputs": [],
   "source": [
    "#add zone thermostat control for corridors\n",
    "newZones = ['G Corridor', 'M Corridor', 'T Corridor']\n",
    "\n",
    "for i in range(0, len(newZones)):\n",
    "    \n",
    "    # create a new thermostat control\n",
    "    idf.newidfobject('Coil:Heating:DX:SingleSpeed')\n",
    "    \n",
    "    # alter inputs to the newly crated idf object\n",
    "    idf.idfobjects['Coil:Heating:DX:SingleSpeed'][-1].Name = ('Main DX Heating Coil_' + newZones[i])\n",
    "    idf.idfobjects['Coil:Heating:DX:SingleSpeed'][-1].Availability_Schedule_Name = 'always_avail'\n",
    "    idf.idfobjects['Coil:Heating:DX:SingleSpeed'][-1].Gross_Rated_Heating_Capacity = 'autosize'\n",
    "    idf.idfobjects['Coil:Heating:DX:SingleSpeed'][-1].Gross_Rated_Heating_COP = 3.63216498787731\n",
    "    idf.idfobjects['Coil:Heating:DX:SingleSpeed'][-1].Rated_Air_Flow_Rate = 'autosize'\n",
    "    idf.idfobjects['Coil:Heating:DX:SingleSpeed'][-1].Air_Inlet_Node_Name = ('Heating Coil Air Inlet Node_' + newZones[i])\n",
    "    idf.idfobjects['Coil:Heating:DX:SingleSpeed'][-1].Air_Outlet_Node_Name = ('Supp Heating Coil Air Inlet Node_' + newZones[i])\n",
    "    idf.idfobjects['Coil:Heating:DX:SingleSpeed'][-1].Heating_Capacity_Function_of_Temperature_Curve_Name = 'HPACHeatCapFT'\n",
    "    idf.idfobjects['Coil:Heating:DX:SingleSpeed'][-1].Heating_Capacity_Function_of_Flow_Fraction_Curve_Name = 'HPACHeatCapFFF'\n",
    "    idf.idfobjects['Coil:Heating:DX:SingleSpeed'][-1].Energy_Input_Ratio_Function_of_Temperature_Curve_Name = 'HPACHeatEIRFT'\n",
    "    idf.idfobjects['Coil:Heating:DX:SingleSpeed'][-1].Energy_Input_Ratio_Function_of_Flow_Fraction_Curve_Name = 'HPACHeatEIRFFF'\n",
    "    idf.idfobjects['Coil:Heating:DX:SingleSpeed'][-1].Part_Load_Fraction_Correlation_Curve_Name = 'HPACCOOLPLFFPLR'\n",
    "    idf.idfobjects['Coil:Heating:DX:SingleSpeed'][-1].Defrost_Energy_Input_Ratio_Function_of_Temperature_Curve_Name = 'Defrost_EIR_FT'\n",
    "    idf.idfobjects['Coil:Heating:DX:SingleSpeed'][-1].Minimum_Outdoor_DryBulb_Temperature_for_Compressor_Operation = -17.78\n",
    "    idf.idfobjects['Coil:Heating:DX:SingleSpeed'][-1].Maximum_Outdoor_DryBulb_Temperature_for_Defrost_Operation = 5\n",
    "    idf.idfobjects['Coil:Heating:DX:SingleSpeed'][-1].Crankcase_Heater_Capacity = 200\n",
    "    idf.idfobjects['Coil:Heating:DX:SingleSpeed'][-1].Maximum_Outdoor_DryBulb_Temperature_for_Crankcase_Heater_Operation = 10\n",
    "    idf.idfobjects['Coil:Heating:DX:SingleSpeed'][-1].Defrost_Strategy = 'ReverseCycle'\n",
    "    idf.idfobjects['Coil:Heating:DX:SingleSpeed'][-1].Defrost_Control = 'OnDemand'\n",
    "\n",
    "idf.save()    "
   ]
  },
  {
   "cell_type": "markdown",
   "metadata": {},
   "source": [
    "## Add Coil:Cooling:DX:SingleSpeed"
   ]
  },
  {
   "cell_type": "code",
   "execution_count": 9,
   "metadata": {},
   "outputs": [],
   "source": [
    "#add zone thermostat control for corridors\n",
    "newZones = ['G Corridor', 'M Corridor', 'T Corridor']\n",
    "\n",
    "for i in range(0, len(newZones)):\n",
    "    \n",
    "    # create a new thermostat control\n",
    "    idf.newidfobject('Coil:Cooling:DX:SingleSpeed')\n",
    "    \n",
    "    # alter inputs to the newly crated idf object\n",
    "    idf.idfobjects['Coil:Cooling:DX:SingleSpeed'][-1].Name = ('DX Cooling Coil_' + newZones[i])\n",
    "    idf.idfobjects['Coil:Cooling:DX:SingleSpeed'][-1].Availability_Schedule_Name = 'always_avail'\n",
    "    idf.idfobjects['Coil:Cooling:DX:SingleSpeed'][-1].Gross_Rated_Total_Cooling_Capacity = 'autosize'\n",
    "    idf.idfobjects['Coil:Cooling:DX:SingleSpeed'][-1].Gross_Rated_Sensible_Heat_Ratio = 'autosize'\n",
    "    idf.idfobjects['Coil:Cooling:DX:SingleSpeed'][-1].Gross_Rated_Cooling_COP = 3.97008850025305\n",
    "    idf.idfobjects['Coil:Cooling:DX:SingleSpeed'][-1].Rated_Air_Flow_Rate = 'autosize'\n",
    "    idf.idfobjects['Coil:Cooling:DX:SingleSpeed'][-1].Air_Inlet_Node_Name = ('Cooling Coil Air Inlet Node_' + newZones[i])\n",
    "    idf.idfobjects['Coil:Cooling:DX:SingleSpeed'][-1].Air_Outlet_Node_Name = ('Heating Coil Air Inlet Node_' + newZones[i])\n",
    "    idf.idfobjects['Coil:Cooling:DX:SingleSpeed'][-1].Total_Cooling_Capacity_Function_of_Temperature_Curve_Name = 'HPACCoolCapFT'\n",
    "    idf.idfobjects['Coil:Cooling:DX:SingleSpeed'][-1].Total_Cooling_Capacity_Function_of_Flow_Fraction_Curve_Name = 'HPACCoolCapFFF'\n",
    "    idf.idfobjects['Coil:Cooling:DX:SingleSpeed'][-1].Energy_Input_Ratio_Function_of_Temperature_Curve_Name = 'HPACCOOLEIRFT'\n",
    "    idf.idfobjects['Coil:Cooling:DX:SingleSpeed'][-1].Energy_Input_Ratio_Function_of_Flow_Fraction_Curve_Name = 'HPACCOOLEIRFFF'\n",
    "    idf.idfobjects['Coil:Cooling:DX:SingleSpeed'][-1].Part_Load_Fraction_Correlation_Curve_Name = 'HPACCOOLPLFFPLR'\n",
    "    \n",
    "idf.save()"
   ]
  },
  {
   "cell_type": "markdown",
   "metadata": {},
   "source": [
    "## Add Coil:Heating:Electric"
   ]
  },
  {
   "cell_type": "code",
   "execution_count": 10,
   "metadata": {},
   "outputs": [],
   "source": [
    "#add zone thermostat control for corridors\n",
    "newZones = ['G Corridor', 'M Corridor', 'T Corridor']\n",
    "\n",
    "for i in range(0, len(newZones)):\n",
    "    \n",
    "    # create a new thermostat control\n",
    "    idf.newidfobject('Coil:Heating:Electric')\n",
    "    \n",
    "    # alter inputs to the newly crated idf object\n",
    "    idf.idfobjects['Coil:Heating:Electric'][-1].Name = ('Supp Heating Coil_' + newZones[i])\n",
    "    idf.idfobjects['Coil:Heating:Electric'][-1].Availability_Schedule_Name = 'always_avail'\n",
    "    idf.idfobjects['Coil:Heating:Electric'][-1].Efficiency = 1\n",
    "    idf.idfobjects['Coil:Heating:Electric'][-1].Nominal_Capacity = 'autosize'\n",
    "    idf.idfobjects['Coil:Heating:Electric'][-1].Air_Inlet_Node_Name = ('Supp Heating Coil Air Inlet Node_' + newZones[i])\n",
    "    idf.idfobjects['Coil:Heating:Electric'][-1].Air_Outlet_Node_Name = ('Air Loop Outlet Node_' + newZones[i])\n",
    "    \n",
    "idf.save()"
   ]
  },
  {
   "cell_type": "markdown",
   "metadata": {},
   "source": [
    "## Add AirLoopHVAC:UnitaryHeatPump:AirToAir "
   ]
  },
  {
   "cell_type": "code",
   "execution_count": 11,
   "metadata": {},
   "outputs": [],
   "source": [
    "#add zone thermostat control for corridors\n",
    "newZones = ['G Corridor', 'M Corridor', 'T Corridor']\n",
    "\n",
    "for i in range(0, len(newZones)):\n",
    "    \n",
    "    # create a new thermostat control\n",
    "    idf.newidfobject('AirLoopHVAC:UnitaryHeatPump:AirToAir')\n",
    "\n",
    "    # alter inputs to the newly crated idf object\n",
    "    idf.idfobjects['AirLoopHVAC:UnitaryHeatPump:AirToAir'][-1].Name = ('Heat Pump_' + newZones[i])\n",
    "    idf.idfobjects['AirLoopHVAC:UnitaryHeatPump:AirToAir'][-1].Availability_Schedule_Name = 'always_avail'\n",
    "    idf.idfobjects['AirLoopHVAC:UnitaryHeatPump:AirToAir'][-1].Air_Inlet_Node_Name = ('Air Loop Inlet node_' + newZones[i]) # added in air loop\n",
    "    idf.idfobjects['AirLoopHVAC:UnitaryHeatPump:AirToAir'][-1].Air_Outlet_Node_Name = ('Air Loop Outlet node_' + newZones[i]) # added in air loop\n",
    "    idf.idfobjects['AirLoopHVAC:UnitaryHeatPump:AirToAir'][-1].Cooling_Supply_Air_Flow_Rate = 'autosize'\n",
    "    idf.idfobjects['AirLoopHVAC:UnitaryHeatPump:AirToAir'][-1].Heating_Supply_Air_Flow_Rate = 'autosize'\n",
    "    idf.idfobjects['AirLoopHVAC:UnitaryHeatPump:AirToAir'][-1].No_Load_Supply_Air_Flow_Rate = 0\n",
    "    idf.idfobjects['AirLoopHVAC:UnitaryHeatPump:AirToAir'][-1].Controlling_Zone_or_Thermostat_Location = newZones[i]\n",
    "    idf.idfobjects['AirLoopHVAC:UnitaryHeatPump:AirToAir'][-1].Supply_Air_Fan_Object_Type = 'Fan:OnOff'\n",
    "    idf.idfobjects['AirLoopHVAC:UnitaryHeatPump:AirToAir'][-1].Supply_Air_Fan_Name = ('Supply Fan_' + newZones[i])\n",
    "    idf.idfobjects['AirLoopHVAC:UnitaryHeatPump:AirToAir'][-1].Heating_Coil_Object_Type = 'Coil:Heating:DX:SingleSpeed' # needs add\n",
    "    idf.idfobjects['AirLoopHVAC:UnitaryHeatPump:AirToAir'][-1].Heating_Coil_Name = ('Main DX Heating Coil_' + newZones[i])\n",
    "    idf.idfobjects['AirLoopHVAC:UnitaryHeatPump:AirToAir'][-1].Cooling_Coil_Object_Type = 'Coil:Cooling:DX:SingleSpeed' #needs add\n",
    "    idf.idfobjects['AirLoopHVAC:UnitaryHeatPump:AirToAir'][-1].Cooling_Coil_Name = ('Dx Cooling Coil_' + newZones[i])\n",
    "    idf.idfobjects['AirLoopHVAC:UnitaryHeatPump:AirToAir'][-1].Supplemental_Heating_Coil_Object_Type = 'Coil:Heating:Electric' # needs add\n",
    "    idf.idfobjects['AirLoopHVAC:UnitaryHeatPump:AirToAir'][-1].Supplemental_Heating_Coil_Name = ('Supp Heating Coil_' + newZones[i])\n",
    "    idf.idfobjects['AirLoopHVAC:UnitaryHeatPump:AirToAir'][-1].Maximum_Supply_Air_Temperature_from_Supplemental_Heater = 50\n",
    "    idf.idfobjects['AirLoopHVAC:UnitaryHeatPump:AirToAir'][-1].Maximum_Outdoor_DryBulb_Temperature_for_Supplemental_Heater_Operation = 10\n",
    "    idf.idfobjects['AirLoopHVAC:UnitaryHeatPump:AirToAir'][-1].Fan_Placement = 'BlowThrough'\n",
    "    idf.idfobjects['AirLoopHVAC:UnitaryHeatPump:AirToAir'][-1].Supply_Air_Fan_Operating_Mode_Schedule_Name = 'fan_cycle'\n",
    "\n",
    "idf.save()"
   ]
  },
  {
   "cell_type": "markdown",
   "metadata": {},
   "source": [
    "## Add AirTerminal:SingleDuct:Uncontrolled"
   ]
  },
  {
   "cell_type": "code",
   "execution_count": 12,
   "metadata": {},
   "outputs": [],
   "source": [
    "#add zone thermostat control for corridors\n",
    "newZones = ['G Corridor', 'M Corridor', 'T Corridor']\n",
    "\n",
    "for i in range(0, len(newZones)):\n",
    "    \n",
    "    # create a new thermostat control\n",
    "    idf.newidfobject('AirTerminal:SingleDuct:Uncontrolled')\n",
    "\n",
    "    # alter inputs to the newly crated idf object\n",
    "    idf.idfobjects['AirTerminal:SingleDuct:Uncontrolled'][-1].Name = ('ZoneDirectAir_' + newZones[i])\n",
    "    idf.idfobjects['AirTerminal:SingleDuct:Uncontrolled'][-1].Availability_Schedule_Name = 'always_avail'\n",
    "    idf.idfobjects['AirTerminal:SingleDuct:Uncontrolled'][-1].Zone_Supply_Air_Node_Name = ('Zone Inlet Node_' + newZones[i])\n",
    "    idf.idfobjects['AirTerminal:SingleDuct:Uncontrolled'][-1].Maximum_Air_Flow_Rate = ('autosize')"
   ]
  },
  {
   "cell_type": "markdown",
   "metadata": {},
   "source": [
    "## Add ZoneHVAC:EquipmentConnections"
   ]
  },
  {
   "cell_type": "code",
   "execution_count": 13,
   "metadata": {},
   "outputs": [],
   "source": [
    "#add zone ZoneHVAC:EquipmentConnections for corridors\n",
    "newZones = ['G Corridor', 'M Corridor', 'T Corridor']\n",
    "\n",
    "for i in range(0, len(newZones)):\n",
    "    \n",
    "    # create a new ZoneHVAC:EquipmentConnections\n",
    "    idf.newidfobject('ZoneHVAC:EquipmentConnections')\n",
    "\n",
    "    # alter inputs to the newly crated idf object\n",
    "    idf.idfobjects['ZoneHVAC:EquipmentConnections'][-1].Zone_Name = newZones[i]\n",
    "    idf.idfobjects['ZoneHVAC:EquipmentConnections'][-1].Zone_Conditioning_Equipment_List_Name = ('ZONEEQUIPMENT_' + newZones[i])\n",
    "    idf.idfobjects['ZoneHVAC:EquipmentConnections'][-1].Zone_Air_Inlet_Node_or_NodeList_Name = ('zone inlet nodes_' + newZones[i])\n",
    "    idf.idfobjects['ZoneHVAC:EquipmentConnections'][-1].Zone_Air_Node_Name = ('Zone Node_' + newZones[i])\n",
    "    idf.idfobjects['ZoneHVAC:EquipmentConnections'][-1].Zone_Return_Air_Node_Name = ('Zone Outlet Node_' + newZones[i])\n",
    "    \n",
    "idf.save() "
   ]
  },
  {
   "cell_type": "markdown",
   "metadata": {},
   "source": [
    "## Add Fan:OnOff"
   ]
  },
  {
   "cell_type": "code",
   "execution_count": 14,
   "metadata": {},
   "outputs": [],
   "source": [
    "#add zone Fan:OnOff for corridors\n",
    "newZones = ['G Corridor', 'M Corridor', 'T Corridor']\n",
    "\n",
    "for i in range(0, len(newZones)):\n",
    "    \n",
    "    # create a new Fan:OnOff\n",
    "    idf.newidfobject('Fan:OnOff')\n",
    "\n",
    "    # alter inputs to the newly crated idf object\n",
    "    idf.idfobjects['Fan:OnOff'][-1].Name = ('Supply Fan_' + newZones[i])\n",
    "    idf.idfobjects['Fan:OnOff'][-1].Availability_Schedule_Name = 'always_avail'\n",
    "    idf.idfobjects['Fan:OnOff'][-1].Fan_Total_Efficiency = 0.377\n",
    "    idf.idfobjects['Fan:OnOff'][-1].Pressure_Rise = 400\n",
    "    idf.idfobjects['Fan:OnOff'][-1].Maximum_Flow_Rate = 'autosize'\n",
    "    idf.idfobjects['Fan:OnOff'][-1].Motor_Efficiency = 0.65\n",
    "    idf.idfobjects['Fan:OnOff'][-1].Motor_In_Airstream_Fraction = 1\n",
    "    idf.idfobjects['Fan:OnOff'][-1].Air_Inlet_Node_Name = ('air loop inlet node_' + newZones[i])\n",
    "    idf.idfobjects['Fan:OnOff'][-1].Air_Outlet_Node_Name = ('cooling coil air inlet node_' + newZones[i])\n",
    "    idf.idfobjects['Fan:OnOff'][-1].EndUse_Subcategory = 'General'\n",
    "    \n",
    "idf.save()"
   ]
  },
  {
   "cell_type": "markdown",
   "metadata": {},
   "source": [
    "## Add ZoneHVAC:EquipmentList"
   ]
  },
  {
   "cell_type": "code",
   "execution_count": 15,
   "metadata": {},
   "outputs": [],
   "source": [
    "#add zone thermostat control for corridors\n",
    "newZones = ['G Corridor', 'M Corridor', 'T Corridor']\n",
    "\n",
    "for i in range(0, len(newZones)):\n",
    "    \n",
    "    # create a new thermostat control\n",
    "    idf.newidfobject('ZoneHVAC:EquipmentList')\n",
    "\n",
    "    # alter inputs to the newly crated idf object\n",
    "    idf.idfobjects['ZoneHVAC:EquipmentList'][-1].Name = ('ZONEEQUIPMENT_' + newZones[i])\n",
    "    idf.idfobjects['ZoneHVAC:EquipmentList'][-1].Zone_Equipment_1_Object_Type = 'AirTerminal:SingleDuct:Uncontrolled'\n",
    "    idf.idfobjects['ZoneHVAC:EquipmentList'][-1].Zone_Equipment_1_Name = ('ZoneDirectAir_' + newZones[i])\n",
    "    idf.idfobjects['ZoneHVAC:EquipmentList'][-1].Zone_Equipment_1_Cooling_Sequence = 1\n",
    "    idf.idfobjects['ZoneHVAC:EquipmentList'][-1].Zone_Equipment_1_Heating_or_NoLoad_Sequence = 1"
   ]
  },
  {
   "cell_type": "markdown",
   "metadata": {},
   "source": [
    "## Add AirLoopHVAC "
   ]
  },
  {
   "cell_type": "code",
   "execution_count": 16,
   "metadata": {},
   "outputs": [],
   "source": [
    "#add zone AirLoopHVAC for corridors\n",
    "newZones = ['G Corridor', 'M Corridor', 'T Corridor']\n",
    "\n",
    "for i in range(0, len(newZones)):\n",
    "    \n",
    "    # create a new AirLoopHVAC\n",
    "    idf.newidfobject('AirLoopHVAC')\n",
    "\n",
    "    # alter inputs to the newly crated idf object\n",
    "    idf.idfobjects['AirLoopHVAC'][-1].Name = ('Central System_' + newZones[i])\n",
    "    idf.idfobjects['AirLoopHVAC'][-1].Availability_Manager_List_Name = 'availability list'\n",
    "    idf.idfobjects['AirLoopHVAC'][-1].Design_Supply_Air_Flow_Rate = 'autosize'\n",
    "    idf.idfobjects['AirLoopHVAC'][-1].Branch_List_Name = ('Air Loop Branches_' + newZones[i])\n",
    "    idf.idfobjects['AirLoopHVAC'][-1].Supply_Side_Inlet_Node_Name = ('Air Loop Inlet Node_' + newZones[i])\n",
    "    idf.idfobjects['AirLoopHVAC'][-1].Demand_Side_Outlet_Node_Name = ('Return Air Mixer Outlet_' + newZones[i])\n",
    "    idf.idfobjects['AirLoopHVAC'][-1].Demand_Side_Inlet_Node_Names = ('Zone Equipment Inlet Node_' + newZones[i])\n",
    "    idf.idfobjects['AirLoopHVAC'][-1].Supply_Side_Outlet_Node_Names = ('Air Loop Outlet Node_' + newZones[i])\n",
    "\n",
    "    \n",
    "idf.save()"
   ]
  },
  {
   "cell_type": "markdown",
   "metadata": {},
   "source": [
    "## Add AirLoopHVAC:ZoneSplitter"
   ]
  },
  {
   "cell_type": "code",
   "execution_count": 17,
   "metadata": {},
   "outputs": [],
   "source": [
    "#add zone AirLoopHVAC:ZoneSplitter for corridors\n",
    "newZones = ['G Corridor', 'M Corridor', 'T Corridor']\n",
    "\n",
    "for i in range(0, len(newZones)):\n",
    "    \n",
    "    # create a new AirLoopHVAC:ZoneSplitter\n",
    "    idf.newidfobject('AirLoopHVAC:ZoneSplitter')\n",
    "\n",
    "    # alter inputs to the newly crated idf object\n",
    "    idf.idfobjects['AirLoopHVAC:ZoneSplitter'][-1].Name = ('Zone Supply Air Splitter_' + newZones[i])\n",
    "    idf.idfobjects['AirLoopHVAC:ZoneSplitter'][-1].Inlet_Node_Name = ('Zone Equipment Inlet Node_' + newZones[i])\n",
    "    idf.idfobjects['AirLoopHVAC:ZoneSplitter'][-1].Outlet_1_Node_Name = ('Zone Inlet Node_' + newZones[i])\n",
    "    \n",
    "idf.save()    "
   ]
  },
  {
   "cell_type": "markdown",
   "metadata": {},
   "source": [
    "## Add AirLoopHVAC:SupplyPath"
   ]
  },
  {
   "cell_type": "code",
   "execution_count": 18,
   "metadata": {},
   "outputs": [],
   "source": [
    "#add zone AirLoopHVAC:SupplyPath for corridors\n",
    "newZones = ['G Corridor', 'M Corridor', 'T Corridor']\n",
    "\n",
    "for i in range(0, len(newZones)):\n",
    "    \n",
    "    # create a new AirLoopHVAC\n",
    "    idf.newidfobject('AirLoopHVAC:SupplyPath')\n",
    "\n",
    "    # alter inputs to the newly crated idf object\n",
    "    idf.idfobjects['AirLoopHVAC:SupplyPath'][-1].Name = ('SupplyPath_' + newZones[i])\n",
    "    idf.idfobjects['AirLoopHVAC:SupplyPath'][-1].Supply_Air_Path_Inlet_Node_Name = ('Zone Equipment Inlet Node_' + newZones[i])\n",
    "    idf.idfobjects['AirLoopHVAC:SupplyPath'][-1].Component_1_Object_Type = 'AirLoopHVAC:ZoneSplitter'\n",
    "    idf.idfobjects['AirLoopHVAC:SupplyPath'][-1].Component_1_Name = ('Zone Supply Air Splitter_' + newZones[i])\n",
    "\n",
    "idf.save()"
   ]
  },
  {
   "cell_type": "markdown",
   "metadata": {},
   "source": [
    "## Add AirLoopHVAC:ZoneMixer"
   ]
  },
  {
   "cell_type": "code",
   "execution_count": 19,
   "metadata": {},
   "outputs": [],
   "source": [
    "#add zone AirLoopHVAC:ZoneMixer for corridors\n",
    "newZones = ['G Corridor', 'M Corridor', 'T Corridor']\n",
    "\n",
    "for i in range(0, len(newZones)):\n",
    "    \n",
    "    # create a new AirLoopHVAC:ZoneMixer\n",
    "    idf.newidfobject('AirLoopHVAC:ZoneMixer')\n",
    "\n",
    "    # alter inputs to the newly crated idf object\n",
    "    idf.idfobjects['AirLoopHVAC:ZoneMixer'][-1].Name = ('Zone Return Air Mixer_' + newZones[i])\n",
    "    idf.idfobjects['AirLoopHVAC:ZoneMixer'][-1].Outlet_Node_Name = ('Return Air Mixer Outlet_' + newZones[i])\n",
    "    idf.idfobjects['AirLoopHVAC:ZoneMixer'][-1].Inlet_1_Node_Name = ('Zone Outlet Node_' + newZones[i])\n",
    "    \n",
    "idf.save()"
   ]
  },
  {
   "cell_type": "markdown",
   "metadata": {},
   "source": [
    "## Add AirLoopHVAC:ReturnPath"
   ]
  },
  {
   "cell_type": "code",
   "execution_count": 20,
   "metadata": {},
   "outputs": [],
   "source": [
    "#add zone AirLoopHVAC:ReturnPath for corridors\n",
    "newZones = ['G Corridor', 'M Corridor', 'T Corridor']\n",
    "\n",
    "for i in range(0, len(newZones)):\n",
    "    \n",
    "    # create a new AirLoopHVAC:ReturnPath\n",
    "    idf.newidfobject('AirLoopHVAC:ReturnPath')\n",
    "\n",
    "    # alter inputs to the newly crated idf object\n",
    "    idf.idfobjects['AirLoopHVAC:ReturnPath'][-1].Name = ('ReturnPath_' + newZones[i])\n",
    "    idf.idfobjects['AirLoopHVAC:ReturnPath'][-1].Return_Air_Path_Outlet_Node_Name = ('Return Air Mixer Outlet_' + newZones[i])\n",
    "    idf.idfobjects['AirLoopHVAC:ReturnPath'][-1].Component_1_Object_Type = 'AirLoopHVAC:ZoneMixer'\n",
    "    idf.idfobjects['AirLoopHVAC:ReturnPath'][-1].Component_1_Name = ('Zone Return Air Mixer_' + newZones[i])\n",
    "    \n",
    "idf.save()"
   ]
  },
  {
   "cell_type": "markdown",
   "metadata": {},
   "source": [
    "## Add Branch"
   ]
  },
  {
   "cell_type": "code",
   "execution_count": 21,
   "metadata": {},
   "outputs": [],
   "source": [
    "#add zone Branch for corridors\n",
    "newZones = ['G Corridor', 'M Corridor', 'T Corridor']\n",
    "\n",
    "for i in range(0, len(newZones)):\n",
    "    \n",
    "    # create a new Branch\n",
    "    idf.newidfobject('Branch')\n",
    "\n",
    "    # alter inputs to the newly crated idf object\n",
    "    idf.idfobjects['Branch'][-1].Name = ('Air Loop Main Branch_' + newZones[i])\n",
    "    idf.idfobjects['Branch'][-1].Component_1_Object_Type = 'AirLoopHVAC:UnitaryHeatPump:AirtoAir'\n",
    "    idf.idfobjects['Branch'][-1].Component_1_Name = ('Heat Pump_' + newZones[i])\n",
    "    idf.idfobjects['Branch'][-1].Component_1_Inlet_Node_Name = ('Air Loop Inlet Node_' + newZones[i])\n",
    "    idf.idfobjects['Branch'][-1].Component_1_Outlet_Node_Name = ('Air Loop Outlet Node_' + newZones[i])\n",
    "    \n",
    "idf.save()"
   ]
  },
  {
   "cell_type": "markdown",
   "metadata": {},
   "source": [
    "## Add BranchList"
   ]
  },
  {
   "cell_type": "code",
   "execution_count": 22,
   "metadata": {},
   "outputs": [],
   "source": [
    "#add zone BranchList for corridors\n",
    "newZones = ['G Corridor', 'M Corridor', 'T Corridor']\n",
    "\n",
    "for i in range(0, len(newZones)):\n",
    "    \n",
    "    # create a new BranchList\n",
    "    idf.newidfobject('BranchList')\n",
    "\n",
    "    # alter inputs to the newly crated idf object\n",
    "    idf.idfobjects['BranchList'][-1].Name = ('Air Loop Branches_' + newZones[i])\n",
    "    idf.idfobjects['BranchList'][-1].Branch_1_Name = ('Air Loop Main Branch_' + newZones[i])\n",
    "    \n",
    "idf.save()"
   ]
  },
  {
   "cell_type": "markdown",
   "metadata": {},
   "source": [
    "## Add NodeList"
   ]
  },
  {
   "cell_type": "code",
   "execution_count": 23,
   "metadata": {},
   "outputs": [],
   "source": [
    "#add zone NodeList for corridors\n",
    "newZones = ['G Corridor', 'M Corridor', 'T Corridor']\n",
    "\n",
    "for i in range(0, len(newZones)):\n",
    "    \n",
    "    # create a new NodeList\n",
    "    idf.newidfobject('NodeList')\n",
    "\n",
    "    # alter inputs to the newly crated idf object\n",
    "    idf.idfobjects['NodeList'][-1].Name = ('Zone Inlet Nodes_' + newZones[i])\n",
    "    idf.idfobjects['NodeList'][-1].Node_1_Name = ('Zone Inlet Node_' + newZones[i])\n",
    "    \n",
    "idf.save()"
   ]
  },
  {
   "cell_type": "markdown",
   "metadata": {},
   "source": [
    "## Add Zone Control: Thermostats"
   ]
  },
  {
   "cell_type": "code",
   "execution_count": 24,
   "metadata": {},
   "outputs": [],
   "source": [
    "#add zone thermostat control for corridors\n",
    "newZones = ['G Corridor', 'M Corridor', 'T Corridor']\n",
    "\n",
    "for i in range(0, len(newZones)):\n",
    "    \n",
    "    # create a new thermostat control\n",
    "    idf.newidfobject('ZoneControl:Thermostat')\n",
    "\n",
    "    # alter inputs to the newly crated idf object\n",
    "    idf.idfobjects['ZoneControl:Thermostat'][-1].Name = ('Zone Thermostat_' + newZones[i])\n",
    "    idf.idfobjects['ZoneControl:Thermostat'][-1].Zone_or_ZoneList_Name = newZones[i]\n",
    "    idf.idfobjects['ZoneControl:Thermostat'][-1].Control_Type_Schedule_Name = 'zone_control_type'\n",
    "    idf.idfobjects['ZoneControl:Thermostat'][-1].Control_1_Object_Type = 'ThermostatSetpoint:DualSetpoint'\n",
    "    idf.idfobjects['ZoneControl:Thermostat'][-1].Control_1_Name = 'thermostat_living Dual SP Control'\n",
    "\n",
    "idf.save()"
   ]
  },
  {
   "cell_type": "code",
   "execution_count": null,
   "metadata": {},
   "outputs": [],
   "source": []
  },
  {
   "cell_type": "code",
   "execution_count": null,
   "metadata": {},
   "outputs": [],
   "source": []
  }
 ],
 "metadata": {
  "kernelspec": {
   "display_name": "Python 3",
   "language": "python",
   "name": "python3"
  },
  "language_info": {
   "codemirror_mode": {
    "name": "ipython",
    "version": 3
   },
   "file_extension": ".py",
   "mimetype": "text/x-python",
   "name": "python",
   "nbconvert_exporter": "python",
   "pygments_lexer": "ipython3",
   "version": "3.7.3"
  }
 },
 "nbformat": 4,
 "nbformat_minor": 2
}
