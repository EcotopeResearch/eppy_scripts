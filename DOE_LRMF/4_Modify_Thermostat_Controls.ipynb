{
 "cells": [
  {
   "cell_type": "code",
   "execution_count": 1,
   "metadata": {},
   "outputs": [],
   "source": [
    "import numpy as np\n",
    "import pandas as pd\n",
    "import sys\n",
    "\n",
    "from eppy import hvacbuilder\n",
    "from eppy import modeleditor\n",
    "from eppy.modeleditor import IDF"
   ]
  },
  {
   "cell_type": "code",
   "execution_count": 2,
   "metadata": {},
   "outputs": [],
   "source": [
    "# this function determines what idf version and connects the idd for eppy\n",
    "def eppy_connection(idffile):\n",
    "    fp = open(idffile)\n",
    "    lines=fp.readlines()\n",
    "    vers = \"\"\n",
    "    vers = vers.join(lines[2:12])\n",
    "    vers\n",
    "    if vers.find('8.7') != -1:\n",
    "        print('Using EnergyPlus version 8.7')\n",
    "        iddfile = 'C:\\\\EnergyPlusV8-7-0\\\\Energy+.idd'\n",
    "        IDF.setiddname(iddfile)\n",
    "        idf = IDF(idffile)\n",
    "        return idf\n",
    "    elif vers.find('8.8') != -1:\n",
    "        print('Using EnergyPlus version 8.8')\n",
    "        iddfile = 'C:\\\\EnergyPlusV8-8-0\\\\Energy+.idd'\n",
    "        IDF.setiddname(iddfile)\n",
    "        idf = IDF(idffile)\n",
    "        return idf\n",
    "    elif vers.find('8.9') != -1:\n",
    "        print('Using EnergyPlus version 8.9')\n",
    "        iddfile = 'C:\\\\EnergyPlusV8-9-0\\\\Energy+.idd'\n",
    "        IDF.setiddname(iddfile)\n",
    "        idf = IDF(idffile)\n",
    "        return idf\n",
    "    elif vers.find('9.0') != -1:\n",
    "        print('Using EnergyPlus version 9.0.1')\n",
    "        iddfile = 'C:\\\\EnergyPlusV9-0-1\\\\Energy+.idd'\n",
    "        IDF.setiddname(iddfile)\n",
    "        idf = IDF(idffile)\n",
    "        return idf\n",
    "    else:\n",
    "        print('IDF Type not found on line 3')"
   ]
  },
  {
   "cell_type": "code",
   "execution_count": 3,
   "metadata": {},
   "outputs": [
    {
     "name": "stdout",
     "output_type": "stream",
     "text": [
      "Using EnergyPlus version 8.7\n",
      "Using EnergyPlus version 8.7\n",
      "Using EnergyPlus version 8.7\n",
      "Using EnergyPlus version 8.7\n"
     ]
    }
   ],
   "source": [
    "#define paths\n",
    "commonSlab_path = 'C:\\\\Users\\\\scott\\\\github\\\\DOE_LRMF\\\\SEED_Models\\\\common_hp_slab_IECC_2012_V8.7.idf'\n",
    "commonBsmt_path = 'C:\\\\Users\\\\scott\\\\github\\\\DOE_LRMF\\\\SEED_Models\\\\common_hp_heatedbsmtIECC_2012_V8.7.idf'\n",
    "gardenSlab_path = 'C:\\\\Users\\\\scott\\\\github\\\\DOE_LRMF\\\\SEED_Models\\\\garden_hp_slab_IECC_2012_V8.7.idf'\n",
    "gardenBsmt_path = 'C:\\\\Users\\\\scott\\\\github\\\\DOE_LRMF\\\\SEED_Models\\\\garden_hp_heatedbsmtIECC_2012_V8.7.idf'\n",
    "\n",
    "#make connections\n",
    "commonSlab = eppy_connection(commonSlab_path)\n",
    "commonBsmt = eppy_connection(commonBsmt_path)\n",
    "gardenSlab = eppy_connection(gardenSlab_path)\n",
    "gardenBsmt = eppy_connection(gardenBsmt_path)\n",
    "\n",
    "# create groups\n",
    "idfs = [commonSlab, commonBsmt, gardenSlab, gardenBsmt]\n",
    "common = [commonSlab, commonBsmt]\n",
    "garden = [gardenSlab, gardenBsmt]\n",
    "bsmt = [commonBsmt, gardenBsmt]\n",
    "slab = [commonSlab, gardenSlab]"
   ]
  },
  {
   "cell_type": "markdown",
   "metadata": {},
   "source": [
    "## Alter Name of Unit Schedule:Compact"
   ]
  },
  {
   "cell_type": "code",
   "execution_count": 4,
   "metadata": {},
   "outputs": [],
   "source": [
    "# loop through all idfs [4]\n",
    "for j in range(0, len(idfs)):\n",
    "    ## change name of temperature setpoint schedule that applies to units\n",
    "    # identify schedules\n",
    "    sch = idfs[j].idfobjects['SCHEDULE:COMPACT']\n",
    "    heating_sch_unit = [x for x in sch if x.Name == 'heating_sch'][0]\n",
    "    cooling_sch_unit = [x for x in sch if x.Name == 'cooling_sch'][0]\n",
    "\n",
    "    # set new names\n",
    "    heating_sch_unit.Name = 'heating_sch_unit'\n",
    "    cooling_sch_unit.Name = 'cooling_sch_unit'\n",
    "    \n",
    "    ## change referenced schedule\n",
    "    thermostat = idfs[j].idfobjects['ThermostatSetpoint:DualSetpoint']\n",
    "    thermostat_unit = [x for x in thermostat if x.Name == 'thermostat_living Dual SP Control'][0]\n",
    "\n",
    "    thermostat_unit.Heating_Setpoint_Temperature_Schedule_Name = 'heating_sch_unit'\n",
    "    thermostat_unit.Cooling_Setpoint_Temperature_Schedule_Name = 'cooling_sch_unit'"
   ]
  },
  {
   "cell_type": "markdown",
   "metadata": {},
   "source": [
    "## Add Corridor Temperature Control"
   ]
  },
  {
   "cell_type": "code",
   "execution_count": 5,
   "metadata": {},
   "outputs": [],
   "source": [
    "# add exterior:lights to all idfs\n",
    "newCompactSch = ['heating_sch_corr', 'cooling_sch_corr']\n",
    "corrThermostats = ['Zone Thermostat_G Corridor', 'Zone Thermostat_M Corridor', 'Zone Thermostat_T Corridor']\n",
    "\n",
    "# loop through all idfs [4]\n",
    "for j in range(0, len(common)):\n",
    "    \n",
    "    # add new thermostat\n",
    "    common[j].newidfobject('ThermostatSetpoint:DualSetpoint')\n",
    "    \n",
    "    common[j].idfobjects['ThermostatSetpoint:DualSetpoint'][-1].Name = 'thermostat_corr Dual SP Control'\n",
    "    common[j].idfobjects['ThermostatSetpoint:DualSetpoint'][-1].Heating_Setpoint_Temperature_Schedule_Name = newCompactSch[0]\n",
    "    common[j].idfobjects['ThermostatSetpoint:DualSetpoint'][-1].Cooling_Setpoint_Temperature_Schedule_Name = newCompactSch[1]\n",
    "    \n",
    "    # loop through lights to add [3]\n",
    "    for i in range(0, len(newCompactSch)):\n",
    "        \n",
    "        # create a new schedule\n",
    "        common[j].newidfobject('SCHEDULE:COMPACT')\n",
    "        \n",
    "        # alter inputs for newly created idf object\n",
    "        common[j].idfobjects['SCHEDULE:COMPACT'][-1].Name = newCompactSch[i]\n",
    "        common[j].idfobjects['SCHEDULE:COMPACT'][-1].Schedule_Type_Limits_Name = 'Temperature'\n",
    "        common[j].idfobjects['SCHEDULE:COMPACT'][-1].Field_1 = 'Through: 12/31'\n",
    "        common[j].idfobjects['SCHEDULE:COMPACT'][-1].Field_2 = 'For: AllDays'\n",
    "        common[j].idfobjects['SCHEDULE:COMPACT'][-1].Field_3 = 'Until: 24:00'\n",
    "        if i == 0:\n",
    "            common[j].idfobjects['SCHEDULE:COMPACT'][-1].Field_4 = '22.22'\n",
    "        else:\n",
    "            common[j].idfobjects['SCHEDULE:COMPACT'][-1].Field_4 = '23.88'"
   ]
  },
  {
   "cell_type": "markdown",
   "metadata": {},
   "source": [
    "### Modify Corridor Temperature Controls"
   ]
  },
  {
   "cell_type": "code",
   "execution_count": 6,
   "metadata": {},
   "outputs": [],
   "source": [
    "corrThermostats = ['Zone Thermostat_G Corridor', 'Zone Thermostat_M Corridor', 'Zone Thermostat_T Corridor']\n",
    "\n",
    "# loop through idfs with enclosed corridors\n",
    "for j in range(0, len(common)):\n",
    "    \n",
    "    # loop through ZoneControl:Thermostats for corridors\n",
    "    for i in range(0, len(corrThermostats)):\n",
    "        # create list of ZoneControl:Thermostats, pick ZoneControl:Thermostat that matches corridor\n",
    "        zoneControl = common[j].idfobjects['ZoneControl:Thermostat']\n",
    "        zoneControlCorr = [x for x in zoneControl if x.Name == corrThermostats[i]][0]\n",
    "        \n",
    "        # alter input to correct thermostat control\n",
    "        zoneControlCorr.Control_1_Name = 'thermostat_corr Dual SP Control'"
   ]
  },
  {
   "cell_type": "markdown",
   "metadata": {},
   "source": [
    "## Add Basement Temperature Control"
   ]
  },
  {
   "cell_type": "code",
   "execution_count": 7,
   "metadata": {},
   "outputs": [],
   "source": [
    "# add exterior:lights to all idfs\n",
    "newCompactSch = ['heating_sch_bsmt', 'cooling_sch_bsmt']\n",
    "\n",
    "# loop through all idfs [4]\n",
    "for j in range(0, len(bsmt)):\n",
    "    \n",
    "    # add new thermostat\n",
    "    bsmt[j].newidfobject('ThermostatSetpoint:DualSetpoint')\n",
    "    \n",
    "    bsmt[j].idfobjects['ThermostatSetpoint:DualSetpoint'][-1].Name = 'thermostat_bsmt Dual SP Control'\n",
    "    bsmt[j].idfobjects['ThermostatSetpoint:DualSetpoint'][-1].Heating_Setpoint_Temperature_Schedule_Name = newCompactSch[0]\n",
    "    bsmt[j].idfobjects['ThermostatSetpoint:DualSetpoint'][-1].Cooling_Setpoint_Temperature_Schedule_Name = newCompactSch[1]\n",
    "    \n",
    "    # loop through lights to add [3]\n",
    "    for i in range(0, len(newCompactSch)):\n",
    "        \n",
    "        # create a new schedule\n",
    "        bsmt[j].newidfobject('SCHEDULE:COMPACT')\n",
    "        \n",
    "        # alter inputs for newly created idf object\n",
    "        bsmt[j].idfobjects['SCHEDULE:COMPACT'][-1].Name = newCompactSch[i]\n",
    "        bsmt[j].idfobjects['SCHEDULE:COMPACT'][-1].Schedule_Type_Limits_Name = 'Temperature'\n",
    "        bsmt[j].idfobjects['SCHEDULE:COMPACT'][-1].Field_1 = 'Through: 12/31'\n",
    "        bsmt[j].idfobjects['SCHEDULE:COMPACT'][-1].Field_2 = 'For: AllDays'\n",
    "        bsmt[j].idfobjects['SCHEDULE:COMPACT'][-1].Field_3 = 'Until: 24:00'\n",
    "        if i == 0:\n",
    "            bsmt[j].idfobjects['SCHEDULE:COMPACT'][-1].Field_4 = '22.22'\n",
    "        else:\n",
    "            bsmt[j].idfobjects['SCHEDULE:COMPACT'][-1].Field_4 = '23.88'\n",
    "        "
   ]
  },
  {
   "cell_type": "code",
   "execution_count": null,
   "metadata": {},
   "outputs": [],
   "source": []
  },
  {
   "cell_type": "markdown",
   "metadata": {},
   "source": [
    "### Modify Basement Temperature Control"
   ]
  },
  {
   "cell_type": "code",
   "execution_count": 8,
   "metadata": {},
   "outputs": [],
   "source": [
    "bsmtThermostats = ['Zone Thermostat_unitheatedbsmt']\n",
    "\n",
    "# loop through idfs with heated basements\n",
    "for j in range(0, len(bsmt)):\n",
    "    \n",
    "    # loop through ZoneControl:Thermostats for bsmts\n",
    "    for i in range(0, len(bsmtThermostats)):\n",
    "        # create list of ZoneControl:Thermostats, pick ZoneControl:Thermostat that matches bsmt\n",
    "        zoneControl = bsmt[j].idfobjects['ZoneControl:Thermostat']\n",
    "        zoneControlBsmt = [x for x in zoneControl if x.Name == bsmtThermostats[i]][0]\n",
    "        \n",
    "        # alter input to correct thermostat control\n",
    "        zoneControlBsmt.Control_1_Name = 'thermostat_bsmt Dual SP Control'"
   ]
  },
  {
   "cell_type": "code",
   "execution_count": 9,
   "metadata": {},
   "outputs": [
    {
     "data": {
      "text/plain": [
       "[None, None, None, None]"
      ]
     },
     "execution_count": 9,
     "metadata": {},
     "output_type": "execute_result"
    }
   ],
   "source": [
    "## save idfs\n",
    "[x.save() for x in idfs]"
   ]
  },
  {
   "cell_type": "code",
   "execution_count": null,
   "metadata": {},
   "outputs": [],
   "source": []
  }
 ],
 "metadata": {
  "kernelspec": {
   "display_name": "Python 3",
   "language": "python",
   "name": "python3"
  },
  "language_info": {
   "codemirror_mode": {
    "name": "ipython",
    "version": 3
   },
   "file_extension": ".py",
   "mimetype": "text/x-python",
   "name": "python",
   "nbconvert_exporter": "python",
   "pygments_lexer": "ipython3",
   "version": "3.7.3"
  }
 },
 "nbformat": 4,
 "nbformat_minor": 2
}
