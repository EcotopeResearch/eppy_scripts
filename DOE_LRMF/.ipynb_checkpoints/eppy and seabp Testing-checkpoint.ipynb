{
 "cells": [
  {
   "cell_type": "code",
   "execution_count": 1,
   "metadata": {},
   "outputs": [
    {
     "data": {
      "text/html": [
       "\n",
       "    <div class=\"bk-root\">\n",
       "        <a href=\"https://bokeh.pydata.org\" target=\"_blank\" class=\"bk-logo bk-logo-small bk-logo-notebook\"></a>\n",
       "        <span id=\"1002\">Loading BokehJS ...</span>\n",
       "    </div>"
      ]
     },
     "metadata": {},
     "output_type": "display_data"
    },
    {
     "data": {
      "application/javascript": [
       "\n",
       "(function(root) {\n",
       "  function now() {\n",
       "    return new Date();\n",
       "  }\n",
       "\n",
       "  var force = true;\n",
       "\n",
       "  if (typeof (root._bokeh_onload_callbacks) === \"undefined\" || force === true) {\n",
       "    root._bokeh_onload_callbacks = [];\n",
       "    root._bokeh_is_loading = undefined;\n",
       "  }\n",
       "\n",
       "  var JS_MIME_TYPE = 'application/javascript';\n",
       "  var HTML_MIME_TYPE = 'text/html';\n",
       "  var EXEC_MIME_TYPE = 'application/vnd.bokehjs_exec.v0+json';\n",
       "  var CLASS_NAME = 'output_bokeh rendered_html';\n",
       "\n",
       "  /**\n",
       "   * Render data to the DOM node\n",
       "   */\n",
       "  function render(props, node) {\n",
       "    var script = document.createElement(\"script\");\n",
       "    node.appendChild(script);\n",
       "  }\n",
       "\n",
       "  /**\n",
       "   * Handle when an output is cleared or removed\n",
       "   */\n",
       "  function handleClearOutput(event, handle) {\n",
       "    var cell = handle.cell;\n",
       "\n",
       "    var id = cell.output_area._bokeh_element_id;\n",
       "    var server_id = cell.output_area._bokeh_server_id;\n",
       "    // Clean up Bokeh references\n",
       "    if (id != null && id in Bokeh.index) {\n",
       "      Bokeh.index[id].model.document.clear();\n",
       "      delete Bokeh.index[id];\n",
       "    }\n",
       "\n",
       "    if (server_id !== undefined) {\n",
       "      // Clean up Bokeh references\n",
       "      var cmd = \"from bokeh.io.state import curstate; print(curstate().uuid_to_server['\" + server_id + \"'].get_sessions()[0].document.roots[0]._id)\";\n",
       "      cell.notebook.kernel.execute(cmd, {\n",
       "        iopub: {\n",
       "          output: function(msg) {\n",
       "            var id = msg.content.text.trim();\n",
       "            if (id in Bokeh.index) {\n",
       "              Bokeh.index[id].model.document.clear();\n",
       "              delete Bokeh.index[id];\n",
       "            }\n",
       "          }\n",
       "        }\n",
       "      });\n",
       "      // Destroy server and session\n",
       "      var cmd = \"import bokeh.io.notebook as ion; ion.destroy_server('\" + server_id + \"')\";\n",
       "      cell.notebook.kernel.execute(cmd);\n",
       "    }\n",
       "  }\n",
       "\n",
       "  /**\n",
       "   * Handle when a new output is added\n",
       "   */\n",
       "  function handleAddOutput(event, handle) {\n",
       "    var output_area = handle.output_area;\n",
       "    var output = handle.output;\n",
       "\n",
       "    // limit handleAddOutput to display_data with EXEC_MIME_TYPE content only\n",
       "    if ((output.output_type != \"display_data\") || (!output.data.hasOwnProperty(EXEC_MIME_TYPE))) {\n",
       "      return\n",
       "    }\n",
       "\n",
       "    var toinsert = output_area.element.find(\".\" + CLASS_NAME.split(' ')[0]);\n",
       "\n",
       "    if (output.metadata[EXEC_MIME_TYPE][\"id\"] !== undefined) {\n",
       "      toinsert[toinsert.length - 1].firstChild.textContent = output.data[JS_MIME_TYPE];\n",
       "      // store reference to embed id on output_area\n",
       "      output_area._bokeh_element_id = output.metadata[EXEC_MIME_TYPE][\"id\"];\n",
       "    }\n",
       "    if (output.metadata[EXEC_MIME_TYPE][\"server_id\"] !== undefined) {\n",
       "      var bk_div = document.createElement(\"div\");\n",
       "      bk_div.innerHTML = output.data[HTML_MIME_TYPE];\n",
       "      var script_attrs = bk_div.children[0].attributes;\n",
       "      for (var i = 0; i < script_attrs.length; i++) {\n",
       "        toinsert[toinsert.length - 1].firstChild.setAttribute(script_attrs[i].name, script_attrs[i].value);\n",
       "      }\n",
       "      // store reference to server id on output_area\n",
       "      output_area._bokeh_server_id = output.metadata[EXEC_MIME_TYPE][\"server_id\"];\n",
       "    }\n",
       "  }\n",
       "\n",
       "  function register_renderer(events, OutputArea) {\n",
       "\n",
       "    function append_mime(data, metadata, element) {\n",
       "      // create a DOM node to render to\n",
       "      var toinsert = this.create_output_subarea(\n",
       "        metadata,\n",
       "        CLASS_NAME,\n",
       "        EXEC_MIME_TYPE\n",
       "      );\n",
       "      this.keyboard_manager.register_events(toinsert);\n",
       "      // Render to node\n",
       "      var props = {data: data, metadata: metadata[EXEC_MIME_TYPE]};\n",
       "      render(props, toinsert[toinsert.length - 1]);\n",
       "      element.append(toinsert);\n",
       "      return toinsert\n",
       "    }\n",
       "\n",
       "    /* Handle when an output is cleared or removed */\n",
       "    events.on('clear_output.CodeCell', handleClearOutput);\n",
       "    events.on('delete.Cell', handleClearOutput);\n",
       "\n",
       "    /* Handle when a new output is added */\n",
       "    events.on('output_added.OutputArea', handleAddOutput);\n",
       "\n",
       "    /**\n",
       "     * Register the mime type and append_mime function with output_area\n",
       "     */\n",
       "    OutputArea.prototype.register_mime_type(EXEC_MIME_TYPE, append_mime, {\n",
       "      /* Is output safe? */\n",
       "      safe: true,\n",
       "      /* Index of renderer in `output_area.display_order` */\n",
       "      index: 0\n",
       "    });\n",
       "  }\n",
       "\n",
       "  // register the mime type if in Jupyter Notebook environment and previously unregistered\n",
       "  if (root.Jupyter !== undefined) {\n",
       "    var events = require('base/js/events');\n",
       "    var OutputArea = require('notebook/js/outputarea').OutputArea;\n",
       "\n",
       "    if (OutputArea.prototype.mime_types().indexOf(EXEC_MIME_TYPE) == -1) {\n",
       "      register_renderer(events, OutputArea);\n",
       "    }\n",
       "  }\n",
       "\n",
       "  \n",
       "  if (typeof (root._bokeh_timeout) === \"undefined\" || force === true) {\n",
       "    root._bokeh_timeout = Date.now() + 5000;\n",
       "    root._bokeh_failed_load = false;\n",
       "  }\n",
       "\n",
       "  var NB_LOAD_WARNING = {'data': {'text/html':\n",
       "     \"<div style='background-color: #fdd'>\\n\"+\n",
       "     \"<p>\\n\"+\n",
       "     \"BokehJS does not appear to have successfully loaded. If loading BokehJS from CDN, this \\n\"+\n",
       "     \"may be due to a slow or bad network connection. Possible fixes:\\n\"+\n",
       "     \"</p>\\n\"+\n",
       "     \"<ul>\\n\"+\n",
       "     \"<li>re-rerun `output_notebook()` to attempt to load from CDN again, or</li>\\n\"+\n",
       "     \"<li>use INLINE resources instead, as so:</li>\\n\"+\n",
       "     \"</ul>\\n\"+\n",
       "     \"<code>\\n\"+\n",
       "     \"from bokeh.resources import INLINE\\n\"+\n",
       "     \"output_notebook(resources=INLINE)\\n\"+\n",
       "     \"</code>\\n\"+\n",
       "     \"</div>\"}};\n",
       "\n",
       "  function display_loaded() {\n",
       "    var el = document.getElementById(\"1002\");\n",
       "    if (el != null) {\n",
       "      el.textContent = \"BokehJS is loading...\";\n",
       "    }\n",
       "    if (root.Bokeh !== undefined) {\n",
       "      if (el != null) {\n",
       "        el.textContent = \"BokehJS \" + root.Bokeh.version + \" successfully loaded.\";\n",
       "      }\n",
       "    } else if (Date.now() < root._bokeh_timeout) {\n",
       "      setTimeout(display_loaded, 100)\n",
       "    }\n",
       "  }\n",
       "\n",
       "\n",
       "  function run_callbacks() {\n",
       "    try {\n",
       "      root._bokeh_onload_callbacks.forEach(function(callback) { callback() });\n",
       "    }\n",
       "    finally {\n",
       "      delete root._bokeh_onload_callbacks\n",
       "    }\n",
       "    console.info(\"Bokeh: all callbacks have finished\");\n",
       "  }\n",
       "\n",
       "  function load_libs(js_urls, callback) {\n",
       "    root._bokeh_onload_callbacks.push(callback);\n",
       "    if (root._bokeh_is_loading > 0) {\n",
       "      console.log(\"Bokeh: BokehJS is being loaded, scheduling callback at\", now());\n",
       "      return null;\n",
       "    }\n",
       "    if (js_urls == null || js_urls.length === 0) {\n",
       "      run_callbacks();\n",
       "      return null;\n",
       "    }\n",
       "    console.log(\"Bokeh: BokehJS not loaded, scheduling load and callback at\", now());\n",
       "    root._bokeh_is_loading = js_urls.length;\n",
       "    for (var i = 0; i < js_urls.length; i++) {\n",
       "      var url = js_urls[i];\n",
       "      var s = document.createElement('script');\n",
       "      s.src = url;\n",
       "      s.async = false;\n",
       "      s.onreadystatechange = s.onload = function() {\n",
       "        root._bokeh_is_loading--;\n",
       "        if (root._bokeh_is_loading === 0) {\n",
       "          console.log(\"Bokeh: all BokehJS libraries loaded\");\n",
       "          run_callbacks()\n",
       "        }\n",
       "      };\n",
       "      s.onerror = function() {\n",
       "        console.warn(\"failed to load library \" + url);\n",
       "      };\n",
       "      console.log(\"Bokeh: injecting script tag for BokehJS library: \", url);\n",
       "      document.getElementsByTagName(\"head\")[0].appendChild(s);\n",
       "    }\n",
       "  };var element = document.getElementById(\"1002\");\n",
       "  if (element == null) {\n",
       "    console.log(\"Bokeh: ERROR: autoload.js configured with elementid '1002' but no matching script tag was found. \")\n",
       "    return false;\n",
       "  }\n",
       "\n",
       "  var js_urls = [\"https://cdn.pydata.org/bokeh/release/bokeh-1.0.4.min.js\", \"https://cdn.pydata.org/bokeh/release/bokeh-widgets-1.0.4.min.js\", \"https://cdn.pydata.org/bokeh/release/bokeh-tables-1.0.4.min.js\", \"https://cdn.pydata.org/bokeh/release/bokeh-gl-1.0.4.min.js\"];\n",
       "\n",
       "  var inline_js = [\n",
       "    function(Bokeh) {\n",
       "      Bokeh.set_log_level(\"info\");\n",
       "    },\n",
       "    \n",
       "    function(Bokeh) {\n",
       "      \n",
       "    },\n",
       "    function(Bokeh) {\n",
       "      console.log(\"Bokeh: injecting CSS: https://cdn.pydata.org/bokeh/release/bokeh-1.0.4.min.css\");\n",
       "      Bokeh.embed.inject_css(\"https://cdn.pydata.org/bokeh/release/bokeh-1.0.4.min.css\");\n",
       "      console.log(\"Bokeh: injecting CSS: https://cdn.pydata.org/bokeh/release/bokeh-widgets-1.0.4.min.css\");\n",
       "      Bokeh.embed.inject_css(\"https://cdn.pydata.org/bokeh/release/bokeh-widgets-1.0.4.min.css\");\n",
       "      console.log(\"Bokeh: injecting CSS: https://cdn.pydata.org/bokeh/release/bokeh-tables-1.0.4.min.css\");\n",
       "      Bokeh.embed.inject_css(\"https://cdn.pydata.org/bokeh/release/bokeh-tables-1.0.4.min.css\");\n",
       "    }\n",
       "  ];\n",
       "\n",
       "  function run_inline_js() {\n",
       "    \n",
       "    if ((root.Bokeh !== undefined) || (force === true)) {\n",
       "      for (var i = 0; i < inline_js.length; i++) {\n",
       "        inline_js[i].call(root, root.Bokeh);\n",
       "      }if (force === true) {\n",
       "        display_loaded();\n",
       "      }} else if (Date.now() < root._bokeh_timeout) {\n",
       "      setTimeout(run_inline_js, 100);\n",
       "    } else if (!root._bokeh_failed_load) {\n",
       "      console.log(\"Bokeh: BokehJS failed to load within specified timeout.\");\n",
       "      root._bokeh_failed_load = true;\n",
       "    } else if (force !== true) {\n",
       "      var cell = $(document.getElementById(\"1002\")).parents('.cell').data().cell;\n",
       "      cell.output_area.append_execute_result(NB_LOAD_WARNING)\n",
       "    }\n",
       "\n",
       "  }\n",
       "\n",
       "  if (root._bokeh_is_loading === 0) {\n",
       "    console.log(\"Bokeh: BokehJS loaded, going straight to plotting\");\n",
       "    run_inline_js();\n",
       "  } else {\n",
       "    load_libs(js_urls, function() {\n",
       "      console.log(\"Bokeh: BokehJS plotting callback run at\", now());\n",
       "      run_inline_js();\n",
       "    });\n",
       "  }\n",
       "}(window));"
      ],
      "application/vnd.bokehjs_load.v0+json": "\n(function(root) {\n  function now() {\n    return new Date();\n  }\n\n  var force = true;\n\n  if (typeof (root._bokeh_onload_callbacks) === \"undefined\" || force === true) {\n    root._bokeh_onload_callbacks = [];\n    root._bokeh_is_loading = undefined;\n  }\n\n  \n\n  \n  if (typeof (root._bokeh_timeout) === \"undefined\" || force === true) {\n    root._bokeh_timeout = Date.now() + 5000;\n    root._bokeh_failed_load = false;\n  }\n\n  var NB_LOAD_WARNING = {'data': {'text/html':\n     \"<div style='background-color: #fdd'>\\n\"+\n     \"<p>\\n\"+\n     \"BokehJS does not appear to have successfully loaded. If loading BokehJS from CDN, this \\n\"+\n     \"may be due to a slow or bad network connection. Possible fixes:\\n\"+\n     \"</p>\\n\"+\n     \"<ul>\\n\"+\n     \"<li>re-rerun `output_notebook()` to attempt to load from CDN again, or</li>\\n\"+\n     \"<li>use INLINE resources instead, as so:</li>\\n\"+\n     \"</ul>\\n\"+\n     \"<code>\\n\"+\n     \"from bokeh.resources import INLINE\\n\"+\n     \"output_notebook(resources=INLINE)\\n\"+\n     \"</code>\\n\"+\n     \"</div>\"}};\n\n  function display_loaded() {\n    var el = document.getElementById(\"1002\");\n    if (el != null) {\n      el.textContent = \"BokehJS is loading...\";\n    }\n    if (root.Bokeh !== undefined) {\n      if (el != null) {\n        el.textContent = \"BokehJS \" + root.Bokeh.version + \" successfully loaded.\";\n      }\n    } else if (Date.now() < root._bokeh_timeout) {\n      setTimeout(display_loaded, 100)\n    }\n  }\n\n\n  function run_callbacks() {\n    try {\n      root._bokeh_onload_callbacks.forEach(function(callback) { callback() });\n    }\n    finally {\n      delete root._bokeh_onload_callbacks\n    }\n    console.info(\"Bokeh: all callbacks have finished\");\n  }\n\n  function load_libs(js_urls, callback) {\n    root._bokeh_onload_callbacks.push(callback);\n    if (root._bokeh_is_loading > 0) {\n      console.log(\"Bokeh: BokehJS is being loaded, scheduling callback at\", now());\n      return null;\n    }\n    if (js_urls == null || js_urls.length === 0) {\n      run_callbacks();\n      return null;\n    }\n    console.log(\"Bokeh: BokehJS not loaded, scheduling load and callback at\", now());\n    root._bokeh_is_loading = js_urls.length;\n    for (var i = 0; i < js_urls.length; i++) {\n      var url = js_urls[i];\n      var s = document.createElement('script');\n      s.src = url;\n      s.async = false;\n      s.onreadystatechange = s.onload = function() {\n        root._bokeh_is_loading--;\n        if (root._bokeh_is_loading === 0) {\n          console.log(\"Bokeh: all BokehJS libraries loaded\");\n          run_callbacks()\n        }\n      };\n      s.onerror = function() {\n        console.warn(\"failed to load library \" + url);\n      };\n      console.log(\"Bokeh: injecting script tag for BokehJS library: \", url);\n      document.getElementsByTagName(\"head\")[0].appendChild(s);\n    }\n  };var element = document.getElementById(\"1002\");\n  if (element == null) {\n    console.log(\"Bokeh: ERROR: autoload.js configured with elementid '1002' but no matching script tag was found. \")\n    return false;\n  }\n\n  var js_urls = [\"https://cdn.pydata.org/bokeh/release/bokeh-1.0.4.min.js\", \"https://cdn.pydata.org/bokeh/release/bokeh-widgets-1.0.4.min.js\", \"https://cdn.pydata.org/bokeh/release/bokeh-tables-1.0.4.min.js\", \"https://cdn.pydata.org/bokeh/release/bokeh-gl-1.0.4.min.js\"];\n\n  var inline_js = [\n    function(Bokeh) {\n      Bokeh.set_log_level(\"info\");\n    },\n    \n    function(Bokeh) {\n      \n    },\n    function(Bokeh) {\n      console.log(\"Bokeh: injecting CSS: https://cdn.pydata.org/bokeh/release/bokeh-1.0.4.min.css\");\n      Bokeh.embed.inject_css(\"https://cdn.pydata.org/bokeh/release/bokeh-1.0.4.min.css\");\n      console.log(\"Bokeh: injecting CSS: https://cdn.pydata.org/bokeh/release/bokeh-widgets-1.0.4.min.css\");\n      Bokeh.embed.inject_css(\"https://cdn.pydata.org/bokeh/release/bokeh-widgets-1.0.4.min.css\");\n      console.log(\"Bokeh: injecting CSS: https://cdn.pydata.org/bokeh/release/bokeh-tables-1.0.4.min.css\");\n      Bokeh.embed.inject_css(\"https://cdn.pydata.org/bokeh/release/bokeh-tables-1.0.4.min.css\");\n    }\n  ];\n\n  function run_inline_js() {\n    \n    if ((root.Bokeh !== undefined) || (force === true)) {\n      for (var i = 0; i < inline_js.length; i++) {\n        inline_js[i].call(root, root.Bokeh);\n      }if (force === true) {\n        display_loaded();\n      }} else if (Date.now() < root._bokeh_timeout) {\n      setTimeout(run_inline_js, 100);\n    } else if (!root._bokeh_failed_load) {\n      console.log(\"Bokeh: BokehJS failed to load within specified timeout.\");\n      root._bokeh_failed_load = true;\n    } else if (force !== true) {\n      var cell = $(document.getElementById(\"1002\")).parents('.cell').data().cell;\n      cell.output_area.append_execute_result(NB_LOAD_WARNING)\n    }\n\n  }\n\n  if (root._bokeh_is_loading === 0) {\n    console.log(\"Bokeh: BokehJS loaded, going straight to plotting\");\n    run_inline_js();\n  } else {\n    load_libs(js_urls, function() {\n      console.log(\"Bokeh: BokehJS plotting callback run at\", now());\n      run_inline_js();\n    });\n  }\n}(window));"
     },
     "metadata": {},
     "output_type": "display_data"
    }
   ],
   "source": [
    "import seabp as bp\n",
    "import numpy as np\n",
    "import pandas as pd\n",
    "import sys\n",
    "\n",
    "from eppy import hvacbuilder\n",
    "from eppy import modeleditor\n",
    "from eppy.modeleditor import IDF"
   ]
  },
  {
   "cell_type": "code",
   "execution_count": 2,
   "metadata": {},
   "outputs": [
    {
     "name": "stdout",
     "output_type": "stream",
     "text": [
      "Using EnergyPlus version 8.7\n"
     ]
    }
   ],
   "source": [
    "#define paths\n",
    "idf_path = 'C:\\\\Users\\\\scott\\\\github\\\\DOE_LRMF\\\\SEED_Models\\\\common_hp_slab_IECC_2012_V8.7.idf'\n",
    "sql_path = 'C:\\\\Users\\\\scott\\\\github\\\\DOE_LRMF\\\\SEED_Models\\\\common_hp_slab_IECC_2012_V8.7.sql'\n",
    "\n",
    "#make connections\n",
    "sql = bp.SQL(sql_path)\n",
    "idf = bp.eppy_connection(idf_path)"
   ]
  },
  {
   "cell_type": "code",
   "execution_count": 3,
   "metadata": {},
   "outputs": [],
   "source": [
    "idf.idfobjects['BUILDING'][0].Name = \"common_hp_slab_IECC_2012_seed\"\n",
    "# idf.idfobjects['BUILDING'][0]"
   ]
  },
  {
   "cell_type": "code",
   "execution_count": 4,
   "metadata": {},
   "outputs": [],
   "source": [
    "materials = idf.idfobjects[\"MATERIAL\"]\n",
    "#materials[0]"
   ]
  },
  {
   "cell_type": "code",
   "execution_count": 5,
   "metadata": {},
   "outputs": [],
   "source": [
    "Loops = idf.idfobjects[\"AIRLOOPHVAC:UNITARYHEATPUMP:AIRTOAIR\"]\n",
    "#Loops[1]"
   ]
  },
  {
   "cell_type": "markdown",
   "metadata": {},
   "source": [
    "## Add Lights"
   ]
  },
  {
   "cell_type": "code",
   "execution_count": 6,
   "metadata": {},
   "outputs": [],
   "source": [
    "#add lights for corridors\n",
    "newZones = ['G Corridor', 'M Corridor', 'T Corridor']\n",
    "\n",
    "for i in range(0, len(newZones)):\n",
    "    \n",
    "    # create a new thermostat control\n",
    "    idf.newidfobject('Lights')\n",
    "\n",
    "    # alter inputs to the newly crated idf object\n",
    "    idf.idfobjects['Lights'][-1].Name = ('Corridor Lights Lighting_' + newZones[i])\n",
    "    idf.idfobjects['Lights'][-1].Zone_or_ZoneList_Name = newZones[i]\n",
    "    idf.idfobjects['Lights'][-1].Schedule_Name = 'LightingProfile_EELighting'\n",
    "    idf.idfobjects['Lights'][-1].Design_Level_Calculation_Method = 'Watts/Area'\n",
    "    idf.idfobjects['Lights'][-1].Watts_per_Zone_Floor_Area = 0.288\n",
    "    idf.idfobjects['Lights'][-1].Return_Air_Fraction = 0\n",
    "    idf.idfobjects['Lights'][-1].Fraction_Radiant = 0.6\n",
    "    idf.idfobjects['Lights'][-1].Fraction_Visible = 0.2\n",
    "    idf.idfobjects['Lights'][-1].Fraction_Replaceable = 0\n",
    "\n",
    "idf.save()"
   ]
  },
  {
   "cell_type": "markdown",
   "metadata": {},
   "source": [
    "## Add ZoneVentilation:DesignFlowRate"
   ]
  },
  {
   "cell_type": "code",
   "execution_count": 7,
   "metadata": {},
   "outputs": [],
   "source": [
    "#add lights for corridors\n",
    "newZones = ['G Corridor', 'M Corridor', 'T Corridor']\n",
    "\n",
    "for i in range(0, len(newZones)):\n",
    "    \n",
    "    # create a new thermostat control\n",
    "    idf.newidfobject('ZoneVentilation:DesignFlowRate')\n",
    "\n",
    "    # alter inputs to the newly crated idf object\n",
    "    idf.idfobjects['ZoneVentilation:DesignFlowRate'][-1].Name = ('Ventilation_' + newZones[i])\n",
    "    idf.idfobjects['ZoneVentilation:DesignFlowRate'][-1].Zone_or_ZoneList_Name = newZones[i]\n",
    "    idf.idfobjects['ZoneVentilation:DesignFlowRate'][-1].Schedule_Name = 'always_avail'\n",
    "    idf.idfobjects['ZoneVentilation:DesignFlowRate'][-1].Design_Flow_Rate = 'Flow/Zone'\n",
    "    idf.idfobjects['ZoneVentilation:DesignFlowRate'][-1].Design_Flow_Rate = 0.0212524794559365\n",
    "    idf.idfobjects['ZoneVentilation:DesignFlowRate'][-1].Ventilation_Type = 'Exhaust'\n",
    "    idf.idfobjects['ZoneVentilation:DesignFlowRate'][-1].Fan_Pressure_Rise = 0\n",
    "    idf.idfobjects['ZoneVentilation:DesignFlowRate'][-1].Fan_Total_Efficiency = 1\n",
    "    idf.idfobjects['ZoneVentilation:DesignFlowRate'][-1].Constant_Term_Coefficient = 1\n",
    "    idf.idfobjects['ZoneVentilation:DesignFlowRate'][-1].Temperature_Term_Coefficient = 0\n",
    "    idf.idfobjects['ZoneVentilation:DesignFlowRate'][-1].Velocity_Term_Coefficient = 0\n",
    "    idf.idfobjects['ZoneVentilation:DesignFlowRate'][-1].Velocity_Squared_Term_Coefficient = 0\n",
    "    idf.idfobjects['ZoneVentilation:DesignFlowRate'][-1].Minimum_Indoor_Temperature = -100\n",
    "    idf.idfobjects['ZoneVentilation:DesignFlowRate'][-1].Maximum_Indoor_Temperature = 100\n",
    "    idf.idfobjects['ZoneVentilation:DesignFlowRate'][-1].Delta_Temperature = -100\n",
    "    idf.idfobjects['ZoneVentilation:DesignFlowRate'][-1].Minimum_Outdoor_Temperature = -100\n",
    "    idf.idfobjects['ZoneVentilation:DesignFlowRate'][-1].Maximum_Outdoor_Temperature = 100\n",
    "    idf.idfobjects['ZoneVentilation:DesignFlowRate'][-1].Maximum_Wind_Speed = 40   \n",
    "    \n",
    "idf.save()"
   ]
  },
  {
   "cell_type": "markdown",
   "metadata": {},
   "source": [
    "## Add Coil:Heating:DX:SingleSpeed"
   ]
  },
  {
   "cell_type": "code",
   "execution_count": 8,
   "metadata": {},
   "outputs": [],
   "source": [
    "#add zone thermostat control for corridors\n",
    "newZones = ['G Corridor', 'M Corridor', 'T Corridor']\n",
    "\n",
    "for i in range(0, len(newZones)):\n",
    "    \n",
    "    # create a new thermostat control\n",
    "    idf.newidfobject('Coil:Heating:DX:SingleSpeed')\n",
    "    \n",
    "    # alter inputs to the newly crated idf object\n",
    "    idf.idfobjects['Coil:Heating:DX:SingleSpeed'][-1].Name = ('Main DX Heating Coil_' + newZones[i])\n",
    "    idf.idfobjects['Coil:Heating:DX:SingleSpeed'][-1].Availability_Schedule_Name = 'always_avail'\n",
    "    idf.idfobjects['Coil:Heating:DX:SingleSpeed'][-1].Gross_Rated_Heating_Capacity = 'autosize'\n",
    "    idf.idfobjects['Coil:Heating:DX:SingleSpeed'][-1].Gross_Rated_Heating_COP = 3.63216498787731\n",
    "    idf.idfobjects['Coil:Heating:DX:SingleSpeed'][-1].Rated_Air_Flow_Rate = 'autosize'\n",
    "    idf.idfobjects['Coil:Heating:DX:SingleSpeed'][-1].Air_Inlet_Node_Name = ('Heating Coil Air Inlet Node_' + newZones[i])\n",
    "    idf.idfobjects['Coil:Heating:DX:SingleSpeed'][-1].Air_Outlet_Node_Name = ('Supp Heating Coil Air Inlet Node_' + newZones[i])\n",
    "    idf.idfobjects['Coil:Heating:DX:SingleSpeed'][-1].Heating_Capacity_Function_of_Temperature_Curve_Name = 'HPACHeatCapFT'\n",
    "    idf.idfobjects['Coil:Heating:DX:SingleSpeed'][-1].Heating_Capacity_Function_of_Flow_Fraction_Curve_Name = 'HPACHeatCapFFF'\n",
    "    idf.idfobjects['Coil:Heating:DX:SingleSpeed'][-1].Energy_Input_Ratio_Function_of_Temperature_Curve_Name = 'HPACHeatEIRFT'\n",
    "    idf.idfobjects['Coil:Heating:DX:SingleSpeed'][-1].Energy_Input_Ratio_Function_of_Flow_Fraction_Curve_Name = 'HPACHeatEIRFFF'\n",
    "    idf.idfobjects['Coil:Heating:DX:SingleSpeed'][-1].Part_Load_Fraction_Correlation_Curve_Name = 'HPACCOOLPLFFPLR'\n",
    "    idf.idfobjects['Coil:Heating:DX:SingleSpeed'][-1].Defrost_Energy_Input_Ratio_Function_of_Temperature_Curve_Name = 'Defrost_EIR_FT'\n",
    "    idf.idfobjects['Coil:Heating:DX:SingleSpeed'][-1].Minimum_Outdoor_DryBulb_Temperature_for_Compressor_Operation = -17.78\n",
    "    idf.idfobjects['Coil:Heating:DX:SingleSpeed'][-1].Maximum_Outdoor_DryBulb_Temperature_for_Defrost_Operation = 5\n",
    "    idf.idfobjects['Coil:Heating:DX:SingleSpeed'][-1].Crankcase_Heater_Capacity = 200\n",
    "    idf.idfobjects['Coil:Heating:DX:SingleSpeed'][-1].Maximum_Outdoor_DryBulb_Temperature_for_Crankcase_Heater_Operation = 10\n",
    "    idf.idfobjects['Coil:Heating:DX:SingleSpeed'][-1].Defrost_Strategy = 'ReverseCycle'\n",
    "    idf.idfobjects['Coil:Heating:DX:SingleSpeed'][-1].Defrost_Control = 'OnDemand'\n",
    "\n",
    "idf.save()    "
   ]
  },
  {
   "cell_type": "markdown",
   "metadata": {},
   "source": [
    "## Add Coil:Cooling:DX:SingleSpeed"
   ]
  },
  {
   "cell_type": "code",
   "execution_count": 9,
   "metadata": {},
   "outputs": [],
   "source": [
    "#add zone thermostat control for corridors\n",
    "newZones = ['G Corridor', 'M Corridor', 'T Corridor']\n",
    "\n",
    "for i in range(0, len(newZones)):\n",
    "    \n",
    "    # create a new thermostat control\n",
    "    idf.newidfobject('Coil:Cooling:DX:SingleSpeed')\n",
    "    \n",
    "    # alter inputs to the newly crated idf object\n",
    "    idf.idfobjects['Coil:Cooling:DX:SingleSpeed'][-1].Name = ('DX Cooling Coil_' + newZones[i])\n",
    "    idf.idfobjects['Coil:Cooling:DX:SingleSpeed'][-1].Availability_Schedule_Name = 'always_avail'\n",
    "    idf.idfobjects['Coil:Cooling:DX:SingleSpeed'][-1].Gross_Rated_Total_Cooling_Capacity = 'autosize'\n",
    "    idf.idfobjects['Coil:Cooling:DX:SingleSpeed'][-1].Gross_Rated_Sensible_Heat_Ratio = 'autosize'\n",
    "    idf.idfobjects['Coil:Cooling:DX:SingleSpeed'][-1].Gross_Rated_Cooling_COP = 3.97008850025305\n",
    "    idf.idfobjects['Coil:Cooling:DX:SingleSpeed'][-1].Rated_Air_Flow_Rate = 'autosize'\n",
    "    idf.idfobjects['Coil:Cooling:DX:SingleSpeed'][-1].Air_Inlet_Node_Name = ('Cooling Coil Air Inlet Node_' + newZones[i])\n",
    "    idf.idfobjects['Coil:Cooling:DX:SingleSpeed'][-1].Air_Outlet_Node_Name = ('Heating Coil Air Inlet Node_' + newZones[i])\n",
    "    idf.idfobjects['Coil:Cooling:DX:SingleSpeed'][-1].Total_Cooling_Capacity_Function_of_Temperature_Curve_Name = 'HPACCoolCapFT'\n",
    "    idf.idfobjects['Coil:Cooling:DX:SingleSpeed'][-1].Total_Cooling_Capacity_Function_of_Flow_Fraction_Curve_Name = 'HPACCoolCapFFF'\n",
    "    idf.idfobjects['Coil:Cooling:DX:SingleSpeed'][-1].Energy_Input_Ratio_Function_of_Temperature_Curve_Name = 'HPACCOOLEIRFT'\n",
    "    idf.idfobjects['Coil:Cooling:DX:SingleSpeed'][-1].Energy_Input_Ratio_Function_of_Flow_Fraction_Curve_Name = 'HPACCOOLEIRFFF'\n",
    "    idf.idfobjects['Coil:Cooling:DX:SingleSpeed'][-1].Part_Load_Fraction_Correlation_Curve_Name = 'HPACCOOLPLFFPLR'\n",
    "    \n",
    "idf.save()"
   ]
  },
  {
   "cell_type": "markdown",
   "metadata": {},
   "source": [
    "## Add Coil:Heating:Electric"
   ]
  },
  {
   "cell_type": "code",
   "execution_count": 10,
   "metadata": {},
   "outputs": [],
   "source": [
    "#add zone thermostat control for corridors\n",
    "newZones = ['G Corridor', 'M Corridor', 'T Corridor']\n",
    "\n",
    "for i in range(0, len(newZones)):\n",
    "    \n",
    "    # create a new thermostat control\n",
    "    idf.newidfobject('Coil:Heating:Electric')\n",
    "    \n",
    "    # alter inputs to the newly crated idf object\n",
    "    idf.idfobjects['Coil:Heating:Electric'][-1].Name = ('Supp Heating Coil_' + newZones[i])\n",
    "    idf.idfobjects['Coil:Heating:Electric'][-1].Availability_Schedule_Name = 'always_avail'\n",
    "    idf.idfobjects['Coil:Heating:Electric'][-1].Efficiency = 1\n",
    "    idf.idfobjects['Coil:Heating:Electric'][-1].Nominal_Capacity = 'autosize'\n",
    "    idf.idfobjects['Coil:Heating:Electric'][-1].Air_Inlet_Node_Name = ('Supp Heating Coil Air Inlet Node_' + newZones[i])\n",
    "    idf.idfobjects['Coil:Heating:Electric'][-1].Air_Outlet_Node_Name = ('Air Loop Outlet Node_' + newZones[i])\n",
    "    \n",
    "idf.save()"
   ]
  },
  {
   "cell_type": "markdown",
   "metadata": {},
   "source": [
    "## Add AirLoopHVAC:UnitaryHeatPump:AirToAir "
   ]
  },
  {
   "cell_type": "code",
   "execution_count": 11,
   "metadata": {},
   "outputs": [],
   "source": [
    "#add zone thermostat control for corridors\n",
    "newZones = ['G Corridor', 'M Corridor', 'T Corridor']\n",
    "\n",
    "for i in range(0, len(newZones)):\n",
    "    \n",
    "    # create a new thermostat control\n",
    "    idf.newidfobject('AirLoopHVAC:UnitaryHeatPump:AirToAir')\n",
    "\n",
    "    # alter inputs to the newly crated idf object\n",
    "    idf.idfobjects['AirLoopHVAC:UnitaryHeatPump:AirToAir'][-1].Name = ('Heat Pump_' + newZones[i])\n",
    "    idf.idfobjects['AirLoopHVAC:UnitaryHeatPump:AirToAir'][-1].Availability_Schedule_Name = 'always_avail'\n",
    "    idf.idfobjects['AirLoopHVAC:UnitaryHeatPump:AirToAir'][-1].Air_Inlet_Node_Name = ('Air Loop Inlet node_' + newZones[i]) # added in air loop\n",
    "    idf.idfobjects['AirLoopHVAC:UnitaryHeatPump:AirToAir'][-1].Air_Outlet_Node_Name = ('Air Loop Outlet node_' + newZones[i]) # added in air loop\n",
    "    idf.idfobjects['AirLoopHVAC:UnitaryHeatPump:AirToAir'][-1].Cooling_Supply_Air_Flow_Rate = 'autosize'\n",
    "    idf.idfobjects['AirLoopHVAC:UnitaryHeatPump:AirToAir'][-1].Heating_Supply_Air_Flow_Rate = 'autosize'\n",
    "    idf.idfobjects['AirLoopHVAC:UnitaryHeatPump:AirToAir'][-1].No_Load_Supply_Air_Flow_Rate = 0\n",
    "    idf.idfobjects['AirLoopHVAC:UnitaryHeatPump:AirToAir'][-1].Controlling_Zone_or_Thermostat_Location = newZones[i]\n",
    "    idf.idfobjects['AirLoopHVAC:UnitaryHeatPump:AirToAir'][-1].Supply_Air_Fan_Object_Type = 'Fan:OnOff'\n",
    "    idf.idfobjects['AirLoopHVAC:UnitaryHeatPump:AirToAir'][-1].Supply_Air_Fan_Name = ('Supply Fan_' + newZones[i])\n",
    "    idf.idfobjects['AirLoopHVAC:UnitaryHeatPump:AirToAir'][-1].Heating_Coil_Object_Type = 'Coil:Heating:DX:SingleSpeed' # needs add\n",
    "    idf.idfobjects['AirLoopHVAC:UnitaryHeatPump:AirToAir'][-1].Heating_Coil_Name = ('Main DX Heating Coil_' + newZones[i])\n",
    "    idf.idfobjects['AirLoopHVAC:UnitaryHeatPump:AirToAir'][-1].Cooling_Coil_Object_Type = 'Coil:Cooling:DX:SingleSpeed' #needs add\n",
    "    idf.idfobjects['AirLoopHVAC:UnitaryHeatPump:AirToAir'][-1].Cooling_Coil_Name = ('Dx Cooling Coil_' + newZones[i])\n",
    "    idf.idfobjects['AirLoopHVAC:UnitaryHeatPump:AirToAir'][-1].Supplemental_Heating_Coil_Object_Type = 'Coil:Heating:Electric' # needs add\n",
    "    idf.idfobjects['AirLoopHVAC:UnitaryHeatPump:AirToAir'][-1].Supplemental_Heating_Coil_Name = ('Supp Heating Coil_' + newZones[i])\n",
    "    idf.idfobjects['AirLoopHVAC:UnitaryHeatPump:AirToAir'][-1].Maximum_Supply_Air_Temperature_from_Supplemental_Heater = 50\n",
    "    idf.idfobjects['AirLoopHVAC:UnitaryHeatPump:AirToAir'][-1].Maximum_Outdoor_DryBulb_Temperature_for_Supplemental_Heater_Operation = 10\n",
    "    idf.idfobjects['AirLoopHVAC:UnitaryHeatPump:AirToAir'][-1].Fan_Placement = 'BlowThrough'\n",
    "    idf.idfobjects['AirLoopHVAC:UnitaryHeatPump:AirToAir'][-1].Supply_Air_Fan_Operating_Mode_Schedule_Name = 'fan_cycle'\n",
    "\n",
    "idf.save()"
   ]
  },
  {
   "cell_type": "markdown",
   "metadata": {},
   "source": [
    "## Add AirTerminal:SingleDuct:Uncontrolled"
   ]
  },
  {
   "cell_type": "code",
   "execution_count": 12,
   "metadata": {},
   "outputs": [],
   "source": [
    "#add zone thermostat control for corridors\n",
    "newZones = ['G Corridor', 'M Corridor', 'T Corridor']\n",
    "\n",
    "for i in range(0, len(newZones)):\n",
    "    \n",
    "    # create a new thermostat control\n",
    "    idf.newidfobject('AirTerminal:SingleDuct:Uncontrolled')\n",
    "\n",
    "    # alter inputs to the newly crated idf object\n",
    "    idf.idfobjects['AirTerminal:SingleDuct:Uncontrolled'][-1].Name = ('ZoneDirectAir_' + newZones[i])\n",
    "    idf.idfobjects['AirTerminal:SingleDuct:Uncontrolled'][-1].Availability_Schedule_Name = 'always_avail'\n",
    "    idf.idfobjects['AirTerminal:SingleDuct:Uncontrolled'][-1].Zone_Supply_Air_Node_Name = ('Zone Inlet Node_' + newZones[i])\n",
    "    idf.idfobjects['AirTerminal:SingleDuct:Uncontrolled'][-1].Maximum_Air_Flow_Rate = ('autosize')"
   ]
  },
  {
   "cell_type": "markdown",
   "metadata": {},
   "source": [
    "## Add ZoneHVAC:EquipmentConnections"
   ]
  },
  {
   "cell_type": "code",
   "execution_count": 13,
   "metadata": {},
   "outputs": [],
   "source": [
    "#add zone ZoneHVAC:EquipmentConnections for corridors\n",
    "newZones = ['G Corridor', 'M Corridor', 'T Corridor']\n",
    "\n",
    "for i in range(0, len(newZones)):\n",
    "    \n",
    "    # create a new ZoneHVAC:EquipmentConnections\n",
    "    idf.newidfobject('ZoneHVAC:EquipmentConnections')\n",
    "\n",
    "    # alter inputs to the newly crated idf object\n",
    "    idf.idfobjects['ZoneHVAC:EquipmentConnections'][-1].Zone_Name = newZones[i]\n",
    "    idf.idfobjects['ZoneHVAC:EquipmentConnections'][-1].Zone_Conditioning_Equipment_List_Name = ('ZONEEQUIPMENT_' + newZones[i])\n",
    "    idf.idfobjects['ZoneHVAC:EquipmentConnections'][-1].Zone_Air_Inlet_Node_or_NodeList_Name = ('zone inlet nodes_' + newZones[i])\n",
    "    idf.idfobjects['ZoneHVAC:EquipmentConnections'][-1].Zone_Air_Node_Name = ('Zone Node_' + newZones[i])\n",
    "    idf.idfobjects['ZoneHVAC:EquipmentConnections'][-1].Zone_Return_Air_Node_Name = ('Zone Outlet Node_' + newZones[i])\n",
    "    \n",
    "idf.save() "
   ]
  },
  {
   "cell_type": "markdown",
   "metadata": {},
   "source": [
    "## Add Fan:OnOff"
   ]
  },
  {
   "cell_type": "code",
   "execution_count": 14,
   "metadata": {},
   "outputs": [],
   "source": [
    "#add zone Fan:OnOff for corridors\n",
    "newZones = ['G Corridor', 'M Corridor', 'T Corridor']\n",
    "\n",
    "for i in range(0, len(newZones)):\n",
    "    \n",
    "    # create a new Fan:OnOff\n",
    "    idf.newidfobject('Fan:OnOff')\n",
    "\n",
    "    # alter inputs to the newly crated idf object\n",
    "    idf.idfobjects['Fan:OnOff'][-1].Name = ('Supply Fan_' + newZones[i])\n",
    "    idf.idfobjects['Fan:OnOff'][-1].Availability_Schedule_Name = 'always_avail'\n",
    "    idf.idfobjects['Fan:OnOff'][-1].Fan_Total_Efficiency = 0.377\n",
    "    idf.idfobjects['Fan:OnOff'][-1].Pressure_Rise = 400\n",
    "    idf.idfobjects['Fan:OnOff'][-1].Maximum_Flow_Rate = 'autosize'\n",
    "    idf.idfobjects['Fan:OnOff'][-1].Motor_Efficiency = 0.65\n",
    "    idf.idfobjects['Fan:OnOff'][-1].Motor_In_Airstream_Fraction = 1\n",
    "    idf.idfobjects['Fan:OnOff'][-1].Air_Inlet_Node_Name = ('air loop inlet node_' + newZones[i])\n",
    "    idf.idfobjects['Fan:OnOff'][-1].Air_Outlet_Node_Name = ('cooling coil air inlet node_' + newZones[i])\n",
    "    idf.idfobjects['Fan:OnOff'][-1].EndUse_Subcategory = 'General'\n",
    "    \n",
    "idf.save()"
   ]
  },
  {
   "cell_type": "markdown",
   "metadata": {},
   "source": [
    "## Add ZoneHVAC:EquipmentList"
   ]
  },
  {
   "cell_type": "code",
   "execution_count": 15,
   "metadata": {},
   "outputs": [],
   "source": [
    "#add zone thermostat control for corridors\n",
    "newZones = ['G Corridor', 'M Corridor', 'T Corridor']\n",
    "\n",
    "for i in range(0, len(newZones)):\n",
    "    \n",
    "    # create a new thermostat control\n",
    "    idf.newidfobject('ZoneHVAC:EquipmentList')\n",
    "\n",
    "    # alter inputs to the newly crated idf object\n",
    "    idf.idfobjects['ZoneHVAC:EquipmentList'][-1].Name = ('ZONEEQUIPMENT_' + newZones[i])\n",
    "    idf.idfobjects['ZoneHVAC:EquipmentList'][-1].Zone_Equipment_1_Object_Type = 'AirTerminal:SingleDuct:Uncontrolled'\n",
    "    idf.idfobjects['ZoneHVAC:EquipmentList'][-1].Zone_Equipment_1_Name = ('ZoneDirectAir_' + newZones[i])\n",
    "    idf.idfobjects['ZoneHVAC:EquipmentList'][-1].Zone_Equipment_1_Cooling_Sequence = '@@var1@@'\n",
    "    idf.idfobjects['ZoneHVAC:EquipmentList'][-1].Zone_Equipment_1_Heating_or_NoLoad_Sequence = 1"
   ]
  },
  {
   "cell_type": "markdown",
   "metadata": {},
   "source": [
    "## Add AirLoopHVAC "
   ]
  },
  {
   "cell_type": "code",
   "execution_count": 16,
   "metadata": {},
   "outputs": [],
   "source": [
    "#add zone AirLoopHVAC for corridors\n",
    "newZones = ['G Corridor', 'M Corridor', 'T Corridor']\n",
    "\n",
    "for i in range(0, len(newZones)):\n",
    "    \n",
    "    # create a new AirLoopHVAC\n",
    "    idf.newidfobject('AirLoopHVAC')\n",
    "\n",
    "    # alter inputs to the newly crated idf object\n",
    "    idf.idfobjects['AirLoopHVAC'][-1].Name = ('Central System_' + newZones[i])\n",
    "    idf.idfobjects['AirLoopHVAC'][-1].Availability_Manager_List_Name = 'availability list'\n",
    "    idf.idfobjects['AirLoopHVAC'][-1].Design_Supply_Air_Flow_Rate = 'autosize'\n",
    "    idf.idfobjects['AirLoopHVAC'][-1].Branch_List_Name = ('Air Loop Branches_' + newZones[i])\n",
    "    idf.idfobjects['AirLoopHVAC'][-1].Supply_Side_Inlet_Node_Name = ('Air Loop Inlet Node_' + newZones[i])\n",
    "    idf.idfobjects['AirLoopHVAC'][-1].Demand_Side_Outlet_Node_Name = ('Return Air Mixer Outlet_' + newZones[i])\n",
    "    idf.idfobjects['AirLoopHVAC'][-1].Demand_Side_Inlet_Node_Names = ('Zone Equipment Inlet Node_' + newZones[i])\n",
    "    idf.idfobjects['AirLoopHVAC'][-1].Supply_Side_Outlet_Node_Names = ('Air Loop Outlet Node_' + newZones[i])\n",
    "\n",
    "    \n",
    "idf.save()"
   ]
  },
  {
   "cell_type": "markdown",
   "metadata": {},
   "source": [
    "## Add AirLoopHVAC:ZoneSplitter"
   ]
  },
  {
   "cell_type": "code",
   "execution_count": 17,
   "metadata": {},
   "outputs": [],
   "source": [
    "#add zone AirLoopHVAC:ZoneSplitter for corridors\n",
    "newZones = ['G Corridor', 'M Corridor', 'T Corridor']\n",
    "\n",
    "for i in range(0, len(newZones)):\n",
    "    \n",
    "    # create a new AirLoopHVAC:ZoneSplitter\n",
    "    idf.newidfobject('AirLoopHVAC:ZoneSplitter')\n",
    "\n",
    "    # alter inputs to the newly crated idf object\n",
    "    idf.idfobjects['AirLoopHVAC:ZoneSplitter'][-1].Name = ('Zone Supply Air Splitter_' + newZones[i])\n",
    "    idf.idfobjects['AirLoopHVAC:ZoneSplitter'][-1].Inlet_Node_Name = ('Zone Equipment Inlet Node_' + newZones[i])\n",
    "    idf.idfobjects['AirLoopHVAC:ZoneSplitter'][-1].Outlet_1_Node_Name = ('Zone Inlet Node_' + newZones[i])\n",
    "    \n",
    "idf.save()    "
   ]
  },
  {
   "cell_type": "markdown",
   "metadata": {},
   "source": [
    "## Add AirLoopHVAC:SupplyPath"
   ]
  },
  {
   "cell_type": "code",
   "execution_count": 18,
   "metadata": {},
   "outputs": [],
   "source": [
    "#add zone AirLoopHVAC:SupplyPath for corridors\n",
    "newZones = ['G Corridor', 'M Corridor', 'T Corridor']\n",
    "\n",
    "for i in range(0, len(newZones)):\n",
    "    \n",
    "    # create a new AirLoopHVAC\n",
    "    idf.newidfobject('AirLoopHVAC:SupplyPath')\n",
    "\n",
    "    # alter inputs to the newly crated idf object\n",
    "    idf.idfobjects['AirLoopHVAC:SupplyPath'][-1].Name = ('SupplyPath_' + newZones[i])\n",
    "    idf.idfobjects['AirLoopHVAC:SupplyPath'][-1].Supply_Air_Path_Inlet_Node_Name = ('Zone Equipment Inlet Node_' + newZones[i])\n",
    "    idf.idfobjects['AirLoopHVAC:SupplyPath'][-1].Component_1_Object_Type = 'AirLoopHVAC:ZoneSplitter'\n",
    "    idf.idfobjects['AirLoopHVAC:SupplyPath'][-1].Component_1_Name = ('Zone Supply Air Splitter_' + newZones[i])\n",
    "\n",
    "idf.save()"
   ]
  },
  {
   "cell_type": "markdown",
   "metadata": {},
   "source": [
    "## Add AirLoopHVAC:ZoneMixer"
   ]
  },
  {
   "cell_type": "code",
   "execution_count": 19,
   "metadata": {},
   "outputs": [],
   "source": [
    "#add zone AirLoopHVAC:ZoneMixer for corridors\n",
    "newZones = ['G Corridor', 'M Corridor', 'T Corridor']\n",
    "\n",
    "for i in range(0, len(newZones)):\n",
    "    \n",
    "    # create a new AirLoopHVAC:ZoneMixer\n",
    "    idf.newidfobject('AirLoopHVAC:ZoneMixer')\n",
    "\n",
    "    # alter inputs to the newly crated idf object\n",
    "    idf.idfobjects['AirLoopHVAC:ZoneMixer'][-1].Name = ('Zone Return Air Mixer_' + newZones[i])\n",
    "    idf.idfobjects['AirLoopHVAC:ZoneMixer'][-1].Outlet_Node_Name = ('Return Air Mixer Outlet_' + newZones[i])\n",
    "    idf.idfobjects['AirLoopHVAC:ZoneMixer'][-1].Inlet_1_Node_Name = ('Zone Outlet Node_' + newZones[i])\n",
    "    \n",
    "idf.save()"
   ]
  },
  {
   "cell_type": "markdown",
   "metadata": {},
   "source": [
    "## Add AirLoopHVAC:ReturnPath"
   ]
  },
  {
   "cell_type": "code",
   "execution_count": 20,
   "metadata": {},
   "outputs": [],
   "source": [
    "#add zone AirLoopHVAC:ReturnPath for corridors\n",
    "newZones = ['G Corridor', 'M Corridor', 'T Corridor']\n",
    "\n",
    "for i in range(0, len(newZones)):\n",
    "    \n",
    "    # create a new AirLoopHVAC:ReturnPath\n",
    "    idf.newidfobject('AirLoopHVAC:ReturnPath')\n",
    "\n",
    "    # alter inputs to the newly crated idf object\n",
    "    idf.idfobjects['AirLoopHVAC:ReturnPath'][-1].Name = ('ReturnPath_' + newZones[i])\n",
    "    idf.idfobjects['AirLoopHVAC:ReturnPath'][-1].Return_Air_Path_Outlet_Node_Name = ('Return Air Mixer Outlet_' + newZones[i])\n",
    "    idf.idfobjects['AirLoopHVAC:ReturnPath'][-1].Component_1_Object_Type = 'AirLoopHVAC:ZoneMixer'\n",
    "    idf.idfobjects['AirLoopHVAC:ReturnPath'][-1].Component_1_Name = ('Zone Return Air Mixer_' + newZones[i])\n",
    "    \n",
    "idf.save()"
   ]
  },
  {
   "cell_type": "markdown",
   "metadata": {},
   "source": [
    "## Add Branch"
   ]
  },
  {
   "cell_type": "code",
   "execution_count": 21,
   "metadata": {},
   "outputs": [],
   "source": [
    "#add zone Branch for corridors\n",
    "newZones = ['G Corridor', 'M Corridor', 'T Corridor']\n",
    "\n",
    "for i in range(0, len(newZones)):\n",
    "    \n",
    "    # create a new Branch\n",
    "    idf.newidfobject('Branch')\n",
    "\n",
    "    # alter inputs to the newly crated idf object\n",
    "    idf.idfobjects['Branch'][-1].Name = ('Air Loop Main Branch_' + newZones[i])\n",
    "    idf.idfobjects['Branch'][-1].Component_1_Object_Type = 'AirLoopHVAC:UnitaryHeatPump:AirtoAir'\n",
    "    idf.idfobjects['Branch'][-1].Component_1_Name = ('Heat Pump_' + newZones[i])\n",
    "    idf.idfobjects['Branch'][-1].Component_1_Inlet_Node_Name = ('Air Loop Inlet Node_' + newZones[i])\n",
    "    idf.idfobjects['Branch'][-1].Component_1_Outlet_Node_Name = ('Air Loop Outlet Node_' + newZones[i])\n",
    "    \n",
    "idf.save()"
   ]
  },
  {
   "cell_type": "markdown",
   "metadata": {},
   "source": [
    "## Add BranchList"
   ]
  },
  {
   "cell_type": "code",
   "execution_count": 22,
   "metadata": {},
   "outputs": [],
   "source": [
    "#add zone BranchList for corridors\n",
    "newZones = ['G Corridor', 'M Corridor', 'T Corridor']\n",
    "\n",
    "for i in range(0, len(newZones)):\n",
    "    \n",
    "    # create a new BranchList\n",
    "    idf.newidfobject('BranchList')\n",
    "\n",
    "    # alter inputs to the newly crated idf object\n",
    "    idf.idfobjects['BranchList'][-1].Name = ('Air Loop Branches_' + newZones[i])\n",
    "    idf.idfobjects['BranchList'][-1].Branch_1_Name = ('Air Loop Main Branch_' + newZones[i])\n",
    "    \n",
    "idf.save()"
   ]
  },
  {
   "cell_type": "markdown",
   "metadata": {},
   "source": [
    "## Add NodeList"
   ]
  },
  {
   "cell_type": "code",
   "execution_count": 23,
   "metadata": {},
   "outputs": [],
   "source": [
    "#add zone NodeList for corridors\n",
    "newZones = ['G Corridor', 'M Corridor', 'T Corridor']\n",
    "\n",
    "for i in range(0, len(newZones)):\n",
    "    \n",
    "    # create a new NodeList\n",
    "    idf.newidfobject('NodeList')\n",
    "\n",
    "    # alter inputs to the newly crated idf object\n",
    "    idf.idfobjects['NodeList'][-1].Name = ('Zone Inlet Nodes_' + newZones[i])\n",
    "    idf.idfobjects['NodeList'][-1].Node_1_Name = ('Zone Inlet Node_' + newZones[i])\n",
    "    \n",
    "idf.save()"
   ]
  },
  {
   "cell_type": "markdown",
   "metadata": {},
   "source": [
    "## Add Zone Control: Thermostats"
   ]
  },
  {
   "cell_type": "code",
   "execution_count": 24,
   "metadata": {},
   "outputs": [],
   "source": [
    "#add zone thermostat control for corridors\n",
    "newZones = ['G Corridor', 'M Corridor', 'T Corridor']\n",
    "\n",
    "for i in range(0, len(newZones)):\n",
    "    \n",
    "    # create a new thermostat control\n",
    "    idf.newidfobject('ZoneControl:Thermostat')\n",
    "\n",
    "    # alter inputs to the newly crated idf object\n",
    "    idf.idfobjects['ZoneControl:Thermostat'][-1].Name = ('Zone Thermostat_' + newZones[i])\n",
    "    idf.idfobjects['ZoneControl:Thermostat'][-1].Zone_or_ZoneList_Name = newZones[i]\n",
    "    idf.idfobjects['ZoneControl:Thermostat'][-1].Control_Type_Schedule_Name = 'zone_control_type'\n",
    "    idf.idfobjects['ZoneControl:Thermostat'][-1].Control_1_Object_Type = 'ThermostatSetpoint:DualSetpoint'\n",
    "    idf.idfobjects['ZoneControl:Thermostat'][-1].Control_1_Name = 'thermostat_living Dual SP Control'\n",
    "\n",
    "idf.save()"
   ]
  },
  {
   "cell_type": "code",
   "execution_count": null,
   "metadata": {},
   "outputs": [],
   "source": []
  },
  {
   "cell_type": "code",
   "execution_count": null,
   "metadata": {},
   "outputs": [],
   "source": []
  }
 ],
 "metadata": {
  "kernelspec": {
   "display_name": "Python 3",
   "language": "python",
   "name": "python3"
  },
  "language_info": {
   "codemirror_mode": {
    "name": "ipython",
    "version": 3
   },
   "file_extension": ".py",
   "mimetype": "text/x-python",
   "name": "python",
   "nbconvert_exporter": "python",
   "pygments_lexer": "ipython3",
   "version": "3.7.3"
  }
 },
 "nbformat": 4,
 "nbformat_minor": 2
}
