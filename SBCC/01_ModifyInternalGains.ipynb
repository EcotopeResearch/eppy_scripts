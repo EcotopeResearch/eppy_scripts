{
 "cells": [
  {
   "cell_type": "code",
   "execution_count": 1,
   "metadata": {},
   "outputs": [],
   "source": [
    "import numpy as np\n",
    "import pandas as pd\n",
    "import sys\n",
    "\n",
    "from eppy import hvacbuilder\n",
    "from eppy import modeleditor\n",
    "from eppy.modeleditor import IDF"
   ]
  },
  {
   "cell_type": "code",
   "execution_count": 2,
   "metadata": {},
   "outputs": [],
   "source": [
    "# this function determines what idf version and connects the idd for eppy\n",
    "def eppy_connection(idffile):\n",
    "    fp = open(idffile)\n",
    "    lines=fp.readlines()\n",
    "    vers = \"\"\n",
    "    vers = vers.join(lines[0:20])\n",
    "    vers\n",
    "    if vers.find('8.7') != -1:\n",
    "        print('Using EnergyPlus version 8.7')\n",
    "        iddfile = 'C:\\\\EnergyPlusV8-7-0\\\\Energy+.idd'\n",
    "        IDF.setiddname(iddfile)\n",
    "        idf = IDF(idffile)\n",
    "        return idf\n",
    "    elif vers.find('8.8') != -1:\n",
    "        print('Using EnergyPlus version 8.8')\n",
    "        iddfile = 'C:\\\\EnergyPlusV8-8-0\\\\Energy+.idd'\n",
    "        IDF.setiddname(iddfile)\n",
    "        idf = IDF(idffile)\n",
    "        return idf\n",
    "    elif vers.find('8.9') != -1:\n",
    "        print('Using EnergyPlus version 8.9')\n",
    "        iddfile = 'C:\\\\EnergyPlusV8-9-0\\\\Energy+.idd'\n",
    "        IDF.setiddname(iddfile)\n",
    "        idf = IDF(idffile)\n",
    "        return idf\n",
    "    elif vers.find('9.0') != -1:\n",
    "        print('Using EnergyPlus version 9.0.1')\n",
    "        iddfile = 'C:\\\\EnergyPlusV9-0-1\\\\Energy+.idd'\n",
    "        IDF.setiddname(iddfile)\n",
    "        idf = IDF(idffile)\n",
    "        return idf\n",
    "    else:\n",
    "        print('IDF Type not found on line 3')"
   ]
  },
  {
   "cell_type": "code",
   "execution_count": 3,
   "metadata": {},
   "outputs": [
    {
     "name": "stdout",
     "output_type": "stream",
     "text": [
      "Using EnergyPlus version 9.0.1\n"
     ]
    }
   ],
   "source": [
    "#define paths\n",
    "path = 'C:\\\\Users\\\\scott\\\\github\\\\sbcc-comm\\\\trunk\\\\Models_WSEC-Output\\\\Batch_WSEC_r244_031820\\\\IDF_r244_031820\\\\'\n",
    "name = 'SchlSec_2006A_Spkne - ap.idf'\n",
    "#make connections\n",
    "idf= eppy_connection(path+name)"
   ]
  },
  {
   "cell_type": "markdown",
   "metadata": {},
   "source": [
    "### Get IDF Objects"
   ]
  },
  {
   "cell_type": "code",
   "execution_count": 6,
   "metadata": {},
   "outputs": [],
   "source": [
    "# get all equipment loads\n",
    "elecEquip = idf.idfobjects['ElectricEquipment']\n",
    "gasEquip = idf.idfobjects['GasEquipment']\n",
    "\n",
    "# get all schedules\n",
    "schedYear = idf.idfobjects['Schedule:Year']\n",
    "schedWeek = idf.idfobjects['Schedule:Week:Daily']\n",
    "schedDay = idf.idfobjects['Schedule:Day:Interval']"
   ]
  },
  {
   "cell_type": "markdown",
   "metadata": {},
   "source": [
    "### Get Equipment Loads "
   ]
  },
  {
   "cell_type": "code",
   "execution_count": 7,
   "metadata": {},
   "outputs": [
    {
     "data": {
      "text/plain": [
       "{'Auditorium_ZN_1_FLR_1 Recepticle Loads': 0.4601671739485557,\n",
       " 'Aux_Gym_ZN_1_FLR_1 Recepticle Loads': 0.4601671739485557,\n",
       " 'Bathrooms_ZN_1_FLR_1 Recepticle Loads': 0.3701344660020994,\n",
       " 'Bathrooms_ZN_1_FLR_2 Recepticle Loads': 0.3701344660020994,\n",
       " 'Cafeteria_ZN_1_FLR_1 Recepticle Loads': 1.7906505247128626,\n",
       " 'Corner_Class_1_Pod_1_ZN_1_FLR_1 Recepticle Loads': 0.9303379821133829,\n",
       " 'Corner_Class_1_Pod_1_ZN_1_FLR_2 Recepticle Loads': 0.9303379821133829,\n",
       " 'Corner_Class_1_Pod_2_ZN_1_FLR_1 Recepticle Loads': 0.9303379821133829,\n",
       " 'Corner_Class_1_Pod_2_ZN_1_FLR_2 Recepticle Loads': 0.9303379821133829,\n",
       " 'Corner_Class_1_Pod_3_ZN_1_FLR_1 Recepticle Loads': 0.9303379821133829,\n",
       " 'Corner_Class_1_Pod_3_ZN_1_FLR_2 Recepticle Loads': 0.9303379821133829,\n",
       " 'Corner_Class_2_Pod_1_ZN_1_FLR_1 Recepticle Loads': 0.9303379821133829,\n",
       " 'Corner_Class_2_Pod_1_ZN_1_FLR_2 Recepticle Loads': 0.9303379821133829,\n",
       " 'Corner_Class_2_Pod_2_ZN_1_FLR_1 Recepticle Loads': 0.9303379821133829,\n",
       " 'Corner_Class_2_Pod_2_ZN_1_FLR_2 Recepticle Loads': 0.9303379821133829,\n",
       " 'Corner_Class_2_Pod_3_ZN_1_FLR_1 Recepticle Loads': 0.9303379821133829,\n",
       " 'Corner_Class_2_Pod_3_ZN_1_FLR_2 Recepticle Loads': 0.9303379821133829,\n",
       " 'Corridor_Pod_1_ZN_1_FLR_1 Recepticle Loads': 0.3701344660020994,\n",
       " 'Corridor_Pod_1_ZN_1_FLR_2 Recepticle Loads': 0.3701344660020994,\n",
       " 'Corridor_Pod_2_ZN_1_FLR_1 Recepticle Loads': 0.3701344660020994,\n",
       " 'Corridor_Pod_2_ZN_1_FLR_2 Recepticle Loads': 0.3701344660020994,\n",
       " 'Corridor_Pod_3_ZN_1_FLR_1 Recepticle Loads': 0.3701344660020994,\n",
       " 'Corridor_Pod_3_ZN_1_FLR_2 Recepticle Loads': 0.3701344660020994,\n",
       " 'Gym_ZN_1_FLR_1 Recepticle Loads': 0.4601671739485557,\n",
       " 'Kitchen_ZN_1_FLR_1 Recepticle Loads': 21.45779539390548,\n",
       " 'LIBRARY_MEDIA_CENTER_ZN_1_FLR_2 Recepticle Loads': 0.9303379821133829,\n",
       " 'Lobby_ZN_1_FLR_1 Recepticle Loads': 0.3701344660020994,\n",
       " 'Lobby_ZN_1_FLR_2 Recepticle Loads': 0.3701344660020994,\n",
       " 'Main_Corridor_ZN_1_FLR_1 Recepticle Loads': 0.3701344660020994,\n",
       " 'Main_Corridor_ZN_1_FLR_2 Recepticle Loads': 0.3701344660020994,\n",
       " 'Mech_ZN_1_FLR_1 Process Electric Loads': 0.025509267251496007,\n",
       " 'Mech_ZN_1_FLR_1 Recepticle Loads': 0.3701344660020994,\n",
       " 'Mech_ZN_1_FLR_2 Recepticle Loads': 0.3701344660020994,\n",
       " 'Mult_Class_1_Pod_1_ZN_1_FLR_1 Recepticle Loads': 0.9303379821133829,\n",
       " 'Mult_Class_1_Pod_1_ZN_1_FLR_2 Recepticle Loads': 0.9303379821133829,\n",
       " 'Mult_Class_1_Pod_2_ZN_1_FLR_1 Recepticle Loads': 0.9303379821133829,\n",
       " 'Mult_Class_1_Pod_2_ZN_1_FLR_2 Recepticle Loads': 0.9303379821133829,\n",
       " 'Mult_Class_1_Pod_3_ZN_1_FLR_1 Recepticle Loads': 0.9303379821133829,\n",
       " 'Mult_Class_1_Pod_3_ZN_1_FLR_2 Recepticle Loads': 0.9303379821133829,\n",
       " 'Mult_Class_2_Pod_1_ZN_1_FLR_1 Recepticle Loads': 0.9303379821133829,\n",
       " 'Mult_Class_2_Pod_1_ZN_1_FLR_2 Recepticle Loads': 0.9303379821133829,\n",
       " 'Mult_Class_2_Pod_2_ZN_1_FLR_1 Recepticle Loads': 0.9303379821133829,\n",
       " 'Mult_Class_2_Pod_2_ZN_1_FLR_2 Recepticle Loads': 0.9303379821133829,\n",
       " 'Mult_Class_2_Pod_3_ZN_1_FLR_1 Recepticle Loads': 0.9303379821133829,\n",
       " 'Mult_Class_2_Pod_3_ZN_1_FLR_2 Recepticle Loads': 0.9303379821133829,\n",
       " 'Offices_ZN_1_FLR_1 Recepticle Loads': 1.0003634216272956,\n",
       " 'Offices_ZN_1_FLR_2 Recepticle Loads': 1.0003634216272956}"
      ]
     },
     "execution_count": 7,
     "metadata": {},
     "output_type": "execute_result"
    }
   ],
   "source": [
    "# Create dictionary of equipment names and loads\n",
    "# Create empty dictionary\n",
    "elecEquipLoadArea = {}\n",
    "\n",
    "for i in range(0, len(elecEquip)):\n",
    "    elecEquipLoadArea[elecEquip[i].Name] = (elecEquip[i].Watts_per_Zone_Floor_Area / 10.76)\n",
    "\n",
    "elecEquipLoadArea"
   ]
  },
  {
   "cell_type": "code",
   "execution_count": 6,
   "metadata": {},
   "outputs": [
    {
     "data": {
      "text/plain": [
       "{'Bath_ZN_1_FLR_1 Recepticle Loads': 0.09253361650052486,\n",
       " 'Cafeteria_ZN_1_FLR_1 Recepticle Loads': 0.5902144187601046,\n",
       " 'Computer_Class_ZN_1_FLR_1 Recepticle Loads': 0.46516899105669146,\n",
       " 'Corner_Class_1_Pod_1_ZN_1_FLR_1 Recepticle Loads': 0.3501271975695539,\n",
       " 'Corner_Class_1_Pod_2_ZN_1_FLR_1 Recepticle Loads': 0.3501271975695539,\n",
       " 'Corner_Class_1_Pod_3_ZN_1_FLR_1 Recepticle Loads': 0.3501271975695539,\n",
       " 'Corner_Class_2_Pod_1_ZN_1_FLR_1 Recepticle Loads': 0.3501271975695539,\n",
       " 'Corner_Class_2_Pod_2_ZN_1_FLR_1 Recepticle Loads': 0.3501271975695539,\n",
       " 'Corner_Class_2_Pod_3_ZN_1_FLR_1 Recepticle Loads': 0.3501271975695539,\n",
       " 'Corridor_Pod_1_ZN_1_FLR_1 Recepticle Loads': 0.09253361650052486,\n",
       " 'Corridor_Pod_2_ZN_1_FLR_1 Recepticle Loads': 0.09253361650052486,\n",
       " 'Corridor_Pod_3_ZN_1_FLR_1 Recepticle Loads': 0.09253361650052486,\n",
       " 'Gym_ZN_1_FLR_1 Recepticle Loads': 0.11504179348713893,\n",
       " 'Kitchen_ZN_1_FLR_1 Process Electric Loads': 0.2947220694627254,\n",
       " 'Kitchen_ZN_1_FLR_1 Recepticle Loads': 4.686702630323885,\n",
       " 'Library_Media_Center_ZN_1_FLR_1 Recepticle Loads': 0.3501271975695539,\n",
       " 'Lobby_ZN_1_FLR_1 Recepticle Loads': 0.09253361650052486,\n",
       " 'Main_Corridor_ZN_1_FLR_1 Recepticle Loads': 0.09253361650052486,\n",
       " 'Mech_ZN_1_FLR_1 Recepticle Loads': 0.09253361650052486,\n",
       " 'Mult_Class_1_Pod_1_ZN_1_FLR_1 Recepticle Loads': 0.3501271975695539,\n",
       " 'Mult_Class_1_Pod_2_ZN_1_FLR_1 Recepticle Loads': 0.3501271975695539,\n",
       " 'Mult_Class_1_Pod_3_ZN_1_FLR_1 Recepticle Loads': 0.3501271975695539,\n",
       " 'Mult_Class_2_Pod_1_ZN_1_FLR_1 Recepticle Loads': 0.3501271975695539,\n",
       " 'Mult_Class_2_Pod_2_ZN_1_FLR_1 Recepticle Loads': 0.3501271975695539,\n",
       " 'Mult_Class_2_Pod_3_ZN_1_FLR_1 Recepticle Loads': 0.3501271975695539,\n",
       " 'Offices_ZN_1_FLR_1 Recepticle Loads': 0.2500908554068239}"
      ]
     },
     "execution_count": 6,
     "metadata": {},
     "output_type": "execute_result"
    }
   ],
   "source": [
    "for i in range(0, len(elecEquip)):\n",
    "    elecEquip[i].Watts_per_Zone_Floor_Area = elecEquip[i].Watts_per_Zone_Floor_Area * 0.25\n",
    "\n",
    "elecEquipLoadArea = {}\n",
    "\n",
    "for i in range(0, len(elecEquip)):\n",
    "    elecEquipLoadArea[elecEquip[i].Name] = (elecEquip[i].Watts_per_Zone_Floor_Area / 10.76)\n",
    "\n",
    "#elecEquipLoadArea"
   ]
  },
  {
   "cell_type": "markdown",
   "metadata": {},
   "source": [
    "### Save IDF "
   ]
  },
  {
   "cell_type": "code",
   "execution_count": 7,
   "metadata": {},
   "outputs": [],
   "source": [
    "# DO NOT SAVE UNLESS YOU CHANGE THE DIRECTORY!!\n",
    "#idf.save()"
   ]
  }
 ],
 "metadata": {
  "kernelspec": {
   "display_name": "Python 3",
   "language": "python",
   "name": "python3"
  },
  "language_info": {
   "codemirror_mode": {
    "name": "ipython",
    "version": 3
   },
   "file_extension": ".py",
   "mimetype": "text/x-python",
   "name": "python",
   "nbconvert_exporter": "python",
   "pygments_lexer": "ipython3",
   "version": "3.7.3"
  }
 },
 "nbformat": 4,
 "nbformat_minor": 2
}
